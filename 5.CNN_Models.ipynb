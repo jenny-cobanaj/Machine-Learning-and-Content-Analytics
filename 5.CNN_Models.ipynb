{
 "cells": [
  {
   "cell_type": "markdown",
   "id": "2df824fc",
   "metadata": {},
   "source": [
    "### Athens University of Economics and Business\n",
    "### Department of Management Science & Technology\n",
    "### Msc in Business Analytics\n",
    "\n",
    "### Course : Machine Learning & Content Analytics\n",
    "* Instructors : H.Papageorgiou, G.Perakis\n",
    "* Students : Xheni Cobanaj (f2822117), Nikolaos Matzakos (f2822107), Dimitris Papageorgiou (f2822109)"
   ]
  },
  {
   "cell_type": "markdown",
   "id": "fF6D_eypDYo7",
   "metadata": {
    "id": "fF6D_eypDYo7"
   },
   "source": [
    "* Import of necessary libraries :"
   ]
  },
  {
   "cell_type": "code",
   "execution_count": 1,
   "id": "432351e9",
   "metadata": {
    "id": "432351e9"
   },
   "outputs": [],
   "source": [
    "import pandas as pd\n",
    "import numpy as np\n",
    "import matplotlib.pyplot as plt\n",
    "import seaborn as sns\n",
    "from collections import Counter\n",
    "from IPython.display import Image\n",
    "from IPython.core.display import HTML \n",
    "\n",
    "%matplotlib inline\n",
    "\n",
    "import re\n",
    "import itertools\n",
    "import string\n",
    "import collections\n",
    "from collections import Counter\n",
    "from sklearn.preprocessing import LabelEncoder\n",
    "import nltk\n",
    "from nltk.corpus import stopwords\n",
    "from nltk import word_tokenize\n",
    "from nltk.tokenize import word_tokenize\n",
    "from nltk.stem import PorterStemmer, WordNetLemmatizer\n",
    "import tensorflow as tf\n",
    "from tensorflow.python.keras.models import Sequential\n",
    "from tensorflow.python.keras.layers import Dense,Embedding,Flatten,Dropout,Activation\n",
    "from tensorflow.python.keras import metrics,regularizers\n",
    "from tensorflow.keras.preprocessing.sequence import pad_sequences\n",
    "from tensorflow.keras.preprocessing.text import Tokenizer\n",
    "from tensorflow.keras.utils import plot_model\n",
    "from tensorflow.python.keras.callbacks import EarlyStopping\n",
    "from tensorflow.keras.layers import BatchNormalization\n",
    "from tensorflow.keras.optimizers import RMSprop\n",
    "from sklearn.model_selection import train_test_split\n",
    "from tensorflow.python.keras.models import Model\n",
    "from tensorflow.keras.layers import LSTM, Input, Concatenate, Bidirectional, concatenate\n",
    "from tqdm import tqdm\n",
    "from tensorflow.keras.layers import Embedding, Conv1D, GlobalMaxPooling1D , MaxPooling1D\n",
    "from keras.layers.core import Reshape, Flatten\n",
    "from tensorflow.python.keras.callbacks import ModelCheckpoint, ReduceLROnPlateau, EarlyStopping, TensorBoard"
   ]
  },
  {
   "cell_type": "code",
   "execution_count": 2,
   "id": "AXM_HT6umSjj",
   "metadata": {
    "id": "AXM_HT6umSjj"
   },
   "outputs": [],
   "source": [
    "#!pip install tensorflow==2.8\n",
    "#!apt install --allow-change-held-packages libcudnn8=8.1.0.77-1+cuda11.2"
   ]
  },
  {
   "cell_type": "code",
   "execution_count": 3,
   "id": "c5953bfb",
   "metadata": {
    "id": "c5953bfb"
   },
   "outputs": [],
   "source": [
    "# df = pd.read_csv(\"mbti_1.csv\",header=0)\n",
    "# df.head()"
   ]
  },
  {
   "cell_type": "code",
   "execution_count": 4,
   "id": "fqqkJ6ZkVdOV",
   "metadata": {
    "colab": {
     "base_uri": "https://localhost:8080/"
    },
    "id": "fqqkJ6ZkVdOV",
    "outputId": "125ef1b4-8781-4260-ed4c-a1b43d72d9c4"
   },
   "outputs": [
    {
     "name": "stdout",
     "output_type": "stream",
     "text": [
      "Drive already mounted at /content/drive; to attempt to forcibly remount, call drive.mount(\"/content/drive\", force_remount=True).\n"
     ]
    }
   ],
   "source": [
    "from google.colab import drive\n",
    "drive.mount('/content/drive')"
   ]
  },
  {
   "cell_type": "code",
   "execution_count": 5,
   "id": "OYTTy3B9WAXl",
   "metadata": {
    "colab": {
     "base_uri": "https://localhost:8080/"
    },
    "id": "OYTTy3B9WAXl",
    "outputId": "b992935f-04ff-457d-fd3a-67bfd5b8ce2b"
   },
   "outputs": [
    {
     "name": "stdout",
     "output_type": "stream",
     "text": [
      "/bin/bash: ls /content/drive/MyDrive/mbti_1.csv: No such file or directory\n"
     ]
    }
   ],
   "source": [
    "# After executing the cell above, Drive\n",
    "# files will be present in \"/content/drive/My Drive\".\n",
    "!ls \"/content/drive/MyDrive/mbti_1.csv\""
   ]
  },
  {
   "cell_type": "code",
   "execution_count": 7,
   "id": "nVtSgu1YWC-1",
   "metadata": {
    "colab": {
     "base_uri": "https://localhost:8080/",
     "height": 206
    },
    "id": "nVtSgu1YWC-1",
    "outputId": "c8a11889-d80c-4fb0-d46c-2efd8c03d98e"
   },
   "outputs": [
    {
     "data": {
      "text/html": [
       "\n",
       "  <div id=\"df-2dc51e66-d5fe-421e-914b-2f021580c768\">\n",
       "    <div class=\"colab-df-container\">\n",
       "      <div>\n",
       "<style scoped>\n",
       "    .dataframe tbody tr th:only-of-type {\n",
       "        vertical-align: middle;\n",
       "    }\n",
       "\n",
       "    .dataframe tbody tr th {\n",
       "        vertical-align: top;\n",
       "    }\n",
       "\n",
       "    .dataframe thead th {\n",
       "        text-align: right;\n",
       "    }\n",
       "</style>\n",
       "<table border=\"1\" class=\"dataframe\">\n",
       "  <thead>\n",
       "    <tr style=\"text-align: right;\">\n",
       "      <th></th>\n",
       "      <th>type</th>\n",
       "      <th>posts</th>\n",
       "    </tr>\n",
       "  </thead>\n",
       "  <tbody>\n",
       "    <tr>\n",
       "      <th>0</th>\n",
       "      <td>INFJ</td>\n",
       "      <td>'http://www.youtube.com/watch?v=qsXHcwe3krw|||...</td>\n",
       "    </tr>\n",
       "    <tr>\n",
       "      <th>1</th>\n",
       "      <td>ENTP</td>\n",
       "      <td>'I'm finding the lack of me in these posts ver...</td>\n",
       "    </tr>\n",
       "    <tr>\n",
       "      <th>2</th>\n",
       "      <td>INTP</td>\n",
       "      <td>'Good one  _____   https://www.youtube.com/wat...</td>\n",
       "    </tr>\n",
       "    <tr>\n",
       "      <th>3</th>\n",
       "      <td>INTJ</td>\n",
       "      <td>'Dear INTP,   I enjoyed our conversation the o...</td>\n",
       "    </tr>\n",
       "    <tr>\n",
       "      <th>4</th>\n",
       "      <td>ENTJ</td>\n",
       "      <td>'You're fired.|||That's another silly misconce...</td>\n",
       "    </tr>\n",
       "  </tbody>\n",
       "</table>\n",
       "</div>\n",
       "      <button class=\"colab-df-convert\" onclick=\"convertToInteractive('df-2dc51e66-d5fe-421e-914b-2f021580c768')\"\n",
       "              title=\"Convert this dataframe to an interactive table.\"\n",
       "              style=\"display:none;\">\n",
       "        \n",
       "  <svg xmlns=\"http://www.w3.org/2000/svg\" height=\"24px\"viewBox=\"0 0 24 24\"\n",
       "       width=\"24px\">\n",
       "    <path d=\"M0 0h24v24H0V0z\" fill=\"none\"/>\n",
       "    <path d=\"M18.56 5.44l.94 2.06.94-2.06 2.06-.94-2.06-.94-.94-2.06-.94 2.06-2.06.94zm-11 1L8.5 8.5l.94-2.06 2.06-.94-2.06-.94L8.5 2.5l-.94 2.06-2.06.94zm10 10l.94 2.06.94-2.06 2.06-.94-2.06-.94-.94-2.06-.94 2.06-2.06.94z\"/><path d=\"M17.41 7.96l-1.37-1.37c-.4-.4-.92-.59-1.43-.59-.52 0-1.04.2-1.43.59L10.3 9.45l-7.72 7.72c-.78.78-.78 2.05 0 2.83L4 21.41c.39.39.9.59 1.41.59.51 0 1.02-.2 1.41-.59l7.78-7.78 2.81-2.81c.8-.78.8-2.07 0-2.86zM5.41 20L4 18.59l7.72-7.72 1.47 1.35L5.41 20z\"/>\n",
       "  </svg>\n",
       "      </button>\n",
       "      \n",
       "  <style>\n",
       "    .colab-df-container {\n",
       "      display:flex;\n",
       "      flex-wrap:wrap;\n",
       "      gap: 12px;\n",
       "    }\n",
       "\n",
       "    .colab-df-convert {\n",
       "      background-color: #E8F0FE;\n",
       "      border: none;\n",
       "      border-radius: 50%;\n",
       "      cursor: pointer;\n",
       "      display: none;\n",
       "      fill: #1967D2;\n",
       "      height: 32px;\n",
       "      padding: 0 0 0 0;\n",
       "      width: 32px;\n",
       "    }\n",
       "\n",
       "    .colab-df-convert:hover {\n",
       "      background-color: #E2EBFA;\n",
       "      box-shadow: 0px 1px 2px rgba(60, 64, 67, 0.3), 0px 1px 3px 1px rgba(60, 64, 67, 0.15);\n",
       "      fill: #174EA6;\n",
       "    }\n",
       "\n",
       "    [theme=dark] .colab-df-convert {\n",
       "      background-color: #3B4455;\n",
       "      fill: #D2E3FC;\n",
       "    }\n",
       "\n",
       "    [theme=dark] .colab-df-convert:hover {\n",
       "      background-color: #434B5C;\n",
       "      box-shadow: 0px 1px 3px 1px rgba(0, 0, 0, 0.15);\n",
       "      filter: drop-shadow(0px 1px 2px rgba(0, 0, 0, 0.3));\n",
       "      fill: #FFFFFF;\n",
       "    }\n",
       "  </style>\n",
       "\n",
       "      <script>\n",
       "        const buttonEl =\n",
       "          document.querySelector('#df-2dc51e66-d5fe-421e-914b-2f021580c768 button.colab-df-convert');\n",
       "        buttonEl.style.display =\n",
       "          google.colab.kernel.accessAllowed ? 'block' : 'none';\n",
       "\n",
       "        async function convertToInteractive(key) {\n",
       "          const element = document.querySelector('#df-2dc51e66-d5fe-421e-914b-2f021580c768');\n",
       "          const dataTable =\n",
       "            await google.colab.kernel.invokeFunction('convertToInteractive',\n",
       "                                                     [key], {});\n",
       "          if (!dataTable) return;\n",
       "\n",
       "          const docLinkHtml = 'Like what you see? Visit the ' +\n",
       "            '<a target=\"_blank\" href=https://colab.research.google.com/notebooks/data_table.ipynb>data table notebook</a>'\n",
       "            + ' to learn more about interactive tables.';\n",
       "          element.innerHTML = '';\n",
       "          dataTable['output_type'] = 'display_data';\n",
       "          await google.colab.output.renderOutput(dataTable, element);\n",
       "          const docLink = document.createElement('div');\n",
       "          docLink.innerHTML = docLinkHtml;\n",
       "          element.appendChild(docLink);\n",
       "        }\n",
       "      </script>\n",
       "    </div>\n",
       "  </div>\n",
       "  "
      ],
      "text/plain": [
       "   type                                              posts\n",
       "0  INFJ  'http://www.youtube.com/watch?v=qsXHcwe3krw|||...\n",
       "1  ENTP  'I'm finding the lack of me in these posts ver...\n",
       "2  INTP  'Good one  _____   https://www.youtube.com/wat...\n",
       "3  INTJ  'Dear INTP,   I enjoyed our conversation the o...\n",
       "4  ENTJ  'You're fired.|||That's another silly misconce..."
      ]
     },
     "execution_count": 7,
     "metadata": {},
     "output_type": "execute_result"
    }
   ],
   "source": [
    "df=pd.read_csv(\"/content/drive/MyDrive/mbti_1.zip\",header=0)\n",
    "df.head()"
   ]
  },
  {
   "cell_type": "markdown",
   "id": "svhPcWw2Dex5",
   "metadata": {
    "id": "svhPcWw2Dex5"
   },
   "source": [
    "# **Data Cleaning & Preparation**"
   ]
  },
  {
   "cell_type": "code",
   "execution_count": 8,
   "id": "40f42460",
   "metadata": {
    "id": "40f42460"
   },
   "outputs": [],
   "source": [
    "def text_cleaning(text):\n",
    "  \n",
    "  # make all characters lowercase\n",
    "  text = text.lower()\n",
    "\n",
    "  # removing the posts delimiter  \n",
    "  text = text.replace(\"|\",\" \") \n",
    "\n",
    "  # removing the urls\n",
    "  text = re.sub(r'https?:\\/\\/.*?[\\s+]', '',text)\n",
    "\n",
    "  # removing Punctation\n",
    "  text = re.sub('[%s]*' % string.punctuation, '',text)\n",
    "\n",
    "  # removing numbers\n",
    "  text = re.sub('[0-9]+','', text)\n",
    "   \n",
    "  # removing non-words \n",
    "  text = re.sub(r'[^a-zA-Z\\s]','',text)\n",
    "\n",
    "  # removing the personallity type codes \n",
    "  pers_types = ['INFP' ,'INFJ', 'INTP', 'INTJ', 'ENTP', 'ENFP', 'ISTP' ,'ISFP' ,'ENTJ', 'ISTJ','ENFJ', 'ISFJ' ,'ESTP', 'ESFP' ,'ESFJ' ,'ESTJ']\n",
    "  pers_types = [p.lower() for p in pers_types]\n",
    "  \n",
    "  for t in pers_types:\n",
    "      text = text.replace(t,\"\")\n",
    "\n",
    "\n",
    "  # removing big spaces\n",
    "  text = re.sub(' +', ' ', text) \n",
    "\n",
    "  \n",
    "\n",
    "  return(text)  "
   ]
  },
  {
   "cell_type": "code",
   "execution_count": 9,
   "id": "6bf666e6",
   "metadata": {
    "id": "6bf666e6"
   },
   "outputs": [],
   "source": [
    "# function for producing the four binary target variables\n",
    "def categories(df):\n",
    "  df['Extraversion'] = ''\n",
    "  df['Sensing'] = ''\n",
    "  df['Thinking'] = ''\n",
    "  df['Judging'] = ''\n",
    "\n",
    "  for i in df.index:    \n",
    "    if \"E\" in df['type'][i]:\n",
    "      df['Extraversion'][i] = 1\n",
    "    else:\n",
    "      df['Extraversion'][i] = 0\n",
    "\n",
    "    if \"S\" in df['type'][i]:\n",
    "      df['Sensing'][i] = 1\n",
    "    else:\n",
    "      df['Sensing'][i] = 0\n",
    "    \n",
    "    if \"T\" in df['type'][i]:\n",
    "      df['Thinking'][i] = 1\n",
    "    else:\n",
    "      df['Thinking'][i] = 0\n",
    "    \n",
    "    if \"J\" in df['type'][i]:\n",
    "      df['Judging'][i] = 1\n",
    "    else:\n",
    "      df['Judging'][i] = 0\n",
    "  return(df)"
   ]
  },
  {
   "cell_type": "code",
   "execution_count": 10,
   "id": "bc5ae84b",
   "metadata": {
    "id": "bc5ae84b"
   },
   "outputs": [],
   "source": [
    "data = df.copy()"
   ]
  },
  {
   "cell_type": "code",
   "execution_count": 11,
   "id": "8a87664a",
   "metadata": {
    "colab": {
     "base_uri": "https://localhost:8080/",
     "height": 206
    },
    "id": "8a87664a",
    "outputId": "78933597-aeec-4a53-93a0-9ab7122c21be"
   },
   "outputs": [
    {
     "data": {
      "text/html": [
       "\n",
       "  <div id=\"df-eb88e003-cc3f-4b1b-ab1a-51fe9460708a\">\n",
       "    <div class=\"colab-df-container\">\n",
       "      <div>\n",
       "<style scoped>\n",
       "    .dataframe tbody tr th:only-of-type {\n",
       "        vertical-align: middle;\n",
       "    }\n",
       "\n",
       "    .dataframe tbody tr th {\n",
       "        vertical-align: top;\n",
       "    }\n",
       "\n",
       "    .dataframe thead th {\n",
       "        text-align: right;\n",
       "    }\n",
       "</style>\n",
       "<table border=\"1\" class=\"dataframe\">\n",
       "  <thead>\n",
       "    <tr style=\"text-align: right;\">\n",
       "      <th></th>\n",
       "      <th>index</th>\n",
       "      <th>type</th>\n",
       "      <th>posts</th>\n",
       "      <th>tokens</th>\n",
       "    </tr>\n",
       "  </thead>\n",
       "  <tbody>\n",
       "    <tr>\n",
       "      <th>0</th>\n",
       "      <td>0</td>\n",
       "      <td>INFJ</td>\n",
       "      <td>'http://www.youtube.com/watch?v=qsXHcwe3krw|||...</td>\n",
       "      <td>'http://www.youtube.com/watch?v=qsXHcwe3krw</td>\n",
       "    </tr>\n",
       "    <tr>\n",
       "      <th>1</th>\n",
       "      <td>0</td>\n",
       "      <td>INFJ</td>\n",
       "      <td>'http://www.youtube.com/watch?v=qsXHcwe3krw|||...</td>\n",
       "      <td>http://41.media.tumblr.com/tumblr_lfouy03PMA1q...</td>\n",
       "    </tr>\n",
       "    <tr>\n",
       "      <th>2</th>\n",
       "      <td>0</td>\n",
       "      <td>INFJ</td>\n",
       "      <td>'http://www.youtube.com/watch?v=qsXHcwe3krw|||...</td>\n",
       "      <td>enfp and intj moments  https://www.youtube.com...</td>\n",
       "    </tr>\n",
       "    <tr>\n",
       "      <th>3</th>\n",
       "      <td>0</td>\n",
       "      <td>INFJ</td>\n",
       "      <td>'http://www.youtube.com/watch?v=qsXHcwe3krw|||...</td>\n",
       "      <td>What has been the most life-changing experienc...</td>\n",
       "    </tr>\n",
       "    <tr>\n",
       "      <th>4</th>\n",
       "      <td>0</td>\n",
       "      <td>INFJ</td>\n",
       "      <td>'http://www.youtube.com/watch?v=qsXHcwe3krw|||...</td>\n",
       "      <td>http://www.youtube.com/watch?v=vXZeYwwRDw8   h...</td>\n",
       "    </tr>\n",
       "  </tbody>\n",
       "</table>\n",
       "</div>\n",
       "      <button class=\"colab-df-convert\" onclick=\"convertToInteractive('df-eb88e003-cc3f-4b1b-ab1a-51fe9460708a')\"\n",
       "              title=\"Convert this dataframe to an interactive table.\"\n",
       "              style=\"display:none;\">\n",
       "        \n",
       "  <svg xmlns=\"http://www.w3.org/2000/svg\" height=\"24px\"viewBox=\"0 0 24 24\"\n",
       "       width=\"24px\">\n",
       "    <path d=\"M0 0h24v24H0V0z\" fill=\"none\"/>\n",
       "    <path d=\"M18.56 5.44l.94 2.06.94-2.06 2.06-.94-2.06-.94-.94-2.06-.94 2.06-2.06.94zm-11 1L8.5 8.5l.94-2.06 2.06-.94-2.06-.94L8.5 2.5l-.94 2.06-2.06.94zm10 10l.94 2.06.94-2.06 2.06-.94-2.06-.94-.94-2.06-.94 2.06-2.06.94z\"/><path d=\"M17.41 7.96l-1.37-1.37c-.4-.4-.92-.59-1.43-.59-.52 0-1.04.2-1.43.59L10.3 9.45l-7.72 7.72c-.78.78-.78 2.05 0 2.83L4 21.41c.39.39.9.59 1.41.59.51 0 1.02-.2 1.41-.59l7.78-7.78 2.81-2.81c.8-.78.8-2.07 0-2.86zM5.41 20L4 18.59l7.72-7.72 1.47 1.35L5.41 20z\"/>\n",
       "  </svg>\n",
       "      </button>\n",
       "      \n",
       "  <style>\n",
       "    .colab-df-container {\n",
       "      display:flex;\n",
       "      flex-wrap:wrap;\n",
       "      gap: 12px;\n",
       "    }\n",
       "\n",
       "    .colab-df-convert {\n",
       "      background-color: #E8F0FE;\n",
       "      border: none;\n",
       "      border-radius: 50%;\n",
       "      cursor: pointer;\n",
       "      display: none;\n",
       "      fill: #1967D2;\n",
       "      height: 32px;\n",
       "      padding: 0 0 0 0;\n",
       "      width: 32px;\n",
       "    }\n",
       "\n",
       "    .colab-df-convert:hover {\n",
       "      background-color: #E2EBFA;\n",
       "      box-shadow: 0px 1px 2px rgba(60, 64, 67, 0.3), 0px 1px 3px 1px rgba(60, 64, 67, 0.15);\n",
       "      fill: #174EA6;\n",
       "    }\n",
       "\n",
       "    [theme=dark] .colab-df-convert {\n",
       "      background-color: #3B4455;\n",
       "      fill: #D2E3FC;\n",
       "    }\n",
       "\n",
       "    [theme=dark] .colab-df-convert:hover {\n",
       "      background-color: #434B5C;\n",
       "      box-shadow: 0px 1px 3px 1px rgba(0, 0, 0, 0.15);\n",
       "      filter: drop-shadow(0px 1px 2px rgba(0, 0, 0, 0.3));\n",
       "      fill: #FFFFFF;\n",
       "    }\n",
       "  </style>\n",
       "\n",
       "      <script>\n",
       "        const buttonEl =\n",
       "          document.querySelector('#df-eb88e003-cc3f-4b1b-ab1a-51fe9460708a button.colab-df-convert');\n",
       "        buttonEl.style.display =\n",
       "          google.colab.kernel.accessAllowed ? 'block' : 'none';\n",
       "\n",
       "        async function convertToInteractive(key) {\n",
       "          const element = document.querySelector('#df-eb88e003-cc3f-4b1b-ab1a-51fe9460708a');\n",
       "          const dataTable =\n",
       "            await google.colab.kernel.invokeFunction('convertToInteractive',\n",
       "                                                     [key], {});\n",
       "          if (!dataTable) return;\n",
       "\n",
       "          const docLinkHtml = 'Like what you see? Visit the ' +\n",
       "            '<a target=\"_blank\" href=https://colab.research.google.com/notebooks/data_table.ipynb>data table notebook</a>'\n",
       "            + ' to learn more about interactive tables.';\n",
       "          element.innerHTML = '';\n",
       "          dataTable['output_type'] = 'display_data';\n",
       "          await google.colab.output.renderOutput(dataTable, element);\n",
       "          const docLink = document.createElement('div');\n",
       "          docLink.innerHTML = docLinkHtml;\n",
       "          element.appendChild(docLink);\n",
       "        }\n",
       "      </script>\n",
       "    </div>\n",
       "  </div>\n",
       "  "
      ],
      "text/plain": [
       "   index  type                                              posts  \\\n",
       "0      0  INFJ  'http://www.youtube.com/watch?v=qsXHcwe3krw|||...   \n",
       "1      0  INFJ  'http://www.youtube.com/watch?v=qsXHcwe3krw|||...   \n",
       "2      0  INFJ  'http://www.youtube.com/watch?v=qsXHcwe3krw|||...   \n",
       "3      0  INFJ  'http://www.youtube.com/watch?v=qsXHcwe3krw|||...   \n",
       "4      0  INFJ  'http://www.youtube.com/watch?v=qsXHcwe3krw|||...   \n",
       "\n",
       "                                              tokens  \n",
       "0        'http://www.youtube.com/watch?v=qsXHcwe3krw  \n",
       "1  http://41.media.tumblr.com/tumblr_lfouy03PMA1q...  \n",
       "2  enfp and intj moments  https://www.youtube.com...  \n",
       "3  What has been the most life-changing experienc...  \n",
       "4  http://www.youtube.com/watch?v=vXZeYwwRDw8   h...  "
      ]
     },
     "execution_count": 11,
     "metadata": {},
     "output_type": "execute_result"
    }
   ],
   "source": [
    "data['tokens'] = data['posts'].apply(lambda s : s.split('|||'))\n",
    "data = data.explode('tokens').reset_index()\n",
    "data.head()"
   ]
  },
  {
   "cell_type": "code",
   "execution_count": 12,
   "id": "cc986175",
   "metadata": {
    "id": "cc986175"
   },
   "outputs": [],
   "source": [
    "data['tokens'] = data.tokens.str.split()"
   ]
  },
  {
   "cell_type": "code",
   "execution_count": 13,
   "id": "85ce45f8",
   "metadata": {
    "id": "85ce45f8"
   },
   "outputs": [],
   "source": [
    "data['selected_tokens'] = data.tokens.apply(lambda arr : ' '.join(arr[:6]))"
   ]
  },
  {
   "cell_type": "code",
   "execution_count": 14,
   "id": "98862708",
   "metadata": {
    "colab": {
     "base_uri": "https://localhost:8080/",
     "height": 424
    },
    "id": "98862708",
    "outputId": "517f8069-06ee-4d1f-e809-4f7daa3599e5"
   },
   "outputs": [
    {
     "data": {
      "text/html": [
       "\n",
       "  <div id=\"df-e2b9575c-ef8b-4bbc-abde-91ccf218310c\">\n",
       "    <div class=\"colab-df-container\">\n",
       "      <div>\n",
       "<style scoped>\n",
       "    .dataframe tbody tr th:only-of-type {\n",
       "        vertical-align: middle;\n",
       "    }\n",
       "\n",
       "    .dataframe tbody tr th {\n",
       "        vertical-align: top;\n",
       "    }\n",
       "\n",
       "    .dataframe thead th {\n",
       "        text-align: right;\n",
       "    }\n",
       "</style>\n",
       "<table border=\"1\" class=\"dataframe\">\n",
       "  <thead>\n",
       "    <tr style=\"text-align: right;\">\n",
       "      <th></th>\n",
       "      <th>selected_tokens</th>\n",
       "      <th>type</th>\n",
       "    </tr>\n",
       "  </thead>\n",
       "  <tbody>\n",
       "    <tr>\n",
       "      <th>0</th>\n",
       "      <td>'http://www.youtube.com/watch?v=qsXHcwe3krw ht...</td>\n",
       "      <td>INFJ</td>\n",
       "    </tr>\n",
       "    <tr>\n",
       "      <th>1</th>\n",
       "      <td>'I'm finding the lack of me Sex can be boring ...</td>\n",
       "      <td>ENTP</td>\n",
       "    </tr>\n",
       "    <tr>\n",
       "      <th>2</th>\n",
       "      <td>'Good one _____ https://www.youtube.com/watch?...</td>\n",
       "      <td>INTP</td>\n",
       "    </tr>\n",
       "    <tr>\n",
       "      <th>3</th>\n",
       "      <td>'Dear INTP, I enjoyed our conversation Dear EN...</td>\n",
       "      <td>INTJ</td>\n",
       "    </tr>\n",
       "    <tr>\n",
       "      <th>4</th>\n",
       "      <td>'You're fired. That's another silly misconcept...</td>\n",
       "      <td>ENTJ</td>\n",
       "    </tr>\n",
       "    <tr>\n",
       "      <th>...</th>\n",
       "      <td>...</td>\n",
       "      <td>...</td>\n",
       "    </tr>\n",
       "    <tr>\n",
       "      <th>8670</th>\n",
       "      <td>'https://www.youtube.com/watch?v=t8edHB_h908 I...</td>\n",
       "      <td>ISFP</td>\n",
       "    </tr>\n",
       "    <tr>\n",
       "      <th>8671</th>\n",
       "      <td>'So...if this thread already exists someplace ...</td>\n",
       "      <td>ENFP</td>\n",
       "    </tr>\n",
       "    <tr>\n",
       "      <th>8672</th>\n",
       "      <td>'So many questions when i do I worked in a bre...</td>\n",
       "      <td>INTP</td>\n",
       "    </tr>\n",
       "    <tr>\n",
       "      <th>8673</th>\n",
       "      <td>'I am very conflicted right now If I had to gu...</td>\n",
       "      <td>INFP</td>\n",
       "    </tr>\n",
       "    <tr>\n",
       "      <th>8674</th>\n",
       "      <td>'It has been too long since http://www.youtube...</td>\n",
       "      <td>INFP</td>\n",
       "    </tr>\n",
       "  </tbody>\n",
       "</table>\n",
       "<p>8675 rows × 2 columns</p>\n",
       "</div>\n",
       "      <button class=\"colab-df-convert\" onclick=\"convertToInteractive('df-e2b9575c-ef8b-4bbc-abde-91ccf218310c')\"\n",
       "              title=\"Convert this dataframe to an interactive table.\"\n",
       "              style=\"display:none;\">\n",
       "        \n",
       "  <svg xmlns=\"http://www.w3.org/2000/svg\" height=\"24px\"viewBox=\"0 0 24 24\"\n",
       "       width=\"24px\">\n",
       "    <path d=\"M0 0h24v24H0V0z\" fill=\"none\"/>\n",
       "    <path d=\"M18.56 5.44l.94 2.06.94-2.06 2.06-.94-2.06-.94-.94-2.06-.94 2.06-2.06.94zm-11 1L8.5 8.5l.94-2.06 2.06-.94-2.06-.94L8.5 2.5l-.94 2.06-2.06.94zm10 10l.94 2.06.94-2.06 2.06-.94-2.06-.94-.94-2.06-.94 2.06-2.06.94z\"/><path d=\"M17.41 7.96l-1.37-1.37c-.4-.4-.92-.59-1.43-.59-.52 0-1.04.2-1.43.59L10.3 9.45l-7.72 7.72c-.78.78-.78 2.05 0 2.83L4 21.41c.39.39.9.59 1.41.59.51 0 1.02-.2 1.41-.59l7.78-7.78 2.81-2.81c.8-.78.8-2.07 0-2.86zM5.41 20L4 18.59l7.72-7.72 1.47 1.35L5.41 20z\"/>\n",
       "  </svg>\n",
       "      </button>\n",
       "      \n",
       "  <style>\n",
       "    .colab-df-container {\n",
       "      display:flex;\n",
       "      flex-wrap:wrap;\n",
       "      gap: 12px;\n",
       "    }\n",
       "\n",
       "    .colab-df-convert {\n",
       "      background-color: #E8F0FE;\n",
       "      border: none;\n",
       "      border-radius: 50%;\n",
       "      cursor: pointer;\n",
       "      display: none;\n",
       "      fill: #1967D2;\n",
       "      height: 32px;\n",
       "      padding: 0 0 0 0;\n",
       "      width: 32px;\n",
       "    }\n",
       "\n",
       "    .colab-df-convert:hover {\n",
       "      background-color: #E2EBFA;\n",
       "      box-shadow: 0px 1px 2px rgba(60, 64, 67, 0.3), 0px 1px 3px 1px rgba(60, 64, 67, 0.15);\n",
       "      fill: #174EA6;\n",
       "    }\n",
       "\n",
       "    [theme=dark] .colab-df-convert {\n",
       "      background-color: #3B4455;\n",
       "      fill: #D2E3FC;\n",
       "    }\n",
       "\n",
       "    [theme=dark] .colab-df-convert:hover {\n",
       "      background-color: #434B5C;\n",
       "      box-shadow: 0px 1px 3px 1px rgba(0, 0, 0, 0.15);\n",
       "      filter: drop-shadow(0px 1px 2px rgba(0, 0, 0, 0.3));\n",
       "      fill: #FFFFFF;\n",
       "    }\n",
       "  </style>\n",
       "\n",
       "      <script>\n",
       "        const buttonEl =\n",
       "          document.querySelector('#df-e2b9575c-ef8b-4bbc-abde-91ccf218310c button.colab-df-convert');\n",
       "        buttonEl.style.display =\n",
       "          google.colab.kernel.accessAllowed ? 'block' : 'none';\n",
       "\n",
       "        async function convertToInteractive(key) {\n",
       "          const element = document.querySelector('#df-e2b9575c-ef8b-4bbc-abde-91ccf218310c');\n",
       "          const dataTable =\n",
       "            await google.colab.kernel.invokeFunction('convertToInteractive',\n",
       "                                                     [key], {});\n",
       "          if (!dataTable) return;\n",
       "\n",
       "          const docLinkHtml = 'Like what you see? Visit the ' +\n",
       "            '<a target=\"_blank\" href=https://colab.research.google.com/notebooks/data_table.ipynb>data table notebook</a>'\n",
       "            + ' to learn more about interactive tables.';\n",
       "          element.innerHTML = '';\n",
       "          dataTable['output_type'] = 'display_data';\n",
       "          await google.colab.output.renderOutput(dataTable, element);\n",
       "          const docLink = document.createElement('div');\n",
       "          docLink.innerHTML = docLinkHtml;\n",
       "          element.appendChild(docLink);\n",
       "        }\n",
       "      </script>\n",
       "    </div>\n",
       "  </div>\n",
       "  "
      ],
      "text/plain": [
       "                                        selected_tokens  type\n",
       "0     'http://www.youtube.com/watch?v=qsXHcwe3krw ht...  INFJ\n",
       "1     'I'm finding the lack of me Sex can be boring ...  ENTP\n",
       "2     'Good one _____ https://www.youtube.com/watch?...  INTP\n",
       "3     'Dear INTP, I enjoyed our conversation Dear EN...  INTJ\n",
       "4     'You're fired. That's another silly misconcept...  ENTJ\n",
       "...                                                 ...   ...\n",
       "8670  'https://www.youtube.com/watch?v=t8edHB_h908 I...  ISFP\n",
       "8671  'So...if this thread already exists someplace ...  ENFP\n",
       "8672  'So many questions when i do I worked in a bre...  INTP\n",
       "8673  'I am very conflicted right now If I had to gu...  INFP\n",
       "8674  'It has been too long since http://www.youtube...  INFP\n",
       "\n",
       "[8675 rows x 2 columns]"
      ]
     },
     "execution_count": 14,
     "metadata": {},
     "output_type": "execute_result"
    }
   ],
   "source": [
    "data_tr= data.groupby('index').agg({'selected_tokens': lambda arr : ' '.join(arr)})\n",
    "data_tr = pd.concat([data_tr,df['type']], axis=1)\n",
    "data_tr"
   ]
  },
  {
   "cell_type": "code",
   "execution_count": 15,
   "id": "81101039",
   "metadata": {
    "colab": {
     "base_uri": "https://localhost:8080/",
     "height": 424
    },
    "id": "81101039",
    "outputId": "89483b7b-a6ec-487d-d3b6-28f3735a1e1d"
   },
   "outputs": [
    {
     "data": {
      "text/html": [
       "\n",
       "  <div id=\"df-4c896753-f651-4756-be5a-57451a553f5e\">\n",
       "    <div class=\"colab-df-container\">\n",
       "      <div>\n",
       "<style scoped>\n",
       "    .dataframe tbody tr th:only-of-type {\n",
       "        vertical-align: middle;\n",
       "    }\n",
       "\n",
       "    .dataframe tbody tr th {\n",
       "        vertical-align: top;\n",
       "    }\n",
       "\n",
       "    .dataframe thead th {\n",
       "        text-align: right;\n",
       "    }\n",
       "</style>\n",
       "<table border=\"1\" class=\"dataframe\">\n",
       "  <thead>\n",
       "    <tr style=\"text-align: right;\">\n",
       "      <th></th>\n",
       "      <th>selected_tokens</th>\n",
       "      <th>type</th>\n",
       "      <th>Extraversion</th>\n",
       "      <th>Sensing</th>\n",
       "      <th>Thinking</th>\n",
       "      <th>Judging</th>\n",
       "    </tr>\n",
       "  </thead>\n",
       "  <tbody>\n",
       "    <tr>\n",
       "      <th>0</th>\n",
       "      <td>'http://www.youtube.com/watch?v=qsXHcwe3krw ht...</td>\n",
       "      <td>INFJ</td>\n",
       "      <td>0</td>\n",
       "      <td>0</td>\n",
       "      <td>0</td>\n",
       "      <td>1</td>\n",
       "    </tr>\n",
       "    <tr>\n",
       "      <th>1</th>\n",
       "      <td>'I'm finding the lack of me Sex can be boring ...</td>\n",
       "      <td>ENTP</td>\n",
       "      <td>1</td>\n",
       "      <td>0</td>\n",
       "      <td>1</td>\n",
       "      <td>0</td>\n",
       "    </tr>\n",
       "    <tr>\n",
       "      <th>2</th>\n",
       "      <td>'Good one _____ https://www.youtube.com/watch?...</td>\n",
       "      <td>INTP</td>\n",
       "      <td>0</td>\n",
       "      <td>0</td>\n",
       "      <td>1</td>\n",
       "      <td>0</td>\n",
       "    </tr>\n",
       "    <tr>\n",
       "      <th>3</th>\n",
       "      <td>'Dear INTP, I enjoyed our conversation Dear EN...</td>\n",
       "      <td>INTJ</td>\n",
       "      <td>0</td>\n",
       "      <td>0</td>\n",
       "      <td>1</td>\n",
       "      <td>1</td>\n",
       "    </tr>\n",
       "    <tr>\n",
       "      <th>4</th>\n",
       "      <td>'You're fired. That's another silly misconcept...</td>\n",
       "      <td>ENTJ</td>\n",
       "      <td>1</td>\n",
       "      <td>0</td>\n",
       "      <td>1</td>\n",
       "      <td>1</td>\n",
       "    </tr>\n",
       "    <tr>\n",
       "      <th>...</th>\n",
       "      <td>...</td>\n",
       "      <td>...</td>\n",
       "      <td>...</td>\n",
       "      <td>...</td>\n",
       "      <td>...</td>\n",
       "      <td>...</td>\n",
       "    </tr>\n",
       "    <tr>\n",
       "      <th>8670</th>\n",
       "      <td>'https://www.youtube.com/watch?v=t8edHB_h908 I...</td>\n",
       "      <td>ISFP</td>\n",
       "      <td>0</td>\n",
       "      <td>1</td>\n",
       "      <td>0</td>\n",
       "      <td>0</td>\n",
       "    </tr>\n",
       "    <tr>\n",
       "      <th>8671</th>\n",
       "      <td>'So...if this thread already exists someplace ...</td>\n",
       "      <td>ENFP</td>\n",
       "      <td>1</td>\n",
       "      <td>0</td>\n",
       "      <td>0</td>\n",
       "      <td>0</td>\n",
       "    </tr>\n",
       "    <tr>\n",
       "      <th>8672</th>\n",
       "      <td>'So many questions when i do I worked in a bre...</td>\n",
       "      <td>INTP</td>\n",
       "      <td>0</td>\n",
       "      <td>0</td>\n",
       "      <td>1</td>\n",
       "      <td>0</td>\n",
       "    </tr>\n",
       "    <tr>\n",
       "      <th>8673</th>\n",
       "      <td>'I am very conflicted right now If I had to gu...</td>\n",
       "      <td>INFP</td>\n",
       "      <td>0</td>\n",
       "      <td>0</td>\n",
       "      <td>0</td>\n",
       "      <td>0</td>\n",
       "    </tr>\n",
       "    <tr>\n",
       "      <th>8674</th>\n",
       "      <td>'It has been too long since http://www.youtube...</td>\n",
       "      <td>INFP</td>\n",
       "      <td>0</td>\n",
       "      <td>0</td>\n",
       "      <td>0</td>\n",
       "      <td>0</td>\n",
       "    </tr>\n",
       "  </tbody>\n",
       "</table>\n",
       "<p>8675 rows × 6 columns</p>\n",
       "</div>\n",
       "      <button class=\"colab-df-convert\" onclick=\"convertToInteractive('df-4c896753-f651-4756-be5a-57451a553f5e')\"\n",
       "              title=\"Convert this dataframe to an interactive table.\"\n",
       "              style=\"display:none;\">\n",
       "        \n",
       "  <svg xmlns=\"http://www.w3.org/2000/svg\" height=\"24px\"viewBox=\"0 0 24 24\"\n",
       "       width=\"24px\">\n",
       "    <path d=\"M0 0h24v24H0V0z\" fill=\"none\"/>\n",
       "    <path d=\"M18.56 5.44l.94 2.06.94-2.06 2.06-.94-2.06-.94-.94-2.06-.94 2.06-2.06.94zm-11 1L8.5 8.5l.94-2.06 2.06-.94-2.06-.94L8.5 2.5l-.94 2.06-2.06.94zm10 10l.94 2.06.94-2.06 2.06-.94-2.06-.94-.94-2.06-.94 2.06-2.06.94z\"/><path d=\"M17.41 7.96l-1.37-1.37c-.4-.4-.92-.59-1.43-.59-.52 0-1.04.2-1.43.59L10.3 9.45l-7.72 7.72c-.78.78-.78 2.05 0 2.83L4 21.41c.39.39.9.59 1.41.59.51 0 1.02-.2 1.41-.59l7.78-7.78 2.81-2.81c.8-.78.8-2.07 0-2.86zM5.41 20L4 18.59l7.72-7.72 1.47 1.35L5.41 20z\"/>\n",
       "  </svg>\n",
       "      </button>\n",
       "      \n",
       "  <style>\n",
       "    .colab-df-container {\n",
       "      display:flex;\n",
       "      flex-wrap:wrap;\n",
       "      gap: 12px;\n",
       "    }\n",
       "\n",
       "    .colab-df-convert {\n",
       "      background-color: #E8F0FE;\n",
       "      border: none;\n",
       "      border-radius: 50%;\n",
       "      cursor: pointer;\n",
       "      display: none;\n",
       "      fill: #1967D2;\n",
       "      height: 32px;\n",
       "      padding: 0 0 0 0;\n",
       "      width: 32px;\n",
       "    }\n",
       "\n",
       "    .colab-df-convert:hover {\n",
       "      background-color: #E2EBFA;\n",
       "      box-shadow: 0px 1px 2px rgba(60, 64, 67, 0.3), 0px 1px 3px 1px rgba(60, 64, 67, 0.15);\n",
       "      fill: #174EA6;\n",
       "    }\n",
       "\n",
       "    [theme=dark] .colab-df-convert {\n",
       "      background-color: #3B4455;\n",
       "      fill: #D2E3FC;\n",
       "    }\n",
       "\n",
       "    [theme=dark] .colab-df-convert:hover {\n",
       "      background-color: #434B5C;\n",
       "      box-shadow: 0px 1px 3px 1px rgba(0, 0, 0, 0.15);\n",
       "      filter: drop-shadow(0px 1px 2px rgba(0, 0, 0, 0.3));\n",
       "      fill: #FFFFFF;\n",
       "    }\n",
       "  </style>\n",
       "\n",
       "      <script>\n",
       "        const buttonEl =\n",
       "          document.querySelector('#df-4c896753-f651-4756-be5a-57451a553f5e button.colab-df-convert');\n",
       "        buttonEl.style.display =\n",
       "          google.colab.kernel.accessAllowed ? 'block' : 'none';\n",
       "\n",
       "        async function convertToInteractive(key) {\n",
       "          const element = document.querySelector('#df-4c896753-f651-4756-be5a-57451a553f5e');\n",
       "          const dataTable =\n",
       "            await google.colab.kernel.invokeFunction('convertToInteractive',\n",
       "                                                     [key], {});\n",
       "          if (!dataTable) return;\n",
       "\n",
       "          const docLinkHtml = 'Like what you see? Visit the ' +\n",
       "            '<a target=\"_blank\" href=https://colab.research.google.com/notebooks/data_table.ipynb>data table notebook</a>'\n",
       "            + ' to learn more about interactive tables.';\n",
       "          element.innerHTML = '';\n",
       "          dataTable['output_type'] = 'display_data';\n",
       "          await google.colab.output.renderOutput(dataTable, element);\n",
       "          const docLink = document.createElement('div');\n",
       "          docLink.innerHTML = docLinkHtml;\n",
       "          element.appendChild(docLink);\n",
       "        }\n",
       "      </script>\n",
       "    </div>\n",
       "  </div>\n",
       "  "
      ],
      "text/plain": [
       "                                        selected_tokens  type Extraversion  \\\n",
       "0     'http://www.youtube.com/watch?v=qsXHcwe3krw ht...  INFJ            0   \n",
       "1     'I'm finding the lack of me Sex can be boring ...  ENTP            1   \n",
       "2     'Good one _____ https://www.youtube.com/watch?...  INTP            0   \n",
       "3     'Dear INTP, I enjoyed our conversation Dear EN...  INTJ            0   \n",
       "4     'You're fired. That's another silly misconcept...  ENTJ            1   \n",
       "...                                                 ...   ...          ...   \n",
       "8670  'https://www.youtube.com/watch?v=t8edHB_h908 I...  ISFP            0   \n",
       "8671  'So...if this thread already exists someplace ...  ENFP            1   \n",
       "8672  'So many questions when i do I worked in a bre...  INTP            0   \n",
       "8673  'I am very conflicted right now If I had to gu...  INFP            0   \n",
       "8674  'It has been too long since http://www.youtube...  INFP            0   \n",
       "\n",
       "     Sensing Thinking Judging  \n",
       "0          0        0       1  \n",
       "1          0        1       0  \n",
       "2          0        1       0  \n",
       "3          0        1       1  \n",
       "4          0        1       1  \n",
       "...      ...      ...     ...  \n",
       "8670       1        0       0  \n",
       "8671       0        0       0  \n",
       "8672       0        1       0  \n",
       "8673       0        0       0  \n",
       "8674       0        0       0  \n",
       "\n",
       "[8675 rows x 6 columns]"
      ]
     },
     "execution_count": 15,
     "metadata": {},
     "output_type": "execute_result"
    }
   ],
   "source": [
    "categories(data_tr)"
   ]
  },
  {
   "cell_type": "code",
   "execution_count": 16,
   "id": "d71cdd01",
   "metadata": {
    "id": "d71cdd01"
   },
   "outputs": [],
   "source": [
    "data_tr['selected_tokens'] = data_tr.selected_tokens.apply(text_cleaning)"
   ]
  },
  {
   "cell_type": "code",
   "execution_count": 17,
   "id": "905eb5bd",
   "metadata": {
    "colab": {
     "base_uri": "https://localhost:8080/",
     "height": 206
    },
    "id": "905eb5bd",
    "outputId": "7e3b70cd-4502-483c-c46e-05cde0fe0c4a"
   },
   "outputs": [
    {
     "data": {
      "text/html": [
       "\n",
       "  <div id=\"df-3f46b411-7029-4e4b-b0d6-c9d9fa57b551\">\n",
       "    <div class=\"colab-df-container\">\n",
       "      <div>\n",
       "<style scoped>\n",
       "    .dataframe tbody tr th:only-of-type {\n",
       "        vertical-align: middle;\n",
       "    }\n",
       "\n",
       "    .dataframe tbody tr th {\n",
       "        vertical-align: top;\n",
       "    }\n",
       "\n",
       "    .dataframe thead th {\n",
       "        text-align: right;\n",
       "    }\n",
       "</style>\n",
       "<table border=\"1\" class=\"dataframe\">\n",
       "  <thead>\n",
       "    <tr style=\"text-align: right;\">\n",
       "      <th></th>\n",
       "      <th>selected_tokens</th>\n",
       "      <th>type</th>\n",
       "      <th>Extraversion</th>\n",
       "      <th>Sensing</th>\n",
       "      <th>Thinking</th>\n",
       "      <th>Judging</th>\n",
       "    </tr>\n",
       "  </thead>\n",
       "  <tbody>\n",
       "    <tr>\n",
       "      <th>0</th>\n",
       "      <td>and moments sportscenter what has been the mo...</td>\n",
       "      <td>INFJ</td>\n",
       "      <td>0</td>\n",
       "      <td>0</td>\n",
       "      <td>0</td>\n",
       "      <td>1</td>\n",
       "    </tr>\n",
       "    <tr>\n",
       "      <th>1</th>\n",
       "      <td>im finding the lack of me sex can be boring if...</td>\n",
       "      <td>ENTP</td>\n",
       "      <td>1</td>\n",
       "      <td>0</td>\n",
       "      <td>1</td>\n",
       "      <td>0</td>\n",
       "    </tr>\n",
       "    <tr>\n",
       "      <th>2</th>\n",
       "      <td>good one of course to which i say does being a...</td>\n",
       "      <td>INTP</td>\n",
       "      <td>0</td>\n",
       "      <td>0</td>\n",
       "      <td>1</td>\n",
       "      <td>0</td>\n",
       "    </tr>\n",
       "    <tr>\n",
       "      <th>3</th>\n",
       "      <td>dear i enjoyed our conversation dear sub long ...</td>\n",
       "      <td>INTJ</td>\n",
       "      <td>0</td>\n",
       "      <td>0</td>\n",
       "      <td>1</td>\n",
       "      <td>1</td>\n",
       "    </tr>\n",
       "    <tr>\n",
       "      <th>4</th>\n",
       "      <td>youre fired thats another silly misconception ...</td>\n",
       "      <td>ENTJ</td>\n",
       "      <td>1</td>\n",
       "      <td>0</td>\n",
       "      <td>1</td>\n",
       "      <td>1</td>\n",
       "    </tr>\n",
       "  </tbody>\n",
       "</table>\n",
       "</div>\n",
       "      <button class=\"colab-df-convert\" onclick=\"convertToInteractive('df-3f46b411-7029-4e4b-b0d6-c9d9fa57b551')\"\n",
       "              title=\"Convert this dataframe to an interactive table.\"\n",
       "              style=\"display:none;\">\n",
       "        \n",
       "  <svg xmlns=\"http://www.w3.org/2000/svg\" height=\"24px\"viewBox=\"0 0 24 24\"\n",
       "       width=\"24px\">\n",
       "    <path d=\"M0 0h24v24H0V0z\" fill=\"none\"/>\n",
       "    <path d=\"M18.56 5.44l.94 2.06.94-2.06 2.06-.94-2.06-.94-.94-2.06-.94 2.06-2.06.94zm-11 1L8.5 8.5l.94-2.06 2.06-.94-2.06-.94L8.5 2.5l-.94 2.06-2.06.94zm10 10l.94 2.06.94-2.06 2.06-.94-2.06-.94-.94-2.06-.94 2.06-2.06.94z\"/><path d=\"M17.41 7.96l-1.37-1.37c-.4-.4-.92-.59-1.43-.59-.52 0-1.04.2-1.43.59L10.3 9.45l-7.72 7.72c-.78.78-.78 2.05 0 2.83L4 21.41c.39.39.9.59 1.41.59.51 0 1.02-.2 1.41-.59l7.78-7.78 2.81-2.81c.8-.78.8-2.07 0-2.86zM5.41 20L4 18.59l7.72-7.72 1.47 1.35L5.41 20z\"/>\n",
       "  </svg>\n",
       "      </button>\n",
       "      \n",
       "  <style>\n",
       "    .colab-df-container {\n",
       "      display:flex;\n",
       "      flex-wrap:wrap;\n",
       "      gap: 12px;\n",
       "    }\n",
       "\n",
       "    .colab-df-convert {\n",
       "      background-color: #E8F0FE;\n",
       "      border: none;\n",
       "      border-radius: 50%;\n",
       "      cursor: pointer;\n",
       "      display: none;\n",
       "      fill: #1967D2;\n",
       "      height: 32px;\n",
       "      padding: 0 0 0 0;\n",
       "      width: 32px;\n",
       "    }\n",
       "\n",
       "    .colab-df-convert:hover {\n",
       "      background-color: #E2EBFA;\n",
       "      box-shadow: 0px 1px 2px rgba(60, 64, 67, 0.3), 0px 1px 3px 1px rgba(60, 64, 67, 0.15);\n",
       "      fill: #174EA6;\n",
       "    }\n",
       "\n",
       "    [theme=dark] .colab-df-convert {\n",
       "      background-color: #3B4455;\n",
       "      fill: #D2E3FC;\n",
       "    }\n",
       "\n",
       "    [theme=dark] .colab-df-convert:hover {\n",
       "      background-color: #434B5C;\n",
       "      box-shadow: 0px 1px 3px 1px rgba(0, 0, 0, 0.15);\n",
       "      filter: drop-shadow(0px 1px 2px rgba(0, 0, 0, 0.3));\n",
       "      fill: #FFFFFF;\n",
       "    }\n",
       "  </style>\n",
       "\n",
       "      <script>\n",
       "        const buttonEl =\n",
       "          document.querySelector('#df-3f46b411-7029-4e4b-b0d6-c9d9fa57b551 button.colab-df-convert');\n",
       "        buttonEl.style.display =\n",
       "          google.colab.kernel.accessAllowed ? 'block' : 'none';\n",
       "\n",
       "        async function convertToInteractive(key) {\n",
       "          const element = document.querySelector('#df-3f46b411-7029-4e4b-b0d6-c9d9fa57b551');\n",
       "          const dataTable =\n",
       "            await google.colab.kernel.invokeFunction('convertToInteractive',\n",
       "                                                     [key], {});\n",
       "          if (!dataTable) return;\n",
       "\n",
       "          const docLinkHtml = 'Like what you see? Visit the ' +\n",
       "            '<a target=\"_blank\" href=https://colab.research.google.com/notebooks/data_table.ipynb>data table notebook</a>'\n",
       "            + ' to learn more about interactive tables.';\n",
       "          element.innerHTML = '';\n",
       "          dataTable['output_type'] = 'display_data';\n",
       "          await google.colab.output.renderOutput(dataTable, element);\n",
       "          const docLink = document.createElement('div');\n",
       "          docLink.innerHTML = docLinkHtml;\n",
       "          element.appendChild(docLink);\n",
       "        }\n",
       "      </script>\n",
       "    </div>\n",
       "  </div>\n",
       "  "
      ],
      "text/plain": [
       "                                     selected_tokens  type Extraversion  \\\n",
       "0   and moments sportscenter what has been the mo...  INFJ            0   \n",
       "1  im finding the lack of me sex can be boring if...  ENTP            1   \n",
       "2  good one of course to which i say does being a...  INTP            0   \n",
       "3  dear i enjoyed our conversation dear sub long ...  INTJ            0   \n",
       "4  youre fired thats another silly misconception ...  ENTJ            1   \n",
       "\n",
       "  Sensing Thinking Judging  \n",
       "0       0        0       1  \n",
       "1       0        1       0  \n",
       "2       0        1       0  \n",
       "3       0        1       1  \n",
       "4       0        1       1  "
      ]
     },
     "execution_count": 17,
     "metadata": {},
     "output_type": "execute_result"
    }
   ],
   "source": [
    "data_tr.head()"
   ]
  },
  {
   "cell_type": "code",
   "execution_count": 18,
   "id": "8a66db44",
   "metadata": {
    "id": "8a66db44"
   },
   "outputs": [],
   "source": [
    "data_tr['posts_length'] = data_tr['selected_tokens'].apply(lambda x : len(x.split(' ')))"
   ]
  },
  {
   "cell_type": "code",
   "execution_count": 19,
   "id": "vlS7ECXxW9qH",
   "metadata": {
    "colab": {
     "base_uri": "https://localhost:8080/",
     "height": 530
    },
    "id": "vlS7ECXxW9qH",
    "outputId": "4741d860-412f-4dbd-acfe-ff905efa62e5"
   },
   "outputs": [
    {
     "data": {
      "text/plain": [
       "<Figure size 1152x576 with 0 Axes>"
      ]
     },
     "metadata": {},
     "output_type": "display_data"
    },
    {
     "data": {
      "image/png": "[encoded data removed]",
      "text/plain": [
       "<Figure size 756x504 with 1 Axes>"
      ]
     },
     "metadata": {
      "needs_background": "light"
     },
     "output_type": "display_data"
    }
   ],
   "source": [
    "plt.figure(figsize=(16,8))\n",
    "sns.displot(data_tr.posts_length,kde=True,height=7,aspect=1.5)\n",
    "plt.show()"
   ]
  },
  {
   "cell_type": "code",
   "execution_count": 20,
   "id": "Bk--2qUxXBTD",
   "metadata": {
    "colab": {
     "base_uri": "https://localhost:8080/"
    },
    "id": "Bk--2qUxXBTD",
    "outputId": "39ac8d00-7841-47f3-8ec6-7129cc39fec6"
   },
   "outputs": [
    {
     "name": "stdout",
     "output_type": "stream",
     "text": [
      "Max : 302\n",
      "Mean : 263.41821325648414\n",
      "Median : 277.0\n",
      "Mode : 0    289\n",
      "dtype: int64\n"
     ]
    }
   ],
   "source": [
    "print(\"Max :\",data_tr.posts_length.max())\n",
    "print(\"Mean :\",data_tr.posts_length.mean())\n",
    "print(\"Median :\",data_tr.posts_length.median())\n",
    "print(\"Mode :\",data_tr.posts_length.mode())"
   ]
  },
  {
   "cell_type": "markdown",
   "id": "fGXy73AMDJdC",
   "metadata": {
    "id": "fGXy73AMDJdC"
   },
   "source": [
    "# **Data Split**"
   ]
  },
  {
   "cell_type": "code",
   "execution_count": 21,
   "id": "94306be7",
   "metadata": {
    "id": "94306be7"
   },
   "outputs": [],
   "source": [
    "X = data_tr['selected_tokens']\n",
    "y = data_tr[['Extraversion','Sensing','Thinking','Judging']]\n",
    "X_train_val, X_test, y_train_val, y_test = train_test_split(X,\n",
    "                                                            y,\n",
    "                                                            test_size=0.1,\n",
    "                                                            random_state=20,\n",
    "                                                            stratify=y)\n",
    "X_train, X_val, y_train, y_val = train_test_split(X_train_val,\n",
    "                                                  y_train_val,\n",
    "                                                  test_size=0.10, \n",
    "                                                  random_state=20,\n",
    "                                                  stratify=y_train_val)"
   ]
  },
  {
   "cell_type": "markdown",
   "id": "JoCbonVMWzZV",
   "metadata": {
    "id": "JoCbonVMWzZV"
   },
   "source": [
    "# Encoding Target"
   ]
  },
  {
   "cell_type": "code",
   "execution_count": 22,
   "id": "5efa41a9",
   "metadata": {
    "id": "5efa41a9"
   },
   "outputs": [],
   "source": [
    "y_train_enc = np.array(y_train).astype('float32')\n",
    "y_val_enc = np.array(y_val).astype('float32')\n",
    "y_test_enc = np.array(y_test).astype('float32')"
   ]
  },
  {
   "cell_type": "code",
   "execution_count": 23,
   "id": "RXx_aaPFkPRW",
   "metadata": {
    "id": "RXx_aaPFkPRW"
   },
   "outputs": [],
   "source": [
    "# vocabulary_size=min(len(word_index)+1,(NUM_WORDS))\n"
   ]
  },
  {
   "cell_type": "markdown",
   "id": "DqRc9GjjW3EJ",
   "metadata": {
    "id": "DqRc9GjjW3EJ"
   },
   "source": [
    "# Tokenization and Padding Process"
   ]
  },
  {
   "cell_type": "code",
   "execution_count": 24,
   "id": "ffdb0d61",
   "metadata": {
    "colab": {
     "base_uri": "https://localhost:8080/"
    },
    "id": "ffdb0d61",
    "outputId": "9632b4ae-b3eb-42ab-cc34-1a7f23f316b8"
   },
   "outputs": [
    {
     "data": {
      "text/plain": [
       "<keras_preprocessing.text.Tokenizer at 0x7f89939ff150>"
      ]
     },
     "execution_count": 24,
     "metadata": {},
     "output_type": "execute_result"
    }
   ],
   "source": [
    "max_words = 35000\n",
    "\n",
    "tokenizer = Tokenizer(num_words=max_words, lower=True, oov_token='<OOV>')\n",
    "tokenizer"
   ]
  },
  {
   "cell_type": "code",
   "execution_count": 25,
   "id": "b771f522",
   "metadata": {
    "id": "b771f522"
   },
   "outputs": [],
   "source": [
    "tokenizer.fit_on_texts(X_train)"
   ]
  },
  {
   "cell_type": "code",
   "execution_count": 26,
   "id": "0f10bf7f",
   "metadata": {
    "id": "0f10bf7f"
   },
   "outputs": [],
   "source": [
    "X_train_enc  = tokenizer.texts_to_sequences(X_train)\n",
    "X_val_enc  = tokenizer.texts_to_sequences(X_val)\n",
    "X_test_enc  = tokenizer.texts_to_sequences(X_test)"
   ]
  },
  {
   "cell_type": "code",
   "execution_count": 27,
   "id": "IU4oCih1c6l-",
   "metadata": {
    "colab": {
     "base_uri": "https://localhost:8080/"
    },
    "id": "IU4oCih1c6l-",
    "outputId": "b09c22d8-604d-4d11-d1e1-c8a9d8fbfe0e"
   },
   "outputs": [
    {
     "name": "stdout",
     "output_type": "stream",
     "text": [
      "Token for the word \"ten\": 1818\n",
      "Token for the word \"love\": 54\n",
      "Token for the word \"top\": 723\n"
     ]
    }
   ],
   "source": [
    "word_index = tokenizer.word_index\n",
    "\n",
    "for w in ['ten', 'love', 'top']:\n",
    "     print(f'Token for the word \"{w}\": {word_index[w]}')"
   ]
  },
  {
   "cell_type": "code",
   "execution_count": 28,
   "id": "8d7a3beb",
   "metadata": {
    "colab": {
     "base_uri": "https://localhost:8080/"
    },
    "id": "8d7a3beb",
    "outputId": "480813a8-0fa8-4760-b049-6c46cfbef06e"
   },
   "outputs": [
    {
     "name": "stdout",
     "output_type": "stream",
     "text": [
      "New data shape: (7026, 280)\n",
      "New data shape: (781, 280)\n",
      "New data shape: (868, 280)\n"
     ]
    }
   ],
   "source": [
    "maxlen = 280\n",
    "\n",
    "X_train_enc = pad_sequences(X_train_enc,padding='pre',maxlen=maxlen)\n",
    "X_val_enc = pad_sequences(X_val_enc,padding='pre', maxlen=maxlen)\n",
    "X_test_enc = pad_sequences(X_test_enc, padding='pre', maxlen=maxlen)\n",
    "\n",
    "print('New data shape: {}'.format(X_train_enc.shape))\n",
    "print('New data shape: {}'.format(X_val_enc.shape))\n",
    "print('New data shape: {}'.format(X_test_enc.shape))"
   ]
  },
  {
   "cell_type": "markdown",
   "id": "30544e12",
   "metadata": {
    "id": "30544e12"
   },
   "source": [
    "# Glove pretrained embeddings"
   ]
  },
  {
   "cell_type": "code",
   "execution_count": 29,
   "id": "4ec295c8",
   "metadata": {
    "colab": {
     "base_uri": "https://localhost:8080/"
    },
    "id": "4ec295c8",
    "outputId": "6ed30a34-b781-47d4-e72a-db4bfa855459"
   },
   "outputs": [
    {
     "name": "stdout",
     "output_type": "stream",
     "text": [
      "--2022-08-26 13:42:08--  http://nlp.stanford.edu/data/glove.6B.zip\n",
      "Resolving nlp.stanford.edu (nlp.stanford.edu)... 171.64.67.140\n",
      "Connecting to nlp.stanford.edu (nlp.stanford.edu)|171.64.67.140|:80... connected.\n",
      "HTTP request sent, awaiting response... 302 Found\n",
      "Location: https://nlp.stanford.edu/data/glove.6B.zip [following]\n",
      "--2022-08-26 13:42:08--  https://nlp.stanford.edu/data/glove.6B.zip\n",
      "Connecting to nlp.stanford.edu (nlp.stanford.edu)|171.64.67.140|:443... connected.\n",
      "HTTP request sent, awaiting response... 301 Moved Permanently\n",
      "Location: https://downloads.cs.stanford.edu/nlp/data/glove.6B.zip [following]\n",
      "--2022-08-26 13:42:09--  https://downloads.cs.stanford.edu/nlp/data/glove.6B.zip\n",
      "Resolving downloads.cs.stanford.edu (downloads.cs.stanford.edu)... 171.64.64.22\n",
      "Connecting to downloads.cs.stanford.edu (downloads.cs.stanford.edu)|171.64.64.22|:443... connected.\n",
      "HTTP request sent, awaiting response... 200 OK\n",
      "Length: 862182613 (822M) [application/zip]\n",
      "Saving to: ‘glove.6B.zip’\n",
      "\n",
      "glove.6B.zip        100%[===================>] 822.24M  5.08MB/s    in 2m 39s  \n",
      "\n",
      "2022-08-26 13:44:48 (5.16 MB/s) - ‘glove.6B.zip’ saved [862182613/862182613]\n",
      "\n",
      "Archive:  glove.6B.zip\n",
      "  inflating: glove.6B.50d.txt        \n",
      "  inflating: glove.6B.100d.txt       \n",
      "  inflating: glove.6B.200d.txt       \n",
      "  inflating: glove.6B.300d.txt       \n"
     ]
    }
   ],
   "source": [
    "!wget http://nlp.stanford.edu/data/glove.6B.zip\n",
    "!unzip glove.6B.zip"
   ]
  },
  {
   "cell_type": "code",
   "execution_count": 30,
   "id": "f69e4de3",
   "metadata": {
    "id": "f69e4de3"
   },
   "outputs": [],
   "source": [
    "def load_glove_embeddings(dim: int = 100) -> dict:\n",
    "    \"\"\"\n",
    "    Function that loads glove embeddings. \n",
    "\n",
    "    :param dim: The embeddings size (dimensions)\n",
    "    :return:\n",
    "    \"\"\"\n",
    "    print('Loading word vectors')\n",
    "\n",
    "    embed_index = dict()  # We create a dictionary of word -> embedding\n",
    "\n",
    "    fname = 'glove.6B.{}d.txt'.format(dim)\n",
    "\n",
    "    f = open(fname, encoding=\"utf8\")  # Open file\n",
    "\n",
    "    # In the dataset, each line represents a new word embedding\n",
    "    # The line starts with the word and the embedding values follow\n",
    "    for line in tqdm(f, desc='Loading Embeddings', unit='word'):\n",
    "        values = line.split()\n",
    "        # The first value is the word, the rest are the values of the embedding\n",
    "        word = values[0]\n",
    "        # Load embedding\n",
    "        embedding = np.asarray(values[1:], dtype='float32')\n",
    "\n",
    "        # Add embedding to our embedding dictionary\n",
    "        embed_index[word] = embedding\n",
    "    f.close()\n",
    "\n",
    "    print('Found %s word vectors.' % len(embed_index))\n",
    "\n",
    "    return embed_index"
   ]
  },
  {
   "cell_type": "code",
   "execution_count": 31,
   "id": "bacd0195",
   "metadata": {
    "colab": {
     "base_uri": "https://localhost:8080/"
    },
    "id": "bacd0195",
    "outputId": "e85ec6e8-45b7-46d9-b340-9e19ddb22263"
   },
   "outputs": [
    {
     "name": "stdout",
     "output_type": "stream",
     "text": [
      "Loading word vectors\n"
     ]
    },
    {
     "name": "stderr",
     "output_type": "stream",
     "text": [
      "Loading Embeddings: 400000word [00:24, 16564.61word/s]"
     ]
    },
    {
     "name": "stdout",
     "output_type": "stream",
     "text": [
      "Found 400000 word vectors.\n"
     ]
    },
    {
     "name": "stderr",
     "output_type": "stream",
     "text": [
      "\n"
     ]
    }
   ],
   "source": [
    "embedding_dim = 300\n",
    "\n",
    "embeddings_index = load_glove_embeddings(dim=embedding_dim)"
   ]
  },
  {
   "cell_type": "code",
   "execution_count": 32,
   "id": "a6850271",
   "metadata": {
    "id": "a6850271"
   },
   "outputs": [],
   "source": [
    "def create_embeddings_matrix(emb_index: dict,\n",
    "                             tokenizer: Tokenizer,\n",
    "                             emb_dim: int = 100) -> np.ndarray:\n",
    "    \"\"\"\n",
    "\n",
    "    :param emb_index: Embeddings Index\n",
    "    :param tokenizer: Keras fitted tokenizer.\n",
    "    :param emb_dim: Embeddings dimension.\n",
    "    :return: A matrix of shape (nb_words, emb_dim) containing the glove embeddings.\n",
    "    \"\"\"\n",
    "    assert emb_dim in [50, 100, 200, 300]\n",
    "\n",
    "    # Create a matrix of all embeddings\n",
    "    # (stacking=concatenating all the vectors)\n",
    "    all_embs = np.stack(emb_index.values())  # .values() gets the all the arrays from the keys\n",
    "\n",
    "    # Calculate mean\n",
    "    emb_mean = all_embs.mean()\n",
    "    # Calculate standard deviation\n",
    "    emb_std = all_embs.std()\n",
    "\n",
    "    print(\"Embeddings AVG: {} | STD: {}\".format(emb_mean, emb_std))\n",
    "\n",
    "    # We can now create an embedding matrix holding all word vectors.\n",
    "\n",
    "    word_index = tokenizer.word_index\n",
    "\n",
    "    # How many words are there actually. Because we may have requested X most common tokens\n",
    "    # and the total tokens are X/2\n",
    "    nb_words = min(max_words, len(word_index))\n",
    "\n",
    "    # Create a random matrix with the same mean and std as the embeddings\n",
    "\n",
    "    embedding_matrix = np.random.normal(emb_mean,  # mean\n",
    "                                        emb_std,  # std\n",
    "                                        (nb_words, emb_dim)) # shape of the matrix\n",
    "\n",
    "    # The vectors need to be in the same position as their index.\n",
    "    # Meaning a word with token 1 needs to be in the second row (rows start with zero) and so on\n",
    "    \n",
    "    counter = 0\n",
    "    \n",
    "    # Loop over all words in the word index\n",
    "    for word, i in word_index.items():  # .items() return a tuple with (word, word_index)\n",
    "\n",
    "        # If we are above the amount of words we want to use we do nothing\n",
    "        if i >= max_words:\n",
    "            continue\n",
    "\n",
    "        # Get the embedding vector for the word\n",
    "        embedding_vector = emb_index.get(word)\n",
    "\n",
    "        # If there is an embedding vector, put it in the embedding matrix\n",
    "        if embedding_vector is not None:\n",
    "            embedding_matrix[i] = embedding_vector\n",
    "            counter += 1\n",
    "    \n",
    "    print(f'Found {counter} pre-trained embeddings out of {nb_words}')\n",
    "    \n",
    "    return embedding_matrix"
   ]
  },
  {
   "cell_type": "code",
   "execution_count": 33,
   "id": "87ed67cd",
   "metadata": {
    "colab": {
     "base_uri": "https://localhost:8080/"
    },
    "id": "87ed67cd",
    "outputId": "84daa076-b662-49fd-c870-b960a56f31e8"
   },
   "outputs": [
    {
     "name": "stderr",
     "output_type": "stream",
     "text": [
      "/usr/local/lib/python3.7/dist-packages/IPython/core/interactiveshell.py:3326: FutureWarning: arrays to stack must be passed as a \"sequence\" type such as list or tuple. Support for non-sequence iterables such as generators is deprecated as of NumPy 1.16 and will raise an error in the future.\n",
      "  exec(code_obj, self.user_global_ns, self.user_ns)\n"
     ]
    },
    {
     "name": "stdout",
     "output_type": "stream",
     "text": [
      "Embeddings AVG: -0.003905011573806405 | STD: 0.3817702829837799\n",
      "Found 25173 pre-trained embeddings out of 35000\n"
     ]
    }
   ],
   "source": [
    "embedding_matrix = create_embeddings_matrix(emb_index=embeddings_index,\n",
    "                                            tokenizer=tokenizer,\n",
    "                                            emb_dim=embedding_dim)"
   ]
  },
  {
   "cell_type": "markdown",
   "id": "1K6L4UCr6vaX",
   "metadata": {
    "id": "1K6L4UCr6vaX"
   },
   "source": [
    "# CNN Model"
   ]
  },
  {
   "cell_type": "markdown",
   "id": "BEd_Knu-1yUd",
   "metadata": {
    "id": "BEd_Knu-1yUd"
   },
   "source": [
    "## Model Callbacks"
   ]
  },
  {
   "cell_type": "code",
   "execution_count": 34,
   "id": "6PbGy6BPcqR1",
   "metadata": {
    "id": "6PbGy6BPcqR1"
   },
   "outputs": [],
   "source": [
    "monitor = 'val_loss'\n",
    "\n",
    "model_cnn_fname = 'model_cnn.h5'\n",
    "\n",
    "callbacks_cnn = [\n",
    "    \n",
    "    # Stop training when a monitored quantity has stopped improving.\n",
    "    EarlyStopping(monitor=monitor,\n",
    "                  min_delta = 0, \n",
    "                  patience=5,\n",
    "                  verbose=1,\n",
    "                  restore_best_weights=True),\n",
    "    \n",
    "    # Save the model after every epoch of the monitor quantity improves\n",
    "    ModelCheckpoint(filepath=model_cnn_fname,\n",
    "                    monitor=monitor,\n",
    "                    save_best_only=True,\n",
    "                    save_weights_only=False,\n",
    "                    verbose=1),\n",
    "    \n",
    "    # Reduce learning rate when a metric has stopped improving\n",
    "    ReduceLROnPlateau(monitor=monitor,\n",
    "                      factor=0.1,\n",
    "                      patience=3,\n",
    "                      verbose=1,\n",
    "                      restore_best_weights=True)\n",
    "\n",
    "]\n"
   ]
  },
  {
   "cell_type": "markdown",
   "id": "BvstotjscHmX",
   "metadata": {
    "id": "BvstotjscHmX"
   },
   "source": [
    "## Model Architecture"
   ]
  },
  {
   "cell_type": "code",
   "execution_count": 66,
   "id": "U0if86ntzbR8",
   "metadata": {
    "colab": {
     "base_uri": "https://localhost:8080/"
    },
    "id": "U0if86ntzbR8",
    "outputId": "13fc5ecd-fb10-420c-a6ce-8eccd097f810"
   },
   "outputs": [
    {
     "name": "stdout",
     "output_type": "stream",
     "text": [
      "Number of Classes (Personality Components): 4\n",
      "Number of filters: 32\n",
      "Kernel size: 5\n",
      "Number of hidden layers: 300\n"
     ]
    }
   ],
   "source": [
    "# cnn network hyperparameters\n",
    "\n",
    "nb_classes = len(y_train_enc[0])\n",
    "embedding_dim = 300\n",
    "maxlen=280\n",
    "max_words=35000\n",
    "nof_filters = 32\n",
    "kernel_size = 5 \n",
    "hidden_dims = 300  \n",
    "print('Number of Classes (Personality Components): {}'.format(nb_classes))\n",
    "print('Number of filters: {}'.format(nof_filters))\n",
    "print('Kernel size: {}'.format(kernel_size))\n",
    "print('Number of hidden layers: {}'.format(hidden_dims))\n",
    "\n",
    "\n",
    "\n",
    "#Setting model hyperparameters\n",
    "batch_size=128 #  =>  in each iteration, we consider 100 training examples at once\n",
    "num_epochs=50"
   ]
  },
  {
   "cell_type": "code",
   "execution_count": 69,
   "id": "KyzYTqIYuqxs",
   "metadata": {
    "colab": {
     "base_uri": "https://localhost:8080/"
    },
    "id": "KyzYTqIYuqxs",
    "outputId": "d76c9c3b-0bf3-4361-ceeb-50020dd8d70f"
   },
   "outputs": [
    {
     "name": "stdout",
     "output_type": "stream",
     "text": [
      "Building model...\n",
      "Model: \"sequential_13\"\n",
      "_________________________________________________________________\n",
      " Layer (type)                Output Shape              Param #   \n",
      "=================================================================\n",
      " embedding_13 (Embedding)    (None, 280, 300)          10500000  \n",
      "                                                                 \n",
      " conv1d_13 (Conv1D)          (None, 276, 32)           48032     \n",
      "                                                                 \n",
      " global_average_pooling1d_13  (None, 32)               0         \n",
      "  (GlobalAveragePooling1D)                                       \n",
      "                                                                 \n",
      " dense_26 (Dense)            (None, 300)               9900      \n",
      "                                                                 \n",
      " dropout_15 (Dropout)        (None, 300)               0         \n",
      "                                                                 \n",
      " dense_27 (Dense)            (None, 4)                 1204      \n",
      "                                                                 \n",
      "=================================================================\n",
      "Total params: 10,559,136\n",
      "Trainable params: 59,136\n",
      "Non-trainable params: 10,500,000\n",
      "_________________________________________________________________\n"
     ]
    }
   ],
   "source": [
    "# Convolutional layer \n",
    "# since we have a multiclass classification scheme with 4 classes, we selece FOUR neurons with SIGMOID activation.\n",
    "print('Building model...')\n",
    "\n",
    "model_cnn = tf.keras.Sequential([\n",
    "    tf.keras.layers.Embedding(max_words, embedding_dim, input_length=maxlen,weights=[embedding_matrix],trainable=False),\n",
    "    tf.keras.layers.Conv1D(nof_filters, kernel_size, activation='relu'),\n",
    "    tf.keras.layers.GlobalAveragePooling1D(),\n",
    "    tf.keras.layers.Dense(hidden_dims, activation= 'relu'),\n",
    "    tf.keras.layers.Dropout(0.4),\n",
    "    tf.keras.layers.Dense(nb_classes, activation='sigmoid')\n",
    "])\n",
    "\n",
    "\n",
    "# Compile model\n",
    "# We have a multi-label problem to solve with 4 classes\n",
    "# that's why we will compile the model using binary_crossentropy as a loss function. \n",
    "# We will also use adam as an optimizer and Accuracy and Binary Accuracy as metrics\n",
    "\n",
    "model_cnn.compile(loss='binary_crossentropy',optimizer= tf.keras.optimizers.Adam(learning_rate=0.001),metrics=['binary_accuracy','accuracy'])\n",
    "model_cnn.summary()"
   ]
  },
  {
   "cell_type": "code",
   "execution_count": 70,
   "id": "HVMapGSKVSTe",
   "metadata": {
    "colab": {
     "base_uri": "https://localhost:8080/",
     "height": 754
    },
    "id": "HVMapGSKVSTe",
    "outputId": "b05a5cae-ec06-4bec-a07d-3c476ede1357"
   },
   "outputs": [
    {
     "data": {
      "image/png": "[encoded data removed]",
      "text/plain": [
       "<IPython.core.display.Image object>"
      ]
     },
     "execution_count": 70,
     "metadata": {},
     "output_type": "execute_result"
    }
   ],
   "source": [
    "plot_model(model_cnn,show_shapes=True)"
   ]
  },
  {
   "cell_type": "code",
   "execution_count": 71,
   "id": "gSZv_3QzTLr-",
   "metadata": {
    "colab": {
     "base_uri": "https://localhost:8080/"
    },
    "id": "gSZv_3QzTLr-",
    "outputId": "b72e149e-64c8-4bb2-c0cb-48f86643248f"
   },
   "outputs": [
    {
     "name": "stdout",
     "output_type": "stream",
     "text": [
      "Epoch 1/50\n",
      "52/55 [===========================>..] - ETA: 0s - loss: 0.5910 - binary_accuracy: 0.6854 - accuracy: 0.2500\n",
      "Epoch 00001: val_loss did not improve from 0.50982\n",
      "55/55 [==============================] - 1s 13ms/step - loss: 0.5891 - binary_accuracy: 0.6872 - accuracy: 0.2502 - val_loss: 0.5708 - val_binary_accuracy: 0.6933 - val_accuracy: 0.2753 - lr: 0.0010\n",
      "Epoch 2/50\n",
      "52/55 [===========================>..] - ETA: 0s - loss: 0.5697 - binary_accuracy: 0.7092 - accuracy: 0.2752\n",
      "Epoch 00002: val_loss did not improve from 0.50982\n",
      "55/55 [==============================] - 0s 8ms/step - loss: 0.5678 - binary_accuracy: 0.7110 - accuracy: 0.2771 - val_loss: 0.5581 - val_binary_accuracy: 0.7206 - val_accuracy: 0.3035 - lr: 0.0010\n",
      "Epoch 3/50\n",
      "52/55 [===========================>..] - ETA: 0s - loss: 0.5600 - binary_accuracy: 0.7181 - accuracy: 0.2940\n",
      "Epoch 00003: val_loss did not improve from 0.50982\n",
      "55/55 [==============================] - 0s 8ms/step - loss: 0.5600 - binary_accuracy: 0.7185 - accuracy: 0.2939 - val_loss: 0.5504 - val_binary_accuracy: 0.7273 - val_accuracy: 0.3124 - lr: 0.0010\n",
      "Epoch 4/50\n",
      "51/55 [==========================>...] - ETA: 0s - loss: 0.5561 - binary_accuracy: 0.7196 - accuracy: 0.3010\n",
      "Epoch 00004: val_loss did not improve from 0.50982\n",
      "55/55 [==============================] - 0s 8ms/step - loss: 0.5553 - binary_accuracy: 0.7202 - accuracy: 0.3022 - val_loss: 0.5469 - val_binary_accuracy: 0.7273 - val_accuracy: 0.3035 - lr: 0.0010\n",
      "Epoch 5/50\n",
      "53/55 [===========================>..] - ETA: 0s - loss: 0.5473 - binary_accuracy: 0.7261 - accuracy: 0.3119\n",
      "Epoch 00005: val_loss did not improve from 0.50982\n",
      "55/55 [==============================] - 0s 8ms/step - loss: 0.5481 - binary_accuracy: 0.7253 - accuracy: 0.3107 - val_loss: 0.5416 - val_binary_accuracy: 0.7282 - val_accuracy: 0.3137 - lr: 0.0010\n",
      "Epoch 6/50\n",
      "53/55 [===========================>..] - ETA: 0s - loss: 0.5442 - binary_accuracy: 0.7293 - accuracy: 0.3206\n",
      "Epoch 00006: val_loss did not improve from 0.50982\n",
      "55/55 [==============================] - 0s 7ms/step - loss: 0.5440 - binary_accuracy: 0.7289 - accuracy: 0.3208 - val_loss: 0.5336 - val_binary_accuracy: 0.7420 - val_accuracy: 0.3431 - lr: 0.0010\n",
      "Epoch 7/50\n",
      "52/55 [===========================>..] - ETA: 0s - loss: 0.5396 - binary_accuracy: 0.7325 - accuracy: 0.3286\n",
      "Epoch 00007: val_loss did not improve from 0.50982\n",
      "55/55 [==============================] - 0s 7ms/step - loss: 0.5392 - binary_accuracy: 0.7321 - accuracy: 0.3285 - val_loss: 0.5356 - val_binary_accuracy: 0.7330 - val_accuracy: 0.3099 - lr: 0.0010\n",
      "Epoch 8/50\n",
      "52/55 [===========================>..] - ETA: 0s - loss: 0.5347 - binary_accuracy: 0.7369 - accuracy: 0.3451\n",
      "Epoch 00008: val_loss did not improve from 0.50982\n",
      "55/55 [==============================] - 0s 7ms/step - loss: 0.5354 - binary_accuracy: 0.7360 - accuracy: 0.3433 - val_loss: 0.5277 - val_binary_accuracy: 0.7414 - val_accuracy: 0.3457 - lr: 0.0010\n",
      "Epoch 9/50\n",
      "52/55 [===========================>..] - ETA: 0s - loss: 0.5290 - binary_accuracy: 0.7368 - accuracy: 0.3431\n",
      "Epoch 00009: val_loss did not improve from 0.50982\n",
      "55/55 [==============================] - 0s 8ms/step - loss: 0.5293 - binary_accuracy: 0.7367 - accuracy: 0.3427 - val_loss: 0.5214 - val_binary_accuracy: 0.7487 - val_accuracy: 0.3355 - lr: 0.0010\n",
      "Epoch 10/50\n",
      "52/55 [===========================>..] - ETA: 0s - loss: 0.5274 - binary_accuracy: 0.7382 - accuracy: 0.3489\n",
      "Epoch 00010: val_loss did not improve from 0.50982\n",
      "55/55 [==============================] - 0s 8ms/step - loss: 0.5276 - binary_accuracy: 0.7380 - accuracy: 0.3491 - val_loss: 0.5263 - val_binary_accuracy: 0.7382 - val_accuracy: 0.3547 - lr: 0.0010\n",
      "Epoch 11/50\n",
      "53/55 [===========================>..] - ETA: 0s - loss: 0.5268 - binary_accuracy: 0.7370 - accuracy: 0.3483\n",
      "Epoch 00011: val_loss did not improve from 0.50982\n",
      "55/55 [==============================] - 0s 7ms/step - loss: 0.5276 - binary_accuracy: 0.7365 - accuracy: 0.3474 - val_loss: 0.5283 - val_binary_accuracy: 0.7369 - val_accuracy: 0.3457 - lr: 0.0010\n",
      "Epoch 12/50\n",
      "51/55 [==========================>...] - ETA: 0s - loss: 0.5247 - binary_accuracy: 0.7390 - accuracy: 0.3509\n",
      "Epoch 00012: val_loss did not improve from 0.50982\n",
      "55/55 [==============================] - 0s 8ms/step - loss: 0.5237 - binary_accuracy: 0.7405 - accuracy: 0.3514 - val_loss: 0.5185 - val_binary_accuracy: 0.7487 - val_accuracy: 0.3585 - lr: 0.0010\n",
      "Epoch 13/50\n",
      "48/55 [=========================>....] - ETA: 0s - loss: 0.5184 - binary_accuracy: 0.7446 - accuracy: 0.3617\n",
      "Epoch 00013: val_loss did not improve from 0.50982\n",
      "55/55 [==============================] - 0s 8ms/step - loss: 0.5182 - binary_accuracy: 0.7450 - accuracy: 0.3582 - val_loss: 0.5245 - val_binary_accuracy: 0.7362 - val_accuracy: 0.3278 - lr: 0.0010\n",
      "Epoch 14/50\n",
      "52/55 [===========================>..] - ETA: 0s - loss: 0.5191 - binary_accuracy: 0.7432 - accuracy: 0.3612\n",
      "Epoch 00014: val_loss did not improve from 0.50982\n",
      "55/55 [==============================] - 0s 7ms/step - loss: 0.5190 - binary_accuracy: 0.7434 - accuracy: 0.3597 - val_loss: 0.5204 - val_binary_accuracy: 0.7462 - val_accuracy: 0.3752 - lr: 0.0010\n",
      "Epoch 15/50\n",
      "54/55 [============================>.] - ETA: 0s - loss: 0.5201 - binary_accuracy: 0.7419 - accuracy: 0.3576\n",
      "Epoch 00015: val_loss did not improve from 0.50982\n",
      "\n",
      "Epoch 00015: ReduceLROnPlateau reducing learning rate to 0.00010000000474974513.\n",
      "55/55 [==============================] - 0s 7ms/step - loss: 0.5197 - binary_accuracy: 0.7423 - accuracy: 0.3590 - val_loss: 0.5192 - val_binary_accuracy: 0.7446 - val_accuracy: 0.3688 - lr: 0.0010\n",
      "Epoch 16/50\n",
      "52/55 [===========================>..] - ETA: 0s - loss: 0.5097 - binary_accuracy: 0.7505 - accuracy: 0.3691\n",
      "Epoch 00016: val_loss did not improve from 0.50982\n",
      "55/55 [==============================] - 0s 8ms/step - loss: 0.5108 - binary_accuracy: 0.7499 - accuracy: 0.3683 - val_loss: 0.5141 - val_binary_accuracy: 0.7519 - val_accuracy: 0.3534 - lr: 1.0000e-04\n",
      "Epoch 17/50\n",
      "52/55 [===========================>..] - ETA: 0s - loss: 0.5088 - binary_accuracy: 0.7513 - accuracy: 0.3744\n",
      "Epoch 00017: val_loss did not improve from 0.50982\n",
      "55/55 [==============================] - 0s 8ms/step - loss: 0.5092 - binary_accuracy: 0.7509 - accuracy: 0.3750 - val_loss: 0.5135 - val_binary_accuracy: 0.7519 - val_accuracy: 0.3534 - lr: 1.0000e-04\n",
      "Epoch 18/50\n",
      "51/55 [==========================>...] - ETA: 0s - loss: 0.5090 - binary_accuracy: 0.7512 - accuracy: 0.3735\n",
      "Epoch 00018: val_loss did not improve from 0.50982\n",
      "55/55 [==============================] - 0s 8ms/step - loss: 0.5086 - binary_accuracy: 0.7519 - accuracy: 0.3728 - val_loss: 0.5125 - val_binary_accuracy: 0.7513 - val_accuracy: 0.3624 - lr: 1.0000e-04\n",
      "Epoch 19/50\n",
      "50/55 [==========================>...] - ETA: 0s - loss: 0.5090 - binary_accuracy: 0.7513 - accuracy: 0.3772\n",
      "Epoch 00019: val_loss did not improve from 0.50982\n",
      "55/55 [==============================] - 0s 7ms/step - loss: 0.5085 - binary_accuracy: 0.7514 - accuracy: 0.3725 - val_loss: 0.5137 - val_binary_accuracy: 0.7484 - val_accuracy: 0.3662 - lr: 1.0000e-04\n",
      "Epoch 20/50\n",
      "51/55 [==========================>...] - ETA: 0s - loss: 0.5086 - binary_accuracy: 0.7506 - accuracy: 0.3767\n",
      "Epoch 00020: val_loss did not improve from 0.50982\n",
      "55/55 [==============================] - 0s 8ms/step - loss: 0.5080 - binary_accuracy: 0.7512 - accuracy: 0.3746 - val_loss: 0.5121 - val_binary_accuracy: 0.7487 - val_accuracy: 0.3521 - lr: 1.0000e-04\n",
      "Epoch 21/50\n",
      "50/55 [==========================>...] - ETA: 0s - loss: 0.5068 - binary_accuracy: 0.7512 - accuracy: 0.3762\n",
      "Epoch 00021: val_loss did not improve from 0.50982\n",
      "55/55 [==============================] - 0s 8ms/step - loss: 0.5076 - binary_accuracy: 0.7509 - accuracy: 0.3750 - val_loss: 0.5116 - val_binary_accuracy: 0.7500 - val_accuracy: 0.3636 - lr: 1.0000e-04\n",
      "Epoch 22/50\n",
      "50/55 [==========================>...] - ETA: 0s - loss: 0.5064 - binary_accuracy: 0.7522 - accuracy: 0.3723\n",
      "Epoch 00022: val_loss did not improve from 0.50982\n",
      "55/55 [==============================] - 0s 8ms/step - loss: 0.5069 - binary_accuracy: 0.7515 - accuracy: 0.3746 - val_loss: 0.5115 - val_binary_accuracy: 0.7497 - val_accuracy: 0.3611 - lr: 1.0000e-04\n",
      "Epoch 23/50\n",
      "51/55 [==========================>...] - ETA: 0s - loss: 0.5086 - binary_accuracy: 0.7504 - accuracy: 0.3686\n",
      "Epoch 00023: val_loss did not improve from 0.50982\n",
      "55/55 [==============================] - 0s 7ms/step - loss: 0.5066 - binary_accuracy: 0.7516 - accuracy: 0.3728 - val_loss: 0.5113 - val_binary_accuracy: 0.7516 - val_accuracy: 0.3572 - lr: 1.0000e-04\n",
      "Epoch 24/50\n",
      "49/55 [=========================>....] - ETA: 0s - loss: 0.5058 - binary_accuracy: 0.7519 - accuracy: 0.3814\n",
      "Epoch 00024: val_loss did not improve from 0.50982\n",
      "55/55 [==============================] - 0s 8ms/step - loss: 0.5067 - binary_accuracy: 0.7510 - accuracy: 0.3769 - val_loss: 0.5111 - val_binary_accuracy: 0.7494 - val_accuracy: 0.3585 - lr: 1.0000e-04\n",
      "Epoch 25/50\n",
      "50/55 [==========================>...] - ETA: 0s - loss: 0.5051 - binary_accuracy: 0.7530 - accuracy: 0.3778\n",
      "Epoch 00025: val_loss did not improve from 0.50982\n",
      "55/55 [==============================] - 0s 8ms/step - loss: 0.5063 - binary_accuracy: 0.7524 - accuracy: 0.3769 - val_loss: 0.5110 - val_binary_accuracy: 0.7478 - val_accuracy: 0.3688 - lr: 1.0000e-04\n",
      "Epoch 26/50\n",
      "50/55 [==========================>...] - ETA: 0s - loss: 0.5071 - binary_accuracy: 0.7508 - accuracy: 0.3786\n",
      "Epoch 00026: val_loss did not improve from 0.50982\n",
      "55/55 [==============================] - 0s 8ms/step - loss: 0.5061 - binary_accuracy: 0.7516 - accuracy: 0.3773 - val_loss: 0.5110 - val_binary_accuracy: 0.7500 - val_accuracy: 0.3649 - lr: 1.0000e-04\n",
      "Epoch 27/50\n",
      "52/55 [===========================>..] - ETA: 0s - loss: 0.5049 - binary_accuracy: 0.7530 - accuracy: 0.3762\n",
      "Epoch 00027: val_loss did not improve from 0.50982\n",
      "55/55 [==============================] - 0s 8ms/step - loss: 0.5048 - binary_accuracy: 0.7528 - accuracy: 0.3767 - val_loss: 0.5109 - val_binary_accuracy: 0.7506 - val_accuracy: 0.3700 - lr: 1.0000e-04\n",
      "Epoch 28/50\n",
      "53/55 [===========================>..] - ETA: 0s - loss: 0.5063 - binary_accuracy: 0.7521 - accuracy: 0.3746\n",
      "Epoch 00028: val_loss did not improve from 0.50982\n",
      "55/55 [==============================] - 0s 7ms/step - loss: 0.5061 - binary_accuracy: 0.7521 - accuracy: 0.3732 - val_loss: 0.5109 - val_binary_accuracy: 0.7542 - val_accuracy: 0.3598 - lr: 1.0000e-04\n",
      "Epoch 29/50\n",
      "49/55 [=========================>....] - ETA: 0s - loss: 0.5051 - binary_accuracy: 0.7539 - accuracy: 0.3799\n",
      "Epoch 00029: val_loss did not improve from 0.50982\n",
      "55/55 [==============================] - 0s 7ms/step - loss: 0.5054 - binary_accuracy: 0.7528 - accuracy: 0.3773 - val_loss: 0.5111 - val_binary_accuracy: 0.7510 - val_accuracy: 0.3547 - lr: 1.0000e-04\n",
      "Epoch 30/50\n",
      "51/55 [==========================>...] - ETA: 0s - loss: 0.5036 - binary_accuracy: 0.7526 - accuracy: 0.3753\n",
      "Epoch 00030: val_loss did not improve from 0.50982\n",
      "55/55 [==============================] - 0s 7ms/step - loss: 0.5043 - binary_accuracy: 0.7523 - accuracy: 0.3765 - val_loss: 0.5106 - val_binary_accuracy: 0.7494 - val_accuracy: 0.3649 - lr: 1.0000e-04\n",
      "Epoch 31/50\n",
      "50/55 [==========================>...] - ETA: 0s - loss: 0.5066 - binary_accuracy: 0.7525 - accuracy: 0.3797\n",
      "Epoch 00031: val_loss did not improve from 0.50982\n",
      "55/55 [==============================] - 0s 8ms/step - loss: 0.5047 - binary_accuracy: 0.7540 - accuracy: 0.3816 - val_loss: 0.5102 - val_binary_accuracy: 0.7506 - val_accuracy: 0.3624 - lr: 1.0000e-04\n",
      "Epoch 32/50\n",
      "48/55 [=========================>....] - ETA: 0s - loss: 0.5023 - binary_accuracy: 0.7562 - accuracy: 0.3768\n",
      "Epoch 00032: val_loss did not improve from 0.50982\n",
      "55/55 [==============================] - 0s 8ms/step - loss: 0.5033 - binary_accuracy: 0.7551 - accuracy: 0.3775 - val_loss: 0.5102 - val_binary_accuracy: 0.7497 - val_accuracy: 0.3560 - lr: 1.0000e-04\n",
      "Epoch 33/50\n",
      "50/55 [==========================>...] - ETA: 0s - loss: 0.5047 - binary_accuracy: 0.7543 - accuracy: 0.3798\n",
      "Epoch 00033: val_loss did not improve from 0.50982\n",
      "55/55 [==============================] - 0s 7ms/step - loss: 0.5032 - binary_accuracy: 0.7551 - accuracy: 0.3793 - val_loss: 0.5103 - val_binary_accuracy: 0.7510 - val_accuracy: 0.3585 - lr: 1.0000e-04\n",
      "Epoch 34/50\n",
      "49/55 [=========================>....] - ETA: 0s - loss: 0.5041 - binary_accuracy: 0.7541 - accuracy: 0.3747\n",
      "Epoch 00034: val_loss did not improve from 0.50982\n",
      "\n",
      "Epoch 00034: ReduceLROnPlateau reducing learning rate to 1.0000000474974514e-05.\n",
      "55/55 [==============================] - 0s 7ms/step - loss: 0.5038 - binary_accuracy: 0.7537 - accuracy: 0.3749 - val_loss: 0.5108 - val_binary_accuracy: 0.7484 - val_accuracy: 0.3611 - lr: 1.0000e-04\n",
      "Epoch 35/50\n",
      "52/55 [===========================>..] - ETA: 0s - loss: 0.5031 - binary_accuracy: 0.7551 - accuracy: 0.3782\n",
      "Epoch 00035: val_loss did not improve from 0.50982\n",
      "55/55 [==============================] - 0s 8ms/step - loss: 0.5028 - binary_accuracy: 0.7551 - accuracy: 0.3776 - val_loss: 0.5099 - val_binary_accuracy: 0.7500 - val_accuracy: 0.3572 - lr: 1.0000e-05\n",
      "Epoch 36/50\n",
      "48/55 [=========================>....] - ETA: 0s - loss: 0.5039 - binary_accuracy: 0.7514 - accuracy: 0.3766\n",
      "Epoch 00036: val_loss did not improve from 0.50982\n",
      "55/55 [==============================] - 0s 7ms/step - loss: 0.5030 - binary_accuracy: 0.7520 - accuracy: 0.3770 - val_loss: 0.5099 - val_binary_accuracy: 0.7506 - val_accuracy: 0.3585 - lr: 1.0000e-05\n",
      "Epoch 37/50\n",
      "51/55 [==========================>...] - ETA: 0s - loss: 0.5013 - binary_accuracy: 0.7544 - accuracy: 0.3794\n",
      "Epoch 00037: val_loss did not improve from 0.50982\n",
      "55/55 [==============================] - 0s 8ms/step - loss: 0.5019 - binary_accuracy: 0.7537 - accuracy: 0.3796 - val_loss: 0.5098 - val_binary_accuracy: 0.7516 - val_accuracy: 0.3572 - lr: 1.0000e-05\n",
      "Epoch 38/50\n",
      "50/55 [==========================>...] - ETA: 0s - loss: 0.5011 - binary_accuracy: 0.7553 - accuracy: 0.3805\n",
      "Epoch 00038: val_loss did not improve from 0.50982\n",
      "\n",
      "Epoch 00038: ReduceLROnPlateau reducing learning rate to 1.0000000656873453e-06.\n",
      "55/55 [==============================] - 0s 8ms/step - loss: 0.5022 - binary_accuracy: 0.7543 - accuracy: 0.3790 - val_loss: 0.5099 - val_binary_accuracy: 0.7500 - val_accuracy: 0.3572 - lr: 1.0000e-05\n",
      "Epoch 39/50\n",
      "50/55 [==========================>...] - ETA: 0s - loss: 0.5010 - binary_accuracy: 0.7552 - accuracy: 0.3809\n",
      "Epoch 00039: val_loss did not improve from 0.50982\n",
      "55/55 [==============================] - 0s 8ms/step - loss: 0.5020 - binary_accuracy: 0.7546 - accuracy: 0.3792 - val_loss: 0.5098 - val_binary_accuracy: 0.7497 - val_accuracy: 0.3572 - lr: 1.0000e-06\n",
      "Epoch 40/50\n",
      "52/55 [===========================>..] - ETA: 0s - loss: 0.5022 - binary_accuracy: 0.7563 - accuracy: 0.3773\n",
      "Epoch 00040: val_loss did not improve from 0.50982\n",
      "55/55 [==============================] - 0s 8ms/step - loss: 0.5024 - binary_accuracy: 0.7555 - accuracy: 0.3763 - val_loss: 0.5098 - val_binary_accuracy: 0.7497 - val_accuracy: 0.3572 - lr: 1.0000e-06\n",
      "Epoch 41/50\n",
      "50/55 [==========================>...] - ETA: 0s - loss: 0.5035 - binary_accuracy: 0.7550 - accuracy: 0.3758\n",
      "Epoch 00041: val_loss did not improve from 0.50982\n",
      "\n",
      "Epoch 00041: ReduceLROnPlateau reducing learning rate to 1.0000001111620805e-07.\n",
      "55/55 [==============================] - 0s 8ms/step - loss: 0.5027 - binary_accuracy: 0.7548 - accuracy: 0.3789 - val_loss: 0.5098 - val_binary_accuracy: 0.7497 - val_accuracy: 0.3572 - lr: 1.0000e-06\n",
      "Epoch 42/50\n",
      "51/55 [==========================>...] - ETA: 0s - loss: 0.5018 - binary_accuracy: 0.7539 - accuracy: 0.3794\n",
      "Epoch 00042: val_loss did not improve from 0.50982\n",
      "55/55 [==============================] - 0s 8ms/step - loss: 0.5024 - binary_accuracy: 0.7533 - accuracy: 0.3779 - val_loss: 0.5098 - val_binary_accuracy: 0.7497 - val_accuracy: 0.3572 - lr: 1.0000e-07\n",
      "Epoch 43/50\n",
      "52/55 [===========================>..] - ETA: 0s - loss: 0.5022 - binary_accuracy: 0.7544 - accuracy: 0.3776\n",
      "Epoch 00043: val_loss did not improve from 0.50982\n",
      "55/55 [==============================] - 0s 8ms/step - loss: 0.5014 - binary_accuracy: 0.7548 - accuracy: 0.3766 - val_loss: 0.5098 - val_binary_accuracy: 0.7497 - val_accuracy: 0.3572 - lr: 1.0000e-07\n",
      "Epoch 44/50\n",
      "51/55 [==========================>...] - ETA: 0s - loss: 0.5007 - binary_accuracy: 0.7550 - accuracy: 0.3845\n",
      "Epoch 00044: val_loss did not improve from 0.50982\n",
      "\n",
      "Epoch 00044: ReduceLROnPlateau reducing learning rate to 1.000000082740371e-08.\n",
      "55/55 [==============================] - 0s 8ms/step - loss: 0.5016 - binary_accuracy: 0.7544 - accuracy: 0.3813 - val_loss: 0.5098 - val_binary_accuracy: 0.7494 - val_accuracy: 0.3572 - lr: 1.0000e-07\n",
      "Epoch 45/50\n",
      "52/55 [===========================>..] - ETA: 0s - loss: 0.5024 - binary_accuracy: 0.7531 - accuracy: 0.3770\n",
      "Epoch 00045: val_loss did not improve from 0.50982\n",
      "55/55 [==============================] - 0s 8ms/step - loss: 0.5024 - binary_accuracy: 0.7540 - accuracy: 0.3776 - val_loss: 0.5098 - val_binary_accuracy: 0.7494 - val_accuracy: 0.3572 - lr: 1.0000e-08\n",
      "Epoch 46/50\n",
      "50/55 [==========================>...] - ETA: 0s - loss: 0.5031 - binary_accuracy: 0.7540 - accuracy: 0.3803\n",
      "Epoch 00046: val_loss did not improve from 0.50982\n",
      "55/55 [==============================] - 0s 8ms/step - loss: 0.5027 - binary_accuracy: 0.7538 - accuracy: 0.3807 - val_loss: 0.5098 - val_binary_accuracy: 0.7494 - val_accuracy: 0.3572 - lr: 1.0000e-08\n",
      "Epoch 47/50\n",
      "50/55 [==========================>...] - ETA: 0s - loss: 0.5004 - binary_accuracy: 0.7573 - accuracy: 0.3794\n",
      "Epoch 00047: val_loss did not improve from 0.50982\n",
      "\n",
      "Epoch 00047: ReduceLROnPlateau reducing learning rate to 1.000000082740371e-09.\n",
      "55/55 [==============================] - 0s 8ms/step - loss: 0.5017 - binary_accuracy: 0.7561 - accuracy: 0.3809 - val_loss: 0.5098 - val_binary_accuracy: 0.7494 - val_accuracy: 0.3572 - lr: 1.0000e-08\n",
      "Epoch 48/50\n",
      "50/55 [==========================>...] - ETA: 0s - loss: 0.5019 - binary_accuracy: 0.7550 - accuracy: 0.3789\n",
      "Epoch 00048: val_loss did not improve from 0.50982\n",
      "55/55 [==============================] - 0s 8ms/step - loss: 0.5027 - binary_accuracy: 0.7537 - accuracy: 0.3782 - val_loss: 0.5098 - val_binary_accuracy: 0.7494 - val_accuracy: 0.3572 - lr: 1.0000e-09\n",
      "Epoch 49/50\n",
      "51/55 [==========================>...] - ETA: 0s - loss: 0.4992 - binary_accuracy: 0.7564 - accuracy: 0.3820\n",
      "Epoch 00049: val_loss did not improve from 0.50982\n",
      "55/55 [==============================] - 0s 8ms/step - loss: 0.5015 - binary_accuracy: 0.7549 - accuracy: 0.3816 - val_loss: 0.5098 - val_binary_accuracy: 0.7494 - val_accuracy: 0.3572 - lr: 1.0000e-09\n",
      "Epoch 50/50\n",
      "49/55 [=========================>....] - ETA: 0s - loss: 0.5006 - binary_accuracy: 0.7535 - accuracy: 0.3752\n",
      "Epoch 00050: val_loss did not improve from 0.50982\n",
      "\n",
      "Epoch 00050: ReduceLROnPlateau reducing learning rate to 1.000000082740371e-10.\n",
      "55/55 [==============================] - 0s 8ms/step - loss: 0.5016 - binary_accuracy: 0.7530 - accuracy: 0.3749 - val_loss: 0.5098 - val_binary_accuracy: 0.7494 - val_accuracy: 0.3572 - lr: 1.0000e-09\n"
     ]
    }
   ],
   "source": [
    "#We train (fit our data to) our model\n",
    "history_cnn = model_cnn.fit(X_train_enc,                               # features\n",
    "    y_train_enc,                               # labels\n",
    "    epochs=num_epochs,                          # numbers of epoch\n",
    "    batch_size=batch_size,                  # define batch size\n",
    "    verbose=1,                              # the most extended verbose\n",
    "    validation_data=(X_val_enc, y_val_enc),   \n",
    "    callbacks=callbacks_cnn\n",
    ")"
   ]
  },
  {
   "cell_type": "markdown",
   "id": "SDfs0P8uDPNP",
   "metadata": {
    "id": "SDfs0P8uDPNP"
   },
   "source": [
    "## Model Evaluation\n"
   ]
  },
  {
   "cell_type": "code",
   "execution_count": 48,
   "id": "gUq3J9mk17M-",
   "metadata": {
    "colab": {
     "base_uri": "https://localhost:8080/"
    },
    "id": "gUq3J9mk17M-",
    "outputId": "24d37d0a-5056-4ac2-d9c9-f99094754acb"
   },
   "outputs": [
    {
     "name": "stdout",
     "output_type": "stream",
     "text": [
      "7/7 [==============================] - 0s 6ms/step - loss: 0.5098 - binary_accuracy: 0.7519 - accuracy: 0.3675\n"
     ]
    }
   ],
   "source": [
    "score_cnn = model_cnn.evaluate(\n",
    "    X_val_enc,                 \n",
    "    y_val_enc,                 \n",
    "    batch_size=batch_size,   \n",
    "    verbose=1                \n",
    ")\n"
   ]
  },
  {
   "cell_type": "code",
   "execution_count": 72,
   "id": "O0ko84hwCWpa",
   "metadata": {
    "colab": {
     "base_uri": "https://localhost:8080/"
    },
    "id": "O0ko84hwCWpa",
    "outputId": "5370d6ce-6b81-4a69-e9e8-203a5c100760"
   },
   "outputs": [
    {
     "name": "stdout",
     "output_type": "stream",
     "text": [
      "\n",
      "Validation binary_crossentropy: 0.5098198652267456\n",
      "\n",
      "Validation binary accuracy: 75.192 %\n",
      "\n",
      "Validation accuracy: 36.748 %\n"
     ]
    }
   ],
   "source": [
    "print('\\nValidation binary_crossentropy: {}'.format(score_cnn[0]))\n",
    "print('\\nValidation binary accuracy: {:.3f} %'.format(score_cnn[1]*100))\n",
    "print('\\nValidation accuracy: {:.3f} %'.format(score_cnn[2]*100))"
   ]
  },
  {
   "cell_type": "code",
   "execution_count": 73,
   "id": "QkhM8BQ55cGu",
   "metadata": {
    "id": "QkhM8BQ55cGu"
   },
   "outputs": [],
   "source": [
    "def plot_keras_history(history):\n",
    "    \"\"\"\n",
    "    \n",
    "    :param history: \n",
    "    :return: \n",
    "    \"\"\"\n",
    "    # the history object gives the metrics keys. \n",
    "    # we will store the metrics keys that are from the training sesion.\n",
    "    metrics_names = [key for key in history.history.keys() if not key.startswith('val_')]\n",
    "\n",
    "    for i, metric in enumerate(metrics_names):\n",
    "        \n",
    "        # getting the training values\n",
    "        metric_train_values = history.history.get(metric, [])\n",
    "        \n",
    "        # getting the validation values\n",
    "        metric_val_values = history.history.get(\"val_{}\".format(metric), [])\n",
    "\n",
    "        # As loss always exists as a metric we use it to find the \n",
    "        epochs = range(1, len(metric_train_values) + 1)\n",
    "        \n",
    "        # leaving extra spaces to allign with the validation text\n",
    "        training_text = \"   Training {}: {:.5f}\".format(metric,\n",
    "                                                        metric_train_values[-1])\n",
    "\n",
    "        # metric\n",
    "        plt.figure(i, figsize=(12, 6))\n",
    "\n",
    "        plt.plot(epochs,\n",
    "                 metric_train_values,\n",
    "                 'b',\n",
    "                 label=training_text)\n",
    "        \n",
    "        # if we validation metric exists, then plot that as well\n",
    "        if metric_val_values:\n",
    "            validation_text = \"Validation {}: {:.5f}\".format(metric,\n",
    "                                                             metric_val_values[-1])\n",
    "\n",
    "            plt.plot(epochs,\n",
    "                     metric_val_values,\n",
    "                     'g',\n",
    "                     label=validation_text)\n",
    "        \n",
    "        # add title, xlabel, ylabe, and legend\n",
    "        plt.title('Model Metric: {}'.format(metric))\n",
    "        plt.xlabel('Epochs')\n",
    "        plt.ylabel(metric.title())\n",
    "        plt.legend()\n",
    "\n",
    "    plt.show()"
   ]
  },
  {
   "cell_type": "code",
   "execution_count": 74,
   "id": "z4g9dgXt5cuS",
   "metadata": {
    "colab": {
     "base_uri": "https://localhost:8080/",
     "height": 1000
    },
    "id": "z4g9dgXt5cuS",
    "outputId": "cc95ac2d-2b9b-47c9-eaae-25d633694b7f"
   },
   "outputs": [
    {
     "data": {
      "image/png": "[encoded data removed]",
      "text/plain": [
       "<Figure size 864x432 with 1 Axes>"
      ]
     },
     "metadata": {
      "needs_background": "light"
     },
     "output_type": "display_data"
    },
    {
     "data": {
      "image/png": "[encoded data removed]",
      "text/plain": [
       "<Figure size 864x432 with 1 Axes>"
      ]
     },
     "metadata": {
      "needs_background": "light"
     },
     "output_type": "display_data"
    },
    {
     "data": {
      "image/png": "[encoded data removed]",
      "text/plain": [
       "<Figure size 864x432 with 1 Axes>"
      ]
     },
     "metadata": {
      "needs_background": "light"
     },
     "output_type": "display_data"
    },
    {
     "data": {
      "image/png": "[encoded data removed]",
      "text/plain": [
       "<Figure size 864x432 with 1 Axes>"
      ]
     },
     "metadata": {
      "needs_background": "light"
     },
     "output_type": "display_data"
    }
   ],
   "source": [
    "plot_keras_history(history_cnn)"
   ]
  },
  {
   "cell_type": "code",
   "execution_count": null,
   "id": "kPPLa2cgCVoY",
   "metadata": {
    "id": "kPPLa2cgCVoY"
   },
   "outputs": [],
   "source": [
    "# from tensorflow.python.keras.models import load_model\n",
    "\n",
    "# model_cnn.save('model_cnn.h5')  # creates a HDF5 file 'my_model.h5'\n",
    "\n",
    "# # returns a compiled model\n",
    "# # identical to the previous one\n",
    "# model = load_model('my_model.h5')"
   ]
  },
  {
   "cell_type": "code",
   "execution_count": 93,
   "id": "Q7krLhV7C24P",
   "metadata": {
    "id": "Q7krLhV7C24P"
   },
   "outputs": [],
   "source": [
    "model_cnn.save_weights('model_cnn_weights.h5')"
   ]
  },
  {
   "cell_type": "markdown",
   "id": "AQMCGnuxTDS6",
   "metadata": {
    "id": "AQMCGnuxTDS6"
   },
   "source": [
    "# CRNN Model"
   ]
  },
  {
   "cell_type": "code",
   "execution_count": 75,
   "id": "Ld1AZkY0TGCf",
   "metadata": {
    "colab": {
     "base_uri": "https://localhost:8080/"
    },
    "id": "Ld1AZkY0TGCf",
    "outputId": "66bdffaf-e6ac-451c-b56c-9fa64163e621"
   },
   "outputs": [
    {
     "name": "stdout",
     "output_type": "stream",
     "text": [
      "Number of Classes (Personality Components): 4\n",
      "Kernel size: 3\n",
      "Number of filters: 128\n",
      "Dropout rate: 0.4\n"
     ]
    }
   ],
   "source": [
    "# cnn-lstm network hyperparameters\n",
    "\n",
    "nb_classes = len(y_train_enc[0])\n",
    "\n",
    "dropout_rate = 0.4\n",
    "\n",
    "nof_filters = 128\n",
    "\n",
    "kernel_size = 3\n",
    "\n",
    "print('Number of Classes (Personality Components): {}'.format(nb_classes))\n",
    "print('Kernel size: {}'.format(kernel_size))\n",
    "print('Number of filters: {}'.format(nof_filters))\n",
    "print('Dropout rate: {}'.format(dropout_rate))\n",
    "\n",
    "#model hyperparameters\n",
    "num_epochs = 50\n",
    "batch_size = 256"
   ]
  },
  {
   "cell_type": "markdown",
   "id": "bUjzwAfIT4ED",
   "metadata": {
    "id": "bUjzwAfIT4ED"
   },
   "source": [
    "## Model Callbacks"
   ]
  },
  {
   "cell_type": "code",
   "execution_count": 78,
   "id": "ktU3lyo4TGPq",
   "metadata": {
    "id": "ktU3lyo4TGPq"
   },
   "outputs": [],
   "source": [
    "monitor = 'val_loss'\n",
    "\n",
    "model_cnn_rnn_fname= 'model_cnn_rnn.h5'\n",
    "\n",
    "callbacks_cnn_rnn = [\n",
    "    # Stop training when a monitored quantity has stopped improving.\n",
    "    EarlyStopping(monitor=monitor,\n",
    "                  patience=5,\n",
    "                  verbose=1,\n",
    "                  restore_best_weights=True),\n",
    "    \n",
    "    # # Save the model after every epoch of the monitor quantity improves\n",
    "    ModelCheckpoint(filepath=model_cnn_rnn_fname,\n",
    "                    monitor=monitor,\n",
    "                    save_best_only=True,\n",
    "                    save_weights_only=False,\n",
    "                    verbose=1),\n",
    "    \n",
    "    # Reduce learning rate when a metric has stopped improving\n",
    "    ReduceLROnPlateau(monitor=monitor,\n",
    "                      factor=0.1,\n",
    "                      patience=3,\n",
    "                      verbose=1,\n",
    "                      restore_best_weights=True)\n",
    "\n",
    "]"
   ]
  },
  {
   "cell_type": "markdown",
   "id": "svv__MPhT_2O",
   "metadata": {
    "id": "svv__MPhT_2O"
   },
   "source": [
    "## Model Architecture"
   ]
  },
  {
   "cell_type": "code",
   "execution_count": 87,
   "id": "ARiykElYTGSg",
   "metadata": {
    "colab": {
     "base_uri": "https://localhost:8080/"
    },
    "id": "ARiykElYTGSg",
    "outputId": "5b225c7b-a3d2-47df-d699-10c76897e29d"
   },
   "outputs": [
    {
     "name": "stdout",
     "output_type": "stream",
     "text": [
      "Building model...\n",
      "Model: \"sequential_16\"\n",
      "_________________________________________________________________\n",
      " Layer (type)                Output Shape              Param #   \n",
      "=================================================================\n",
      " embedding_16 (Embedding)    (None, 280, 300)          10500000  \n",
      "                                                                 \n",
      " conv1d_16 (Conv1D)          (None, 280, 128)          115328    \n",
      "                                                                 \n",
      " max_pooling1d_2 (MaxPooling  (None, 14, 128)          0         \n",
      " 1D)                                                             \n",
      "                                                                 \n",
      " dropout_22 (Dropout)        (None, 14, 128)           0         \n",
      "                                                                 \n",
      " lstm_2 (LSTM)               (None, 14, 64)            49408     \n",
      "                                                                 \n",
      " dropout_23 (Dropout)        (None, 14, 64)            0         \n",
      "                                                                 \n",
      " flatten_2 (Flatten)         (None, 896)               0         \n",
      "                                                                 \n",
      " dense_32 (Dense)            (None, 32)                28704     \n",
      "                                                                 \n",
      " dropout_24 (Dropout)        (None, 32)                0         \n",
      "                                                                 \n",
      " dense_33 (Dense)            (None, 4)                 132       \n",
      "                                                                 \n",
      "=================================================================\n",
      "Total params: 10,693,572\n",
      "Trainable params: 193,572\n",
      "Non-trainable params: 10,500,000\n",
      "_________________________________________________________________\n"
     ]
    }
   ],
   "source": [
    "# instantiate model\n",
    "# print ('Building model...')\n",
    "\n",
    "# model_cnn_rnn = Sequential()\n",
    "# model_cnn_rnn.add(Embedding(max_words, embedding_dim,input_length=maxlen, weights=[embedding_matrix], trainable=False))\n",
    "# model_cnn_rnn.add(Conv1D(nof_filters,kernel_size=kernel_size,padding='same',activation='relu'))\n",
    "# model_cnn_rnn.add(MaxPooling1D(pool_size=20))\n",
    "# model_cnn_rnn.add(Dropout(dropout_rate))\n",
    "# model_cnn_rnn.add(LSTM(64,return_sequences=True))\n",
    "# model_cnn_rnn.add(Dropout(0.25))\n",
    "# model_cnn_rnn.add(Flatten())\n",
    "# model_cnn_rnn.add(Dense(32,activation='relu'))\n",
    "# model_cnn_rnn.add(Dropout(0.45))\n",
    "# model_cnn_rnn.add(Dense(nb_classes,activation='sigmoid'))\n",
    "\n",
    "\n",
    "print('Building model...')\n",
    "\n",
    "model_cnn_rnn = tf.keras.Sequential([\n",
    "    tf.keras.layers.Embedding(max_words, embedding_dim, input_length=maxlen,weights=[embedding_matrix],trainable=False),\n",
    "    tf.keras.layers.Conv1D(nof_filters,kernel_size=kernel_size,padding='same',activation='relu'),\n",
    "    tf.keras.layers.MaxPooling1D(pool_size=20),\n",
    "    tf.keras.layers.Dropout(dropout_rate),\n",
    "    tf.keras.layers.LSTM(64,return_sequences=True),\n",
    "    tf.keras.layers.Dropout(0.25),\n",
    "    tf.keras.layers.Flatten(),\n",
    "    tf.keras.layers.Dense(32,activation='relu'),\n",
    "    tf.keras.layers.Dropout(0.4),\n",
    "    tf.keras.layers.Dense(nb_classes, activation='sigmoid')\n",
    "])\n",
    "model_cnn_rnn.summary()"
   ]
  },
  {
   "cell_type": "code",
   "execution_count": null,
   "id": "0nvsyvp4UgVs",
   "metadata": {
    "colab": {
     "base_uri": "https://localhost:8080/",
     "height": 1000
    },
    "id": "0nvsyvp4UgVs",
    "outputId": "a8da8b1a-cbea-431c-dc98-13ec3b62d5ef"
   },
   "outputs": [
    {
     "data": {
      "image/png": "[encoded data removed]",
      "text/plain": [
       "<IPython.core.display.Image object>"
      ]
     },
     "execution_count": 61,
     "metadata": {},
     "output_type": "execute_result"
    }
   ],
   "source": [
    "plot_model(model_cnn_rnn,show_shapes=True)"
   ]
  },
  {
   "cell_type": "code",
   "execution_count": 88,
   "id": "anX0EOOlTGVj",
   "metadata": {
    "id": "anX0EOOlTGVj"
   },
   "outputs": [],
   "source": [
    "#model compile\n",
    "model_cnn_rnn.compile(optimizer= 'adam',loss ='binary_crossentropy', metrics=['binary_accuracy','accuracy'])"
   ]
  },
  {
   "cell_type": "code",
   "execution_count": 89,
   "id": "tA7lmdhKTGYJ",
   "metadata": {
    "colab": {
     "base_uri": "https://localhost:8080/"
    },
    "id": "tA7lmdhKTGYJ",
    "outputId": "6bcc903b-0aed-404c-8913-3b665f0e0122"
   },
   "outputs": [
    {
     "name": "stdout",
     "output_type": "stream",
     "text": [
      "Epoch 1/50\n",
      "27/28 [===========================>..] - ETA: 0s - loss: 0.6227 - binary_accuracy: 0.6613 - accuracy: 0.2442\n",
      "Epoch 00001: val_loss did not improve from 0.53132\n",
      "28/28 [==============================] - 3s 50ms/step - loss: 0.6226 - binary_accuracy: 0.6612 - accuracy: 0.2440 - val_loss: 0.5845 - val_binary_accuracy: 0.6911 - val_accuracy: 0.2753 - lr: 0.0010\n",
      "Epoch 2/50\n",
      "26/28 [==========================>...] - ETA: 0s - loss: 0.6024 - binary_accuracy: 0.6730 - accuracy: 0.2398\n",
      "Epoch 00002: val_loss did not improve from 0.53132\n",
      "28/28 [==============================] - 1s 27ms/step - loss: 0.6024 - binary_accuracy: 0.6730 - accuracy: 0.2384 - val_loss: 0.5820 - val_binary_accuracy: 0.6937 - val_accuracy: 0.2753 - lr: 0.0010\n",
      "Epoch 3/50\n",
      "27/28 [===========================>..] - ETA: 0s - loss: 0.5957 - binary_accuracy: 0.6777 - accuracy: 0.2383\n",
      "Epoch 00003: val_loss did not improve from 0.53132\n",
      "28/28 [==============================] - 1s 27ms/step - loss: 0.5952 - binary_accuracy: 0.6781 - accuracy: 0.2387 - val_loss: 0.5751 - val_binary_accuracy: 0.6962 - val_accuracy: 0.2753 - lr: 0.0010\n",
      "Epoch 4/50\n",
      "26/28 [==========================>...] - ETA: 0s - loss: 0.5871 - binary_accuracy: 0.6904 - accuracy: 0.2488\n",
      "Epoch 00004: val_loss did not improve from 0.53132\n",
      "28/28 [==============================] - 1s 27ms/step - loss: 0.5874 - binary_accuracy: 0.6903 - accuracy: 0.2479 - val_loss: 0.5647 - val_binary_accuracy: 0.7250 - val_accuracy: 0.2996 - lr: 0.0010\n",
      "Epoch 5/50\n",
      "27/28 [===========================>..] - ETA: 0s - loss: 0.5804 - binary_accuracy: 0.7004 - accuracy: 0.2694\n",
      "Epoch 00005: val_loss did not improve from 0.53132\n",
      "28/28 [==============================] - 1s 28ms/step - loss: 0.5805 - binary_accuracy: 0.7002 - accuracy: 0.2697 - val_loss: 0.5584 - val_binary_accuracy: 0.7295 - val_accuracy: 0.3239 - lr: 0.0010\n",
      "Epoch 6/50\n",
      "26/28 [==========================>...] - ETA: 0s - loss: 0.5676 - binary_accuracy: 0.7119 - accuracy: 0.2897\n",
      "Epoch 00006: val_loss did not improve from 0.53132\n",
      "28/28 [==============================] - 1s 30ms/step - loss: 0.5664 - binary_accuracy: 0.7129 - accuracy: 0.2925 - val_loss: 0.5496 - val_binary_accuracy: 0.7254 - val_accuracy: 0.3099 - lr: 0.0010\n",
      "Epoch 7/50\n",
      "27/28 [===========================>..] - ETA: 0s - loss: 0.5541 - binary_accuracy: 0.7225 - accuracy: 0.3215\n",
      "Epoch 00007: val_loss did not improve from 0.53132\n",
      "28/28 [==============================] - 1s 32ms/step - loss: 0.5540 - binary_accuracy: 0.7228 - accuracy: 0.3224 - val_loss: 0.5351 - val_binary_accuracy: 0.7410 - val_accuracy: 0.3700 - lr: 0.0010\n",
      "Epoch 8/50\n",
      "26/28 [==========================>...] - ETA: 0s - loss: 0.5423 - binary_accuracy: 0.7335 - accuracy: 0.3510\n",
      "Epoch 00008: val_loss did not improve from 0.53132\n",
      "28/28 [==============================] - 1s 31ms/step - loss: 0.5434 - binary_accuracy: 0.7326 - accuracy: 0.3523 - val_loss: 0.5404 - val_binary_accuracy: 0.7308 - val_accuracy: 0.3406 - lr: 0.0010\n",
      "Epoch 9/50\n",
      "26/28 [==========================>...] - ETA: 0s - loss: 0.5331 - binary_accuracy: 0.7367 - accuracy: 0.3643\n",
      "Epoch 00009: val_loss improved from 0.53132 to 0.52460, saving model to model_cnn_rnn.h5\n",
      "28/28 [==============================] - 1s 35ms/step - loss: 0.5328 - binary_accuracy: 0.7368 - accuracy: 0.3641 - val_loss: 0.5246 - val_binary_accuracy: 0.7423 - val_accuracy: 0.3431 - lr: 0.0010\n",
      "Epoch 10/50\n",
      "28/28 [==============================] - ETA: 0s - loss: 0.5135 - binary_accuracy: 0.7490 - accuracy: 0.3870\n",
      "Epoch 00010: val_loss did not improve from 0.52460\n",
      "28/28 [==============================] - 1s 31ms/step - loss: 0.5135 - binary_accuracy: 0.7490 - accuracy: 0.3870 - val_loss: 0.5315 - val_binary_accuracy: 0.7426 - val_accuracy: 0.3342 - lr: 0.0010\n",
      "Epoch 11/50\n",
      "27/28 [===========================>..] - ETA: 0s - loss: 0.5072 - binary_accuracy: 0.7558 - accuracy: 0.4025\n",
      "Epoch 00011: val_loss did not improve from 0.52460\n",
      "28/28 [==============================] - 1s 29ms/step - loss: 0.5074 - binary_accuracy: 0.7556 - accuracy: 0.4026 - val_loss: 0.5468 - val_binary_accuracy: 0.7276 - val_accuracy: 0.3777 - lr: 0.0010\n",
      "Epoch 12/50\n",
      "27/28 [===========================>..] - ETA: 0s - loss: 0.4949 - binary_accuracy: 0.7603 - accuracy: 0.4067\n",
      "Epoch 00012: val_loss did not improve from 0.52460\n",
      "\n",
      "Epoch 00012: ReduceLROnPlateau reducing learning rate to 0.00010000000474974513.\n",
      "28/28 [==============================] - 1s 31ms/step - loss: 0.4951 - binary_accuracy: 0.7602 - accuracy: 0.4055 - val_loss: 0.5361 - val_binary_accuracy: 0.7369 - val_accuracy: 0.3892 - lr: 0.0010\n",
      "Epoch 13/50\n",
      "27/28 [===========================>..] - ETA: 0s - loss: 0.4718 - binary_accuracy: 0.7759 - accuracy: 0.4361\n",
      "Epoch 00013: val_loss did not improve from 0.52460\n",
      "28/28 [==============================] - 1s 27ms/step - loss: 0.4719 - binary_accuracy: 0.7760 - accuracy: 0.4367 - val_loss: 0.5380 - val_binary_accuracy: 0.7446 - val_accuracy: 0.3521 - lr: 1.0000e-04\n",
      "Epoch 14/50\n",
      "26/28 [==========================>...] - ETA: 0s - loss: 0.4673 - binary_accuracy: 0.7802 - accuracy: 0.4431Restoring model weights from the end of the best epoch.\n",
      "\n",
      "Epoch 00014: val_loss did not improve from 0.52460\n",
      "28/28 [==============================] - 1s 27ms/step - loss: 0.4677 - binary_accuracy: 0.7798 - accuracy: 0.4419 - val_loss: 0.5327 - val_binary_accuracy: 0.7446 - val_accuracy: 0.3816 - lr: 1.0000e-04\n",
      "Epoch 00014: early stopping\n"
     ]
    }
   ],
   "source": [
    "#fit train data to the model\n",
    "hist_cnn_rnn = model_cnn_rnn.fit(\n",
    "    x=X_train_enc,          \n",
    "    y=y_train_enc,           \n",
    "    batch_size=batch_size,   \n",
    "    epochs=num_epochs,         \n",
    "    verbose=1,               \n",
    "    validation_data=(       \n",
    "    X_val_enc,               \n",
    "    y_val_enc),\n",
    "    callbacks=callbacks_cnn_rnn\n",
    ")"
   ]
  },
  {
   "cell_type": "markdown",
   "id": "FbTGf5DlUKBR",
   "metadata": {
    "id": "FbTGf5DlUKBR"
   },
   "source": [
    "## Model Evaluation"
   ]
  },
  {
   "cell_type": "code",
   "execution_count": 90,
   "id": "Ocje5h0NUH02",
   "metadata": {
    "colab": {
     "base_uri": "https://localhost:8080/"
    },
    "id": "Ocje5h0NUH02",
    "outputId": "8bf345b3-c818-4163-d0fd-6e5ddee486b1"
   },
   "outputs": [
    {
     "name": "stdout",
     "output_type": "stream",
     "text": [
      "4/4 - 0s - loss: 0.5246 - binary_accuracy: 0.7423 - accuracy: 0.3431 - 72ms/epoch - 18ms/step\n"
     ]
    }
   ],
   "source": [
    "# evaluate and store on score variable on the TEST DATASET\n",
    "score_cnn_rnn = model_cnn_rnn.evaluate(\n",
    "    X_val_enc,    # features\n",
    "    y_val_enc,              # labels\n",
    "    batch_size=batch_size,   # batch size\n",
    "    verbose=2                # the most extended verbose\n",
    ")"
   ]
  },
  {
   "cell_type": "code",
   "execution_count": 91,
   "id": "H_BGOo-xUH3f",
   "metadata": {
    "colab": {
     "base_uri": "https://localhost:8080/"
    },
    "id": "H_BGOo-xUH3f",
    "outputId": "7dab740f-8ee2-4b0a-99a5-a5a6b5f248ce"
   },
   "outputs": [
    {
     "name": "stdout",
     "output_type": "stream",
     "text": [
      "\n",
      "Validation binary_crossentropy: 0.5245955586433411\n",
      "\n",
      "Validation binary accuracy: 74.232 %\n",
      "\n",
      "Validation accuracy: 34.315 %\n"
     ]
    }
   ],
   "source": [
    "print('\\nValidation binary_crossentropy: {}'.format(score_cnn_rnn[0]))\n",
    "print('\\nValidation binary accuracy: {:.3f} %'.format(score_cnn_rnn[1]*100))\n",
    "print('\\nValidation accuracy: {:.3f} %'.format(score_cnn_rnn[2]*100))"
   ]
  },
  {
   "cell_type": "code",
   "execution_count": null,
   "id": "Ph9cqLyYUH5p",
   "metadata": {
    "id": "Ph9cqLyYUH5p"
   },
   "outputs": [],
   "source": [
    "#save the weights of the model\n",
    "model_cnn_rnn.save_weights('model_cnn_rnn_weights.h5')"
   ]
  },
  {
   "cell_type": "code",
   "execution_count": 92,
   "id": "R68oldVuURoU",
   "metadata": {
    "colab": {
     "base_uri": "https://localhost:8080/",
     "height": 1000
    },
    "id": "R68oldVuURoU",
    "outputId": "7d261431-97d9-4c61-87ac-03fe7e2a256c"
   },
   "outputs": [
    {
     "data": {
      "image/png": "[encoded data removed]",
      "text/plain": [
       "<Figure size 864x432 with 1 Axes>"
      ]
     },
     "metadata": {
      "needs_background": "light"
     },
     "output_type": "display_data"
    },
    {
     "data": {
      "image/png": "[encoded data removed]",
      "text/plain": [
       "<Figure size 864x432 with 1 Axes>"
      ]
     },
     "metadata": {
      "needs_background": "light"
     },
     "output_type": "display_data"
    },
    {
     "data": {
      "image/png": "[encoded data removed]",
      "text/plain": [
       "<Figure size 864x432 with 1 Axes>"
      ]
     },
     "metadata": {
      "needs_background": "light"
     },
     "output_type": "display_data"
    },
    {
     "data": {
      "image/png": "[encoded data removed]",
      "text/plain": [
       "<Figure size 864x432 with 1 Axes>"
      ]
     },
     "metadata": {
      "needs_background": "light"
     },
     "output_type": "display_data"
    }
   ],
   "source": [
    "plot_keras_history(hist_cnn_rnn)"
   ]
  },
  {
   "cell_type": "markdown",
   "id": "a8fe2765",
   "metadata": {},
   "source": [
    "## Conclusion \n",
    "\n",
    "As we can observe, in this notebook we implemented one CNN model and one CRNN architecture. These two models performed quite well and have achieved high accuracy scores. Their evaluation summary can be found right below :\n",
    "\n",
    "***CNN:***\n",
    "\n",
    "\n",
    "Validation binary crossentropy: 0.509\n",
    "\n",
    "Validation binary accuracy: 75.19 %\n",
    "\n",
    "Validation accuracy: 36.74 %\n",
    "\n",
    "\n",
    "***CRNN:***\n",
    "\n",
    "\n",
    "Validation binary crossentropy: 0.524\n",
    "\n",
    "Validation binary accuracy: 74.23 %\n",
    "\n",
    "Validation accuracy: 34.31 %\n"
   ]
  }
 ],
 "metadata": {
  "accelerator": "GPU",
  "colab": {
   "collapsed_sections": [],
   "name": "CNN_Models_fin.ipynb",
   "provenance": []
  },
  "gpuClass": "standard",
  "kernelspec": {
   "display_name": "Python 3 (ipykernel)",
   "language": "python",
   "name": "python3"
  },
  "language_info": {
   "codemirror_mode": {
    "name": "ipython",
    "version": 3
   },
   "file_extension": ".py",
   "mimetype": "text/x-python",
   "name": "python",
   "nbconvert_exporter": "python",
   "pygments_lexer": "ipython3",
   "version": "3.9.7"
  }
 },
 "nbformat": 4,
 "nbformat_minor": 5
}
