{
 "cells": [
  {
   "cell_type": "markdown",
   "metadata": {},
   "source": [
    "### Athens University of Economics and Business\n",
    "### Department of Management Science & Technology\n",
    "### Msc in Business Analytics\n",
    "\n",
    "### Course : Machine Learning & Content Analytics\n",
    "* Instructors : H.Papageorgiou, G.Perakis\n",
    "* Students : Xheni Cobanaj (f2822117), Nikolaos Matzakos (f2822107), Dimitris Papageorgiou (f2822109)"
   ]
  },
  {
   "cell_type": "markdown",
   "metadata": {},
   "source": [
    "* Import of necessary libraries :"
   ]
  },
  {
   "cell_type": "code",
   "execution_count": null,
   "metadata": {
    "id": "1MbCOKkiirR6"
   },
   "outputs": [],
   "source": [
    "import pandas as pd\n",
    "import numpy as np\n",
    "import matplotlib.pyplot as plt\n",
    "import seaborn as sns\n",
    "from collections import Counter\n",
    "from IPython.display import Image\n",
    "from IPython.core.display import HTML \n",
    "\n",
    "%matplotlib inline\n",
    "import re\n",
    "import itertools\n",
    "import string\n",
    "import collections\n",
    "from collections import Counter\n",
    "from sklearn.preprocessing import LabelEncoder\n",
    "import nltk\n",
    "from nltk.corpus import stopwords\n",
    "from nltk import word_tokenize\n",
    "from nltk.tokenize import word_tokenize\n",
    "from nltk.stem import PorterStemmer, WordNetLemmatizer\n",
    "from sklearn.model_selection import train_test_split"
   ]
  },
  {
   "cell_type": "markdown",
   "metadata": {
    "id": "uUqoYqhdNIa0"
   },
   "source": [
    "# Data Preprocessing."
   ]
  },
  {
   "cell_type": "code",
   "execution_count": null,
   "metadata": {
    "colab": {
     "base_uri": "https://localhost:8080/"
    },
    "id": "0E0PYXu_851L",
    "outputId": "68fd8dd6-0b1d-4ab3-c6e7-fe07c99ddb2e"
   },
   "outputs": [
    {
     "name": "stderr",
     "output_type": "stream",
     "text": [
      "[nltk_data] Downloading package wordnet to\n",
      "[nltk_data]     C:\\Users\\petro\\AppData\\Roaming\\nltk_data...\n",
      "[nltk_data]   Package wordnet is already up-to-date!\n",
      "[nltk_data] Downloading package punkt to\n",
      "[nltk_data]     C:\\Users\\petro\\AppData\\Roaming\\nltk_data...\n",
      "[nltk_data]   Package punkt is already up-to-date!\n",
      "[nltk_data] Downloading package omw-1.4 to\n",
      "[nltk_data]     C:\\Users\\petro\\AppData\\Roaming\\nltk_data...\n",
      "[nltk_data]   Package omw-1.4 is already up-to-date!\n",
      "[nltk_data] Downloading package stopwords to\n",
      "[nltk_data]     C:\\Users\\petro\\AppData\\Roaming\\nltk_data...\n",
      "[nltk_data]   Package stopwords is already up-to-date!\n"
     ]
    },
    {
     "data": {
      "text/plain": [
       "True"
      ]
     },
     "execution_count": 2,
     "metadata": {},
     "output_type": "execute_result"
    }
   ],
   "source": [
    "nltk.download('wordnet')\n",
    "nltk.download('punkt')\n",
    "nltk.download('omw-1.4')\n",
    "nltk.download('stopwords')"
   ]
  },
  {
   "cell_type": "code",
   "execution_count": null,
   "metadata": {
    "colab": {
     "base_uri": "https://localhost:8080/",
     "height": 241
    },
    "id": "zVTKhjtRjX15",
    "outputId": "eab38d4e-65c6-41ce-d06f-991f484b0014"
   },
   "outputs": [
    {
     "name": "stdout",
     "output_type": "stream",
     "text": [
      "Columns present in the data:  ['type', 'posts']\n",
      "Number of data points:  8675\n"
     ]
    },
    {
     "data": {
      "text/html": [
       "<div>\n",
       "<style scoped>\n",
       "    .dataframe tbody tr th:only-of-type {\n",
       "        vertical-align: middle;\n",
       "    }\n",
       "\n",
       "    .dataframe tbody tr th {\n",
       "        vertical-align: top;\n",
       "    }\n",
       "\n",
       "    .dataframe thead th {\n",
       "        text-align: right;\n",
       "    }\n",
       "</style>\n",
       "<table border=\"1\" class=\"dataframe\">\n",
       "  <thead>\n",
       "    <tr style=\"text-align: right;\">\n",
       "      <th></th>\n",
       "      <th>type</th>\n",
       "      <th>posts</th>\n",
       "    </tr>\n",
       "  </thead>\n",
       "  <tbody>\n",
       "    <tr>\n",
       "      <th>0</th>\n",
       "      <td>INFJ</td>\n",
       "      <td>'http://www.youtube.com/watch?v=qsXHcwe3krw|||...</td>\n",
       "    </tr>\n",
       "    <tr>\n",
       "      <th>1</th>\n",
       "      <td>ENTP</td>\n",
       "      <td>'I'm finding the lack of me in these posts ver...</td>\n",
       "    </tr>\n",
       "    <tr>\n",
       "      <th>2</th>\n",
       "      <td>INTP</td>\n",
       "      <td>'Good one  _____   https://www.youtube.com/wat...</td>\n",
       "    </tr>\n",
       "    <tr>\n",
       "      <th>3</th>\n",
       "      <td>INTJ</td>\n",
       "      <td>'Dear INTP,   I enjoyed our conversation the o...</td>\n",
       "    </tr>\n",
       "    <tr>\n",
       "      <th>4</th>\n",
       "      <td>ENTJ</td>\n",
       "      <td>'You're fired.|||That's another silly misconce...</td>\n",
       "    </tr>\n",
       "  </tbody>\n",
       "</table>\n",
       "</div>"
      ],
      "text/plain": [
       "   type                                              posts\n",
       "0  INFJ  'http://www.youtube.com/watch?v=qsXHcwe3krw|||...\n",
       "1  ENTP  'I'm finding the lack of me in these posts ver...\n",
       "2  INTP  'Good one  _____   https://www.youtube.com/wat...\n",
       "3  INTJ  'Dear INTP,   I enjoyed our conversation the o...\n",
       "4  ENTJ  'You're fired.|||That's another silly misconce..."
      ]
     },
     "execution_count": 3,
     "metadata": {},
     "output_type": "execute_result"
    }
   ],
   "source": [
    "df = pd.read_csv(\"mbti_1.csv\",header=0)\n",
    "print(\"Columns present in the data: \",[i for i in df.columns])\n",
    "print(\"Number of data points: \",df.shape[0])\n",
    "df.head()"
   ]
  },
  {
   "cell_type": "code",
   "execution_count": null,
   "metadata": {
    "id": "49oxtTAINVIc"
   },
   "outputs": [],
   "source": [
    "data = df.copy()"
   ]
  },
  {
   "cell_type": "markdown",
   "metadata": {
    "id": "W5P7BehIJ7--"
   },
   "source": [
    "* Cleaning function to be applied to the posts."
   ]
  },
  {
   "cell_type": "code",
   "execution_count": null,
   "metadata": {
    "id": "ZmxjjfwYnRhg"
   },
   "outputs": [],
   "source": [
    "def text_cleaning(text):\n",
    "  \n",
    "  # make all characters lowercase\n",
    "  text = text.lower()\n",
    "\n",
    "  # removing the posts delimiter with double space to separate words  \n",
    "  text = text.replace(\"|\",\" \") \n",
    "\n",
    "  # removing the urls\n",
    "  text = re.sub(r'https?:\\/\\/.*?[\\s+]', '',text)\n",
    "\n",
    "  # removing Punctuation\n",
    "  text = re.sub('[%s]*' % string.punctuation, '',text)\n",
    "\n",
    "  # removing numbers\n",
    "  text = re.sub('[0-9]+','', text)\n",
    "   \n",
    "  # removing non-words \n",
    "  text = re.sub(r'[^a-zA-Z\\s]','',text)\n",
    "\n",
    "  # removing the personallity type codes \n",
    "  pers_types = ['INFP' ,'INFJ', 'INTP', 'INTJ', 'ENTP', 'ENFP', 'ISTP' ,'ISFP' ,'ENTJ', 'ISTJ','ENFJ', 'ISFJ' ,'ESTP', 'ESFP' ,'ESFJ' ,'ESTJ']\n",
    "  pers_types = [p.lower() for p in pers_types]\n",
    "  \n",
    "  for t in pers_types:\n",
    "      text = text.replace(t,\"\")\n",
    "\n",
    "\n",
    "  # removing big spaces\n",
    "  text = re.sub(' +', ' ', text) \n",
    "\n",
    "  \n",
    "\n",
    "  return(text)  "
   ]
  },
  {
   "cell_type": "code",
   "execution_count": null,
   "metadata": {
    "id": "AeRWQN8g-TuG",
    "scrolled": true
   },
   "outputs": [],
   "source": [
    "data['posts'] = data['posts'].apply(text_cleaning)"
   ]
  },
  {
   "cell_type": "markdown",
   "metadata": {
    "id": "b1xmL3uJKuhD"
   },
   "source": [
    "* Function for making the four target features."
   ]
  },
  {
   "cell_type": "code",
   "execution_count": null,
   "metadata": {
    "id": "6W3I94OL0CVg"
   },
   "outputs": [],
   "source": [
    "# function for producing the four binary target variables\n",
    "def categories(df):\n",
    "  df['Extraversion'] = ''\n",
    "  df['Sensing'] = ''\n",
    "  df['Thinking'] = ''\n",
    "  df['Judging'] = ''\n",
    "\n",
    "  for i in df.index:    \n",
    "    if \"E\" in df['type'][i]:\n",
    "      df['Extraversion'][i] = 1\n",
    "    else:\n",
    "      df['Extraversion'][i] = 0\n",
    "\n",
    "    if \"S\" in df['type'][i]:\n",
    "      df['Sensing'][i] = 1\n",
    "    else:\n",
    "      df['Sensing'][i] = 0\n",
    "    \n",
    "    if \"T\" in df['type'][i]:\n",
    "      df['Thinking'][i] = 1\n",
    "    else:\n",
    "      df['Thinking'][i] = 0\n",
    "    \n",
    "    if \"J\" in df['type'][i]:\n",
    "      df['Judging'][i] = 1\n",
    "    else:\n",
    "      df['Judging'][i] = 0\n",
    "  return(df)"
   ]
  },
  {
   "cell_type": "markdown",
   "metadata": {
    "id": "pTZkskRGDVdx"
   },
   "source": [
    "* Converting the task from multiclass to multilabel"
   ]
  },
  {
   "cell_type": "code",
   "execution_count": null,
   "metadata": {
    "colab": {
     "base_uri": "https://localhost:8080/",
     "height": 423
    },
    "id": "Peyqfl51GVxb",
    "outputId": "a76a561d-b765-43f4-e2bf-049a7ff2ffd9"
   },
   "outputs": [
    {
     "data": {
      "text/html": [
       "<div>\n",
       "<style scoped>\n",
       "    .dataframe tbody tr th:only-of-type {\n",
       "        vertical-align: middle;\n",
       "    }\n",
       "\n",
       "    .dataframe tbody tr th {\n",
       "        vertical-align: top;\n",
       "    }\n",
       "\n",
       "    .dataframe thead th {\n",
       "        text-align: right;\n",
       "    }\n",
       "</style>\n",
       "<table border=\"1\" class=\"dataframe\">\n",
       "  <thead>\n",
       "    <tr style=\"text-align: right;\">\n",
       "      <th></th>\n",
       "      <th>type</th>\n",
       "      <th>posts</th>\n",
       "      <th>Extraversion</th>\n",
       "      <th>Sensing</th>\n",
       "      <th>Thinking</th>\n",
       "      <th>Judging</th>\n",
       "    </tr>\n",
       "  </thead>\n",
       "  <tbody>\n",
       "    <tr>\n",
       "      <th>0</th>\n",
       "      <td>INFJ</td>\n",
       "      <td>and moments sportscenter not top ten plays pr...</td>\n",
       "      <td>0</td>\n",
       "      <td>0</td>\n",
       "      <td>0</td>\n",
       "      <td>1</td>\n",
       "    </tr>\n",
       "    <tr>\n",
       "      <th>1</th>\n",
       "      <td>ENTP</td>\n",
       "      <td>im finding the lack of me in these posts very ...</td>\n",
       "      <td>1</td>\n",
       "      <td>0</td>\n",
       "      <td>1</td>\n",
       "      <td>0</td>\n",
       "    </tr>\n",
       "    <tr>\n",
       "      <th>2</th>\n",
       "      <td>INTP</td>\n",
       "      <td>good one of course to which i say i know thats...</td>\n",
       "      <td>0</td>\n",
       "      <td>0</td>\n",
       "      <td>1</td>\n",
       "      <td>0</td>\n",
       "    </tr>\n",
       "    <tr>\n",
       "      <th>3</th>\n",
       "      <td>INTJ</td>\n",
       "      <td>dear i enjoyed our conversation the other day ...</td>\n",
       "      <td>0</td>\n",
       "      <td>0</td>\n",
       "      <td>1</td>\n",
       "      <td>1</td>\n",
       "    </tr>\n",
       "    <tr>\n",
       "      <th>4</th>\n",
       "      <td>ENTJ</td>\n",
       "      <td>youre fired thats another silly misconception ...</td>\n",
       "      <td>1</td>\n",
       "      <td>0</td>\n",
       "      <td>1</td>\n",
       "      <td>1</td>\n",
       "    </tr>\n",
       "    <tr>\n",
       "      <th>...</th>\n",
       "      <td>...</td>\n",
       "      <td>...</td>\n",
       "      <td>...</td>\n",
       "      <td>...</td>\n",
       "      <td>...</td>\n",
       "      <td>...</td>\n",
       "    </tr>\n",
       "    <tr>\n",
       "      <th>8670</th>\n",
       "      <td>ISFP</td>\n",
       "      <td>ixfp just because i always think of cats as f...</td>\n",
       "      <td>0</td>\n",
       "      <td>1</td>\n",
       "      <td>0</td>\n",
       "      <td>0</td>\n",
       "    </tr>\n",
       "    <tr>\n",
       "      <th>8671</th>\n",
       "      <td>ENFP</td>\n",
       "      <td>soif this thread already exists someplace else...</td>\n",
       "      <td>1</td>\n",
       "      <td>0</td>\n",
       "      <td>0</td>\n",
       "      <td>0</td>\n",
       "    </tr>\n",
       "    <tr>\n",
       "      <th>8672</th>\n",
       "      <td>INTP</td>\n",
       "      <td>so many questions when i do these things i wou...</td>\n",
       "      <td>0</td>\n",
       "      <td>0</td>\n",
       "      <td>1</td>\n",
       "      <td>0</td>\n",
       "    </tr>\n",
       "    <tr>\n",
       "      <th>8673</th>\n",
       "      <td>INFP</td>\n",
       "      <td>i am very conflicted right now when it comes t...</td>\n",
       "      <td>0</td>\n",
       "      <td>0</td>\n",
       "      <td>0</td>\n",
       "      <td>0</td>\n",
       "    </tr>\n",
       "    <tr>\n",
       "      <th>8674</th>\n",
       "      <td>INFP</td>\n",
       "      <td>it has been too long since i have been on pers...</td>\n",
       "      <td>0</td>\n",
       "      <td>0</td>\n",
       "      <td>0</td>\n",
       "      <td>0</td>\n",
       "    </tr>\n",
       "  </tbody>\n",
       "</table>\n",
       "<p>8675 rows × 6 columns</p>\n",
       "</div>"
      ],
      "text/plain": [
       "      type                                              posts Extraversion  \\\n",
       "0     INFJ   and moments sportscenter not top ten plays pr...            0   \n",
       "1     ENTP  im finding the lack of me in these posts very ...            1   \n",
       "2     INTP  good one of course to which i say i know thats...            0   \n",
       "3     INTJ  dear i enjoyed our conversation the other day ...            0   \n",
       "4     ENTJ  youre fired thats another silly misconception ...            1   \n",
       "...    ...                                                ...          ...   \n",
       "8670  ISFP   ixfp just because i always think of cats as f...            0   \n",
       "8671  ENFP  soif this thread already exists someplace else...            1   \n",
       "8672  INTP  so many questions when i do these things i wou...            0   \n",
       "8673  INFP  i am very conflicted right now when it comes t...            0   \n",
       "8674  INFP  it has been too long since i have been on pers...            0   \n",
       "\n",
       "     Sensing Thinking Judging  \n",
       "0          0        0       1  \n",
       "1          0        1       0  \n",
       "2          0        1       0  \n",
       "3          0        1       1  \n",
       "4          0        1       1  \n",
       "...      ...      ...     ...  \n",
       "8670       1        0       0  \n",
       "8671       0        0       0  \n",
       "8672       0        1       0  \n",
       "8673       0        0       0  \n",
       "8674       0        0       0  \n",
       "\n",
       "[8675 rows x 6 columns]"
      ]
     },
     "execution_count": 9,
     "metadata": {},
     "output_type": "execute_result"
    }
   ],
   "source": [
    "categories(data)"
   ]
  },
  {
   "cell_type": "markdown",
   "metadata": {
    "id": "PSueVl_NDVdy"
   },
   "source": [
    "### Making our custom stop words vocabulary "
   ]
  },
  {
   "cell_type": "code",
   "execution_count": null,
   "metadata": {
    "colab": {
     "base_uri": "https://localhost:8080/"
    },
    "id": "gOOU4kmr2qsN",
    "outputId": "0ce5dc2f-eadd-4419-c237-10ad40807880",
    "scrolled": false
   },
   "outputs": [
    {
     "name": "stdout",
     "output_type": "stream",
     "text": [
      " and moments sportscenter not top ten plays pranks what has been the most lifechanging experience in your life on repeat for most of today may the perc experience immerse you the last thing my friend posted on his facebook before committing suicide the next day rest in peace hello sorry to hear of your distress its only natural for a relationship to not be perfection all the time in every moment of existence try to figure the hard times as times of growth as welcome and stuff game set match prozac wellbrutin at least thirty minutes of moving your legs and i dont mean moving them while sitting in your same desk chair weed in moderation maybe try edibles as a healthier alternative basically come up with three items youve determined that each type or whichever types you want to do would more than likely use given each types cognitive functions and whatnot when left by all things in moderation sims is indeed a video game and a good one at that note a good one at that is somewhat subjective\n"
     ]
    }
   ],
   "source": [
    "corpora = \" \".join(data.posts)\n",
    "print(corpora[:1000])"
   ]
  },
  {
   "cell_type": "code",
   "execution_count": null,
   "metadata": {
    "id": "utjh4_aJ3CJK"
   },
   "outputs": [],
   "source": [
    "top_words = Counter(corpora.split()).most_common()"
   ]
  },
  {
   "cell_type": "code",
   "execution_count": null,
   "metadata": {
    "id": "AUvIYy3zmCzc"
   },
   "outputs": [],
   "source": [
    "stop_words = set([i[0].lower() for i in top_words[:100]])"
   ]
  },
  {
   "cell_type": "code",
   "execution_count": null,
   "metadata": {
    "id": "snfNbHHjHMYU"
   },
   "outputs": [],
   "source": [
    "from nltk.corpus import stopwords"
   ]
  },
  {
   "cell_type": "code",
   "execution_count": null,
   "metadata": {
    "id": "rflS3A7jKaVN"
   },
   "outputs": [],
   "source": [
    "stop_cus = stop_words.union(set(stopwords.words('english')))\n",
    "stop_cus = stop_cus = list(stop_cus)"
   ]
  },
  {
   "cell_type": "markdown",
   "metadata": {
    "id": "Sat5b9cpOvRb"
   },
   "source": [
    "* Function for removing stop words and stemming the cleaned text."
   ]
  },
  {
   "cell_type": "code",
   "execution_count": null,
   "metadata": {
    "id": "qOKw1c4Cy94x"
   },
   "outputs": [],
   "source": [
    "def stopwords_stemming(x):\n",
    "  ps = PorterStemmer()\n",
    "  x = word_tokenize(x)\n",
    "  x = [word for word in x if word not in stop_cus]\n",
    "  x= [ps.stem(w) for w in x]\n",
    "  x = ' '.join(x)\n",
    "  return(x)"
   ]
  },
  {
   "cell_type": "code",
   "execution_count": null,
   "metadata": {
    "id": "cvATVffEzNdS"
   },
   "outputs": [],
   "source": [
    "data['posts'] = data['posts'].apply(stopwords_stemming)"
   ]
  },
  {
   "cell_type": "markdown",
   "metadata": {
    "id": "NAmpuM7LfOhx"
   },
   "source": [
    "# Data Split "
   ]
  },
  {
   "cell_type": "code",
   "execution_count": null,
   "metadata": {
    "id": "dnSvCXwmfeq8"
   },
   "outputs": [],
   "source": [
    "X = data['posts']\n",
    "y = data[['Extraversion','Sensing','Thinking','Judging']]"
   ]
  },
  {
   "cell_type": "code",
   "execution_count": null,
   "metadata": {
    "id": "MoQGPEKRgOvq"
   },
   "outputs": [],
   "source": [
    "X_train_val, X_test, y_train_val, y_test = train_test_split(X,\n",
    "                                                            y,\n",
    "                                                            test_size=0.1,\n",
    "                                                            random_state=20,\n",
    "                                                            stratify=y)"
   ]
  },
  {
   "cell_type": "code",
   "execution_count": null,
   "metadata": {
    "id": "440EEcyemDkq"
   },
   "outputs": [],
   "source": [
    "X_train, X_val, y_train, y_val = train_test_split(X_train_val,\n",
    "                                                  y_train_val,\n",
    "                                                  test_size=0.10, \n",
    "                                                  random_state=20,\n",
    "                                                  stratify=y_train_val)"
   ]
  },
  {
   "cell_type": "code",
   "execution_count": null,
   "metadata": {
    "colab": {
     "base_uri": "https://localhost:8080/"
    },
    "id": "z9Sg2jK0N8QP",
    "outputId": "7da59c4b-f190-42ca-a1c5-99aeedb1d39f"
   },
   "outputs": [
    {
     "name": "stdout",
     "output_type": "stream",
     "text": [
      "train: 7026\n",
      "val: 781\n",
      "test: 868\n"
     ]
    }
   ],
   "source": [
    "print(f'train: {len(X_train)}\\n'\n",
    "      f'val: {len(X_val)}\\n'\n",
    "      f'test: {len(X_test)}')"
   ]
  },
  {
   "cell_type": "markdown",
   "metadata": {
    "id": "hfBHjAxXSJGQ"
   },
   "source": [
    "## Encoding Target Variable"
   ]
  },
  {
   "cell_type": "code",
   "execution_count": null,
   "metadata": {
    "colab": {
     "base_uri": "https://localhost:8080/"
    },
    "id": "YQEEifh5mUwN",
    "outputId": "ab1ad6f5-ec06-415b-b01d-c59bbc794d88"
   },
   "outputs": [
    {
     "data": {
      "text/plain": [
       "array([[0., 0., 1., 0.],\n",
       "       [0., 0., 1., 1.],\n",
       "       [0., 0., 1., 0.],\n",
       "       ...,\n",
       "       [0., 0., 0., 1.],\n",
       "       [0., 0., 0., 1.],\n",
       "       [1., 0., 1., 0.]], dtype=float32)"
      ]
     },
     "execution_count": 23,
     "metadata": {},
     "output_type": "execute_result"
    }
   ],
   "source": [
    "y_train_enc = np.array(y_train).astype('float32')\n",
    "y_train_enc"
   ]
  },
  {
   "cell_type": "code",
   "execution_count": null,
   "metadata": {
    "id": "qvQy6D8RnShf"
   },
   "outputs": [],
   "source": [
    "y_val_enc = np.array(y_val).astype('float32')\n",
    "y_test_enc = np.array(y_test).astype('float32')"
   ]
  },
  {
   "cell_type": "markdown",
   "metadata": {
    "id": "ZS5t4SehTR22"
   },
   "source": [
    "# Feature Extraction (TF-IDF)."
   ]
  },
  {
   "cell_type": "code",
   "execution_count": null,
   "metadata": {
    "id": "WgGe7JQ1kwAp"
   },
   "outputs": [],
   "source": [
    "from sklearn.feature_extraction.text import TfidfVectorizer"
   ]
  },
  {
   "cell_type": "code",
   "execution_count": null,
   "metadata": {
    "id": "H00bdep4B76e"
   },
   "outputs": [],
   "source": [
    "max_words = 30000"
   ]
  },
  {
   "cell_type": "code",
   "execution_count": null,
   "metadata": {
    "colab": {
     "base_uri": "https://localhost:8080/"
    },
    "id": "AAFeZ2jkotjS",
    "outputId": "d5e448ba-2afb-42d6-ccbf-a31336d8af80"
   },
   "outputs": [
    {
     "data": {
      "text/plain": [
       "TfidfVectorizer(max_features=30000, strip_accents='unicode')"
      ]
     },
     "execution_count": 27,
     "metadata": {},
     "output_type": "execute_result"
    }
   ],
   "source": [
    "tf_idf_vectorizer = TfidfVectorizer(\n",
    "    encoding='utf-8',\n",
    "    strip_accents='unicode',\n",
    "    lowercase=True,\n",
    "    stop_words= None,\n",
    "    ngram_range=(1, 1), # unigrams\n",
    "    max_features= max_words,\n",
    "    binary=False # binary output or full counts. \n",
    ")\n",
    "tf_idf_vectorizer"
   ]
  },
  {
   "cell_type": "code",
   "execution_count": null,
   "metadata": {
    "id": "4tVXkKCwpd2p"
   },
   "outputs": [],
   "source": [
    "X_train_enc = tf_idf_vectorizer.fit_transform(X_train)"
   ]
  },
  {
   "cell_type": "code",
   "execution_count": null,
   "metadata": {
    "id": "6nnOjbuqpv4R"
   },
   "outputs": [],
   "source": [
    "X_val_enc = tf_idf_vectorizer.transform(X_val)\n",
    "X_test_enc = tf_idf_vectorizer.transform(X_test)"
   ]
  },
  {
   "cell_type": "code",
   "execution_count": null,
   "metadata": {
    "colab": {
     "base_uri": "https://localhost:8080/"
    },
    "id": "McBawnahr-E9",
    "outputId": "109fc9b9-354f-4205-8c47-69869a1503fd"
   },
   "outputs": [
    {
     "name": "stdout",
     "output_type": "stream",
     "text": [
      "X_train encoded shape: (7026, 30000)\n",
      "X_val encoded shape: (781, 30000)\n",
      "X_test encoded shape: (868, 30000)\n"
     ]
    }
   ],
   "source": [
    "print(f'X_train encoded shape: {X_train_enc.shape}')\n",
    "print(f'X_val encoded shape: {X_val_enc.shape}')\n",
    "print(f'X_test encoded shape: {X_test_enc.shape}')"
   ]
  },
  {
   "cell_type": "markdown",
   "metadata": {
    "id": "4GV3Gw5M8-WE"
   },
   "source": [
    "# Logistic Regression."
   ]
  },
  {
   "cell_type": "code",
   "execution_count": null,
   "metadata": {
    "id": "0XkiYZKFBE1f"
   },
   "outputs": [],
   "source": [
    "from sklearn.multiclass import OneVsRestClassifier\n",
    "from sklearn.linear_model import LogisticRegression\n",
    "from sklearn.linear_model import SGDClassifier\n",
    "from sklearn import metrics\n",
    "from sklearn.metrics import f1_score,precision_score,recall_score\n",
    "from datetime import datetime"
   ]
  },
  {
   "cell_type": "markdown",
   "metadata": {
    "id": "vHV2h-mGIvD9"
   },
   "source": [
    "## Simpe fit using OneVSRestClassifier technique."
   ]
  },
  {
   "cell_type": "code",
   "execution_count": null,
   "metadata": {
    "colab": {
     "base_uri": "https://localhost:8080/"
    },
    "id": "mawohmju8lzy",
    "outputId": "159d8eaa-b61f-437c-e9f7-cd35ea3cf3f6"
   },
   "outputs": [
    {
     "name": "stdout",
     "output_type": "stream",
     "text": [
      "Accuracy : 0.2893725992317542\n",
      "Hamming loss  0.2765685019206146\n",
      "\n",
      "Micro-average quality numbers\n",
      "Precision: 0.5377, Recall: 0.6994, F1-measure: 0.6080\n",
      "\n",
      "Macro-average quality numbers\n",
      "Precision: 0.4995, Recall: 0.6628, F1-measure: 0.5622\n",
      "\n",
      "Classification Report\n",
      "              precision    recall  f1-score   support\n",
      "\n",
      "           0       0.40      0.62      0.49       181\n",
      "           1       0.28      0.56      0.37       108\n",
      "           2       0.77      0.84      0.80       359\n",
      "           3       0.55      0.64      0.59       310\n",
      "\n",
      "   micro avg       0.54      0.70      0.61       958\n",
      "   macro avg       0.50      0.66      0.56       958\n",
      "weighted avg       0.57      0.70      0.63       958\n",
      " samples avg       0.46      0.55      0.48       958\n",
      "\n",
      "Time taken to run this cell : 0:00:02.803720\n"
     ]
    },
    {
     "name": "stderr",
     "output_type": "stream",
     "text": [
      "C:\\Users\\petro\\AppData\\Roaming\\Python\\Python39\\site-packages\\sklearn\\metrics\\_classification.py:1318: UndefinedMetricWarning: Precision and F-score are ill-defined and being set to 0.0 in samples with no predicted labels. Use `zero_division` parameter to control this behavior.\n",
      "  _warn_prf(average, modifier, msg_start, len(result))\n",
      "C:\\Users\\petro\\AppData\\Roaming\\Python\\Python39\\site-packages\\sklearn\\metrics\\_classification.py:1318: UndefinedMetricWarning: Recall and F-score are ill-defined and being set to 0.0 in samples with no true labels. Use `zero_division` parameter to control this behavior.\n",
      "  _warn_prf(average, modifier, msg_start, len(result))\n"
     ]
    }
   ],
   "source": [
    "start = datetime.now()\n",
    "\n",
    "classifier = OneVsRestClassifier(LogisticRegression(penalty='l1', class_weight='balanced',solver='liblinear'), n_jobs=-1)\n",
    "classifier.fit(X_train_enc, y_train_enc)\n",
    "predictions = classifier.predict(X_val_enc)\n",
    "\n",
    "print(\"Accuracy :\",metrics.accuracy_score(y_val_enc, predictions))\n",
    "print(\"Hamming loss \",metrics.hamming_loss(y_val_enc,predictions))\n",
    "\n",
    "#micro scores\n",
    "precision = precision_score(y_val_enc, predictions, average='micro')\n",
    "recall = recall_score(y_val_enc, predictions, average='micro')\n",
    "f1 = f1_score(y_val_enc, predictions, average='micro')\n",
    "print(\"\\nMicro-average quality numbers\")\n",
    "print(\"Precision: {:.4f}, Recall: {:.4f}, F1-measure: {:.4f}\".format(precision, recall, f1))\n",
    "\n",
    "#macro scores\n",
    "precision = precision_score(y_val_enc, predictions, average='macro')\n",
    "recall = recall_score(y_val_enc, predictions, average='macro')\n",
    "f1 = f1_score(y_val_enc, predictions, average='macro')\n",
    "print(\"\\nMacro-average quality numbers\")\n",
    "print(\"Precision: {:.4f}, Recall: {:.4f}, F1-measure: {:.4f}\".format(precision, recall, f1))\n",
    "print(\"\\nClassification Report\")\n",
    "\n",
    "#classification report\n",
    "print (metrics.classification_report(y_val_enc, predictions))\n",
    "\n",
    "print(\"Time taken to run this cell :\", datetime.now() - start)"
   ]
  },
  {
   "cell_type": "markdown",
   "metadata": {
    "id": "nbezFVQcC0Z1"
   },
   "source": [
    "## Hypeparameter Tuning\n",
    "\n"
   ]
  },
  {
   "cell_type": "markdown",
   "metadata": {
    "id": "SjlGanQlRhW4"
   },
   "source": [
    "* Grid Search Process"
   ]
  },
  {
   "cell_type": "code",
   "execution_count": null,
   "metadata": {
    "id": "m4KVDdcBRhW4"
   },
   "outputs": [],
   "source": [
    "def random_search_logistic(x_train,y_train,x_val,y_val):\n",
    "    \n",
    "    acc_best=0\n",
    "    alpha = [0.000001,0.00001,0.0001,0.001,0.01,0.1,1,10,100,1000,10000]\n",
    "    penalty=['l1','l2']\n",
    "    \n",
    "    for i in alpha :\n",
    "        for j in penalty:\n",
    "            \n",
    "            \n",
    "            model=OneVsRestClassifier(LogisticRegression(class_weight='balanced',solver='liblinear',C=i,penalty=j), n_jobs=-1)\n",
    "           \n",
    "            model.fit(x_train,y_train)\n",
    "            \n",
    "            y_pred=model.predict(x_val)\n",
    "            \n",
    "            acc=metrics.accuracy_score(y_val, y_pred)\n",
    "            \n",
    "            hl=metrics.hamming_loss(y_val,y_pred)\n",
    "            \n",
    "            \n",
    "            print(\"Accuracy : {}, Hamming Loss : {}, with : [ Alpha : {}, Penalty : {} ], \".format(acc,hl,i,j))\n",
    "            \n",
    " \n",
    "    \n",
    "    \n",
    "        if acc > acc_best:\n",
    "            acc_best=acc\n",
    "            fits={\"alpha\" : i, \"penalty\" : j,\"accuracy\" : acc_best, \"hamming_loss\" : hl, \"hamming_score\" : 1-hl}\n",
    "\n",
    "            ,\n",
    "            \n",
    "    return fits\n",
    "            "
   ]
  },
  {
   "cell_type": "code",
   "execution_count": null,
   "metadata": {
    "id": "fHDbA4mwRhW6",
    "outputId": "80c0b570-8dfe-42d6-d374-3a1f3bb86760"
   },
   "outputs": [
    {
     "name": "stdout",
     "output_type": "stream",
     "text": [
      "Accuracy : 0.2112676056338028, Hamming Loss : 0.3066581306017926, with : [ Alpha : 1e-06, Penalty : l1 ], \n",
      "Accuracy : 0.176696542893726, Hamming Loss : 0.34827144686299616, with : [ Alpha : 1e-06, Penalty : l2 ], \n",
      "Accuracy : 0.2112676056338028, Hamming Loss : 0.3066581306017926, with : [ Alpha : 1e-05, Penalty : l1 ], \n",
      "Accuracy : 0.1792573623559539, Hamming Loss : 0.3479513444302177, with : [ Alpha : 1e-05, Penalty : l2 ], \n",
      "Accuracy : 0.2112676056338028, Hamming Loss : 0.3066581306017926, with : [ Alpha : 0.0001, Penalty : l1 ], \n",
      "Accuracy : 0.19590268886043533, Hamming Loss : 0.33962868117797695, with : [ Alpha : 0.0001, Penalty : l2 ], \n",
      "Accuracy : 0.2112676056338028, Hamming Loss : 0.3066581306017926, with : [ Alpha : 0.001, Penalty : l1 ], \n",
      "Accuracy : 0.2560819462227913, Hamming Loss : 0.3005761843790013, with : [ Alpha : 0.001, Penalty : l2 ], \n",
      "Accuracy : 0.2112676056338028, Hamming Loss : 0.3066581306017926, with : [ Alpha : 0.01, Penalty : l1 ], \n",
      "Accuracy : 0.28425096030729835, Hamming Loss : 0.2861715749039693, with : [ Alpha : 0.01, Penalty : l2 ], \n",
      "Accuracy : 0.22151088348271447, Hamming Loss : 0.32426376440460947, with : [ Alpha : 0.1, Penalty : l1 ], \n",
      "Accuracy : 0.30217669654289375, Hamming Loss : 0.2752880921895006, with : [ Alpha : 0.1, Penalty : l2 ], \n",
      "Accuracy : 0.2893725992317542, Hamming Loss : 0.2765685019206146, with : [ Alpha : 1, Penalty : l1 ], \n",
      "Accuracy : 0.36619718309859156, Hamming Loss : 0.23911651728553138, with : [ Alpha : 1, Penalty : l2 ], \n",
      "Accuracy : 0.323943661971831, Hamming Loss : 0.2532010243277849, with : [ Alpha : 10, Penalty : l1 ], \n",
      "Accuracy : 0.3892445582586428, Hamming Loss : 0.22439180537772088, with : [ Alpha : 10, Penalty : l2 ], \n",
      "Accuracy : 0.32522407170294493, Hamming Loss : 0.25032010243277847, with : [ Alpha : 100, Penalty : l1 ], \n",
      "Accuracy : 0.3687580025608195, Hamming Loss : 0.23047375160051217, with : [ Alpha : 100, Penalty : l2 ], \n",
      "Accuracy : 0.322663252240717, Hamming Loss : 0.25416133162612037, with : [ Alpha : 1000, Penalty : l1 ], \n",
      "Accuracy : 0.353393085787452, Hamming Loss : 0.23591549295774647, with : [ Alpha : 1000, Penalty : l2 ], \n",
      "Accuracy : 0.3354673495518566, Hamming Loss : 0.25096030729833546, with : [ Alpha : 10000, Penalty : l1 ], \n",
      "Accuracy : 0.3405889884763124, Hamming Loss : 0.24199743918053776, with : [ Alpha : 10000, Penalty : l2 ], \n"
     ]
    },
    {
     "data": {
      "text/plain": [
       "{'alpha': 10,\n",
       " 'penalty': 'l2',\n",
       " 'accuracy': 0.3892445582586428,\n",
       " 'hamming_loss': 0.22439180537772088,\n",
       " 'hamming_score': 0.7756081946222791}"
      ]
     },
     "execution_count": 40,
     "metadata": {},
     "output_type": "execute_result"
    }
   ],
   "source": [
    "random_search_logistic(X_train_enc,y_train_enc,X_val_enc,y_val_enc)"
   ]
  },
  {
   "cell_type": "code",
   "execution_count": null,
   "metadata": {
    "colab": {
     "base_uri": "https://localhost:8080/"
    },
    "id": "zlYHjLA084eq",
    "outputId": "f5d9408f-a196-4004-e7d1-502b7ae87a75"
   },
   "outputs": [
    {
     "name": "stdout",
     "output_type": "stream",
     "text": [
      "Time taken to run this cell:  0:00:01.465184\n"
     ]
    }
   ],
   "source": [
    "st=datetime.now()\n",
    "\n",
    "classifier2 = OneVsRestClassifier(LogisticRegression(class_weight='balanced',solver='liblinear',C=10,penalty='l2'), n_jobs=-1)\n",
    "classifier2.fit(X_train_enc, y_train_enc)\n",
    "predictions = classifier2.predict(X_val_enc)\n",
    "\n",
    "\n",
    "print(\"Time taken to run this cell: \",datetime.now()-st)"
   ]
  },
  {
   "cell_type": "markdown",
   "metadata": {
    "id": "M_HwnxN3RhW7"
   },
   "source": [
    "* Evaluation metrics"
   ]
  },
  {
   "cell_type": "code",
   "execution_count": null,
   "metadata": {
    "colab": {
     "base_uri": "https://localhost:8080/"
    },
    "id": "y055EEyeGc8n",
    "outputId": "e25594fb-52ec-4748-e271-b8e985ae5b7b",
    "scrolled": true
   },
   "outputs": [
    {
     "name": "stdout",
     "output_type": "stream",
     "text": [
      "Accuracy : 0.3892445582586428\n",
      "Hamming loss  0.22439180537772088\n",
      "\n",
      "Micro-average quality numbers\n",
      "Precision: 0.6377, Recall: 0.6211, F1-measure: 0.6293\n",
      "\n",
      "Macro-average quality numbers\n",
      "Precision: 0.5815, Recall: 0.5607, F1-measure: 0.5704\n",
      "\n",
      "Classification Report\n",
      "              precision    recall  f1-score   support\n",
      "\n",
      "           0       0.48      0.49      0.48       181\n",
      "           1       0.45      0.38      0.41       108\n",
      "           2       0.81      0.80      0.80       359\n",
      "           3       0.59      0.58      0.58       310\n",
      "\n",
      "   micro avg       0.64      0.62      0.63       958\n",
      "   macro avg       0.58      0.56      0.57       958\n",
      "weighted avg       0.63      0.62      0.63       958\n",
      " samples avg       0.49      0.50      0.47       958\n",
      "\n",
      "Time taken to run this cell : 0:00:00.029079\n"
     ]
    },
    {
     "name": "stderr",
     "output_type": "stream",
     "text": [
      "C:\\Users\\petro\\AppData\\Roaming\\Python\\Python39\\site-packages\\sklearn\\metrics\\_classification.py:1318: UndefinedMetricWarning: Precision and F-score are ill-defined and being set to 0.0 in samples with no predicted labels. Use `zero_division` parameter to control this behavior.\n",
      "  _warn_prf(average, modifier, msg_start, len(result))\n",
      "C:\\Users\\petro\\AppData\\Roaming\\Python\\Python39\\site-packages\\sklearn\\metrics\\_classification.py:1318: UndefinedMetricWarning: Recall and F-score are ill-defined and being set to 0.0 in samples with no true labels. Use `zero_division` parameter to control this behavior.\n",
      "  _warn_prf(average, modifier, msg_start, len(result))\n"
     ]
    }
   ],
   "source": [
    "start = datetime.now()\n",
    "\n",
    "print(\"Accuracy :\",metrics.accuracy_score(y_val_enc, predictions))\n",
    "print(\"Hamming loss \",metrics.hamming_loss(y_val_enc,predictions))\n",
    "\n",
    "precision = precision_score(y_val_enc, predictions, average='micro')\n",
    "recall = recall_score(y_val_enc, predictions, average='micro')\n",
    "f1 = f1_score(y_val_enc, predictions, average='micro')\n",
    " \n",
    "print(\"\\nMicro-average quality numbers\")\n",
    "print(\"Precision: {:.4f}, Recall: {:.4f}, F1-measure: {:.4f}\".format(precision, recall, f1))\n",
    "\n",
    "precision = precision_score(y_val_enc, predictions, average='macro')\n",
    "recall = recall_score(y_val_enc, predictions, average='macro')\n",
    "f1 = f1_score(y_val_enc, predictions, average='macro')\n",
    " \n",
    "print(\"\\nMacro-average quality numbers\")\n",
    "print(\"Precision: {:.4f}, Recall: {:.4f}, F1-measure: {:.4f}\".format(precision, recall, f1))\n",
    "\n",
    "print(\"\\nClassification Report\")\n",
    "print (metrics.classification_report(y_val_enc, predictions))\n",
    "print(\"Time taken to run this cell :\", datetime.now() - start)"
   ]
  },
  {
   "cell_type": "markdown",
   "metadata": {
    "id": "QqpKyzpVRhW7"
   },
   "source": [
    "* ROC Curve"
   ]
  },
  {
   "cell_type": "code",
   "execution_count": null,
   "metadata": {
    "id": "rRFFUFqnRhW7"
   },
   "outputs": [],
   "source": [
    "from sklearn.preprocessing import label_binarize\n",
    "from sklearn.metrics import roc_curve, auc\n",
    "\n",
    "# Binarize the output\n",
    "y_enc = label_binarize(y_train_enc, classes=[0, 1, 2,3])\n",
    "n_classes = y_enc.shape[1]\n",
    "\n",
    "# Learn to predict each class against the other\n",
    "y_score = classifier.fit(X_train_enc, y_train_enc).decision_function(X_val_enc)\n",
    "\n",
    "# Compute ROC curve and ROC area for each class\n",
    "fpr = dict()\n",
    "tpr = dict()\n",
    "roc_auc = dict()\n",
    "for i in range(n_classes):\n",
    "    fpr[i], tpr[i], _ = roc_curve(y_val_enc[:, i], y_score[:, i])\n",
    "    roc_auc[i] = auc(fpr[i], tpr[i])\n",
    "\n",
    "# Compute micro-average ROC curve and ROC area\n",
    "fpr[\"micro\"], tpr[\"micro\"], _ = roc_curve(y_val_enc.ravel(), y_score.ravel())\n",
    "roc_auc[\"micro\"] = auc(fpr[\"micro\"], tpr[\"micro\"])"
   ]
  },
  {
   "cell_type": "code",
   "execution_count": null,
   "metadata": {
    "id": "P1ipE4k7RhW8",
    "outputId": "41f6376c-ed06-41c3-f221-8f3c1433b019"
   },
   "outputs": [
    {
     "data": {
      "image/png": "[encoded data removed]",
      "text/plain": [
       "<Figure size 432x288 with 1 Axes>"
      ]
     },
     "metadata": {
      "needs_background": "light"
     },
     "output_type": "display_data"
    }
   ],
   "source": [
    "plt.figure()\n",
    "lw = 2\n",
    "plt.plot(\n",
    "    fpr[2],\n",
    "    tpr[2],\n",
    "    color=\"darkorange\",\n",
    "    lw=lw,\n",
    "    label=\"ROC curve (area = %0.2f)\" % roc_auc[2],\n",
    ")\n",
    "plt.plot([0, 1], [0, 1], color=\"navy\", lw=lw, linestyle=\"--\")\n",
    "plt.xlim([0.0, 1.0])\n",
    "plt.ylim([0.0, 1.05])\n",
    "plt.xlabel(\"False Positive Rate\")\n",
    "plt.ylabel(\"True Positive Rate\")\n",
    "plt.title(\"Receiver operating characteristic example\")\n",
    "plt.legend(loc=\"lower right\")\n",
    "plt.show()\n"
   ]
  },
  {
   "cell_type": "markdown",
   "metadata": {
    "id": "KjJDOnvZRhW8"
   },
   "source": [
    "# Xgboost "
   ]
  },
  {
   "cell_type": "code",
   "execution_count": null,
   "metadata": {
    "id": "cJgZ7NhuRhW8"
   },
   "outputs": [],
   "source": [
    "import xgboost as xgb\n",
    "from sklearn.datasets import make_multilabel_classification\n",
    "from sklearn.model_selection import train_test_split\n",
    "from sklearn.multioutput import MultiOutputClassifier\n",
    "from sklearn.metrics import accuracy_score"
   ]
  },
  {
   "cell_type": "markdown",
   "metadata": {
    "id": "w8RBErGYUcJZ"
   },
   "source": [
    "## Hyperparameter Tuning."
   ]
  },
  {
   "cell_type": "markdown",
   "metadata": {
    "id": "W-wh_GiXRhW8"
   },
   "source": [
    "* Grid Search Process :"
   ]
  },
  {
   "cell_type": "code",
   "execution_count": null,
   "metadata": {
    "id": "soyjsI_cRhW8"
   },
   "outputs": [],
   "source": [
    "def random_search_xgboost(x_train,y_train,x_val,y_val):\n",
    "    \n",
    "    acc_best=0\n",
    "    max_depth=[3,6,8]\n",
    "    learning_rate=[0.1, 0.2, 0.3]\n",
    "    n_estimators=[100, 250,300]\n",
    "    \n",
    "    for i in max_depth :\n",
    "        for j in learning_rate:\n",
    "            \n",
    "            for k in n_estimators:\n",
    "                \n",
    "                xgbclf=xgb.XGBClassifier(objective='binary:logistic',eval_metric='logloss',max_depth=i,learning_rate=j,n_estimators=k)\n",
    "\n",
    "\n",
    "                # create MultiOutputClassifier instance with XGBoost model inside\n",
    "                multilabel_model = MultiOutputClassifier(xgbclf)\n",
    "\n",
    "                # fit the model\n",
    "                multilabel_model.fit(x_train, y_train)\n",
    "\n",
    "            \n",
    "                y_pred=multilabel_model.predict(x_val)\n",
    "            \n",
    "                acc=metrics.accuracy_score(y_val, y_pred)\n",
    "            \n",
    "                hl=metrics.hamming_loss(y_val,y_pred)\n",
    "            \n",
    "            \n",
    "                print(\"Accuracy : {}, Hamming Loss : {}, with : [ Max_Depth : {}, Learning_Rate : {}, N_Estimator : {}  ], \".format(acc,hl,i,j,k))\n",
    "            \n",
    " \n",
    "    \n",
    "    \n",
    "        if acc > acc_best:\n",
    "            acc_best=acc\n",
    "            comb={\"Max_Depth\" : i, \"Learning_Rate\" : j, \"N_Estimator\" : k,\"Accuracy\" : acc_best, \"Hamming_Loss\" : hl, \"Hamming_Score\" : 1-hl}\n",
    "\n",
    "\n",
    "            \n",
    "    return comb"
   ]
  },
  {
   "cell_type": "code",
   "execution_count": null,
   "metadata": {
    "id": "swhXInYeRhW8"
   },
   "outputs": [],
   "source": [
    "import warnings\n",
    "warnings.filterwarnings(\"ignore\")"
   ]
  },
  {
   "cell_type": "code",
   "execution_count": null,
   "metadata": {
    "id": "fousOKHcRhW9",
    "outputId": "e2904dc1-77d2-40b8-dff1-14866a5bedaa"
   },
   "outputs": [
    {
     "name": "stdout",
     "output_type": "stream",
     "text": [
      "Accuracy : 0.3405889884763124, Hamming Loss : 0.23431498079385404, with : [ Max_Depth : 3, Learning_Rate : 0.1, N_Estimator : 100  ], \n",
      "Accuracy : 0.36619718309859156, Hamming Loss : 0.22503201024327785, with : [ Max_Depth : 3, Learning_Rate : 0.1, N_Estimator : 250  ], \n",
      "Accuracy : 0.3674775928297055, Hamming Loss : 0.22311139564660692, with : [ Max_Depth : 3, Learning_Rate : 0.1, N_Estimator : 300  ], \n",
      "Accuracy : 0.353393085787452, Hamming Loss : 0.23111395646606914, with : [ Max_Depth : 3, Learning_Rate : 0.2, N_Estimator : 100  ], \n",
      "Accuracy : 0.3444302176696543, Hamming Loss : 0.2327144686299616, with : [ Max_Depth : 3, Learning_Rate : 0.2, N_Estimator : 250  ], \n",
      "Accuracy : 0.3495518565941101, Hamming Loss : 0.2320742637644046, with : [ Max_Depth : 3, Learning_Rate : 0.2, N_Estimator : 300  ], \n",
      "Accuracy : 0.3380281690140845, Hamming Loss : 0.23655569782330346, with : [ Max_Depth : 3, Learning_Rate : 0.3, N_Estimator : 100  ], \n",
      "Accuracy : 0.3546734955185659, Hamming Loss : 0.23431498079385404, with : [ Max_Depth : 3, Learning_Rate : 0.3, N_Estimator : 250  ], \n",
      "Accuracy : 0.3649167733674776, Hamming Loss : 0.23079385403329064, with : [ Max_Depth : 3, Learning_Rate : 0.3, N_Estimator : 300  ], \n",
      "Accuracy : 0.3495518565941101, Hamming Loss : 0.23015364916773368, with : [ Max_Depth : 6, Learning_Rate : 0.1, N_Estimator : 100  ], \n",
      "Accuracy : 0.36107554417413573, Hamming Loss : 0.22183098591549297, with : [ Max_Depth : 6, Learning_Rate : 0.1, N_Estimator : 250  ], \n",
      "Accuracy : 0.36619718309859156, Hamming Loss : 0.22471190781049935, with : [ Max_Depth : 6, Learning_Rate : 0.1, N_Estimator : 300  ], \n",
      "Accuracy : 0.3444302176696543, Hamming Loss : 0.23111395646606914, with : [ Max_Depth : 6, Learning_Rate : 0.2, N_Estimator : 100  ], \n",
      "Accuracy : 0.353393085787452, Hamming Loss : 0.23015364916773368, with : [ Max_Depth : 6, Learning_Rate : 0.2, N_Estimator : 250  ], \n",
      "Accuracy : 0.34827144686299616, Hamming Loss : 0.23175416133162613, with : [ Max_Depth : 6, Learning_Rate : 0.2, N_Estimator : 300  ], \n",
      "Accuracy : 0.3201024327784891, Hamming Loss : 0.24327784891165172, with : [ Max_Depth : 6, Learning_Rate : 0.3, N_Estimator : 100  ], \n",
      "Accuracy : 0.33290653008962867, Hamming Loss : 0.23815620998719592, with : [ Max_Depth : 6, Learning_Rate : 0.3, N_Estimator : 250  ], \n",
      "Accuracy : 0.3265044814340589, Hamming Loss : 0.24039692701664533, with : [ Max_Depth : 6, Learning_Rate : 0.3, N_Estimator : 300  ], \n",
      "Accuracy : 0.3508322663252241, Hamming Loss : 0.23335467349551856, with : [ Max_Depth : 8, Learning_Rate : 0.1, N_Estimator : 100  ], \n",
      "Accuracy : 0.3546734955185659, Hamming Loss : 0.22983354673495518, with : [ Max_Depth : 8, Learning_Rate : 0.1, N_Estimator : 250  ], \n",
      "Accuracy : 0.3687580025608195, Hamming Loss : 0.22439180537772088, with : [ Max_Depth : 8, Learning_Rate : 0.1, N_Estimator : 300  ], \n",
      "Accuracy : 0.33418693982074266, Hamming Loss : 0.2346350832266325, with : [ Max_Depth : 8, Learning_Rate : 0.2, N_Estimator : 100  ], \n",
      "Accuracy : 0.3559539052496799, Hamming Loss : 0.2259923175416133, with : [ Max_Depth : 8, Learning_Rate : 0.2, N_Estimator : 250  ], \n",
      "Accuracy : 0.3559539052496799, Hamming Loss : 0.22727272727272727, with : [ Max_Depth : 8, Learning_Rate : 0.2, N_Estimator : 300  ], \n",
      "Accuracy : 0.3559539052496799, Hamming Loss : 0.2327144686299616, with : [ Max_Depth : 8, Learning_Rate : 0.3, N_Estimator : 100  ], \n",
      "Accuracy : 0.3674775928297055, Hamming Loss : 0.2266325224071703, with : [ Max_Depth : 8, Learning_Rate : 0.3, N_Estimator : 250  ], \n",
      "Accuracy : 0.3687580025608195, Hamming Loss : 0.22535211267605634, with : [ Max_Depth : 8, Learning_Rate : 0.3, N_Estimator : 300  ], \n"
     ]
    },
    {
     "data": {
      "text/plain": [
       "{'Max_Depth': 8,\n",
       " 'Learning_Rate': 0.3,\n",
       " 'N_Estimator': 300,\n",
       " 'Accuracy': 0.3687580025608195,\n",
       " 'Hamming_Loss': 0.22535211267605634,\n",
       " 'Hamming_Score': 0.7746478873239436}"
      ]
     },
     "execution_count": 76,
     "metadata": {},
     "output_type": "execute_result"
    }
   ],
   "source": [
    "random_search_xgboost(X_train_enc,y_train_enc,X_val_enc,y_val_enc)"
   ]
  },
  {
   "cell_type": "markdown",
   "metadata": {
    "id": "ZPPRRfSKRhW9"
   },
   "source": [
    "* Evaluation metrics"
   ]
  },
  {
   "cell_type": "code",
   "execution_count": null,
   "metadata": {
    "id": "K0hp5EEHRhW9",
    "outputId": "a522cfa3-a281-4b63-fb45-e791b0d940fa"
   },
   "outputs": [
    {
     "name": "stdout",
     "output_type": "stream",
     "text": [
      "[20:10:53] WARNING: C:/Users/Administrator/workspace/xgboost-win64_release_1.5.1/src/learner.cc:576: \n",
      "Parameters: { \"leanring_rate\" } might not be used.\n",
      "\n",
      "  This could be a false alarm, with some parameters getting used by language bindings but\n",
      "  then being mistakenly passed down to XGBoost core, or some parameter actually being used\n",
      "  but getting flagged wrongly here. Please open an issue if you find any such cases.\n",
      "\n",
      "\n",
      "[20:12:22] WARNING: C:/Users/Administrator/workspace/xgboost-win64_release_1.5.1/src/learner.cc:576: \n",
      "Parameters: { \"leanring_rate\" } might not be used.\n",
      "\n",
      "  This could be a false alarm, with some parameters getting used by language bindings but\n",
      "  then being mistakenly passed down to XGBoost core, or some parameter actually being used\n",
      "  but getting flagged wrongly here. Please open an issue if you find any such cases.\n",
      "\n",
      "\n",
      "[20:13:56] WARNING: C:/Users/Administrator/workspace/xgboost-win64_release_1.5.1/src/learner.cc:576: \n",
      "Parameters: { \"leanring_rate\" } might not be used.\n",
      "\n",
      "  This could be a false alarm, with some parameters getting used by language bindings but\n",
      "  then being mistakenly passed down to XGBoost core, or some parameter actually being used\n",
      "  but getting flagged wrongly here. Please open an issue if you find any such cases.\n",
      "\n",
      "\n",
      "[20:15:44] WARNING: C:/Users/Administrator/workspace/xgboost-win64_release_1.5.1/src/learner.cc:576: \n",
      "Parameters: { \"leanring_rate\" } might not be used.\n",
      "\n",
      "  This could be a false alarm, with some parameters getting used by language bindings but\n",
      "  then being mistakenly passed down to XGBoost core, or some parameter actually being used\n",
      "  but getting flagged wrongly here. Please open an issue if you find any such cases.\n",
      "\n",
      "\n",
      "Accuracy : 0.3687580025608195\n",
      "Hamming loss: 0.22535211267605634\n",
      "\n",
      "Micro-average quality numbers\n",
      "Precision: 0.7009, Recall: 0.4624, F1-measure: 0.5572\n",
      "\n",
      "Macro-average quality numbers\n",
      "Precision: 0.6367, Recall: 0.3511, F1-measure: 0.4026\n",
      "\n",
      "Classification Report\n",
      "              precision    recall  f1-score   support\n",
      "\n",
      "           0       0.59      0.18      0.27       181\n",
      "           1       0.57      0.04      0.07       108\n",
      "           2       0.77      0.77      0.77       359\n",
      "           3       0.61      0.42      0.49       310\n",
      "\n",
      "   micro avg       0.70      0.46      0.56       958\n",
      "   macro avg       0.64      0.35      0.40       958\n",
      "weighted avg       0.66      0.46      0.51       958\n",
      " samples avg       0.45      0.37      0.39       958\n",
      "\n",
      "Time taken to run this cell : 6:17:49.764043\n"
     ]
    }
   ],
   "source": [
    "st=datetime.now()\n",
    "\n",
    "# create XGBoost instance with default hyper-parameters\n",
    "xgb_estimator = xgb.XGBClassifier(objective='binary:logistic',max_depth=8,leanring_rate=0.3,n_estimators=300,eval_metric='logloss')\n",
    "\n",
    "# create MultiOutputClassifier instance with XGBoost model inside\n",
    "multilabel_model = MultiOutputClassifier(xgb_estimator)\n",
    "\n",
    "# fit the model\n",
    "multilabel_model.fit(X_train_enc, y_train_enc)\n",
    "\n",
    "y_pred=multilabel_model.predict(X_val_enc)\n",
    "\n",
    "\n",
    "#fit tuned multilabel_model on validation set and gather accuracy and hamming loss\n",
    "print(\"Accuracy :\",accuracy_score(y_val_enc, y_pred))\n",
    "print('Hamming loss:',metrics.hamming_loss(y_val_enc, y_pred))\n",
    "\n",
    "#micro- precision, recall, f1\n",
    "precision = precision_score(y_val_enc, y_pred, average='micro')\n",
    "recall = recall_score(y_val_enc, y_pred, average='micro')\n",
    "f1 = f1_score(y_val_enc, y_pred, average='micro')\n",
    "print(\"\\nMicro-average quality numbers\")\n",
    "print(\"Precision: {:.4f}, Recall: {:.4f}, F1-measure: {:.4f}\".format(precision, recall, f1))\n",
    "\n",
    "\n",
    "#macro- precision, recall, f1\n",
    "precision = precision_score(y_val_enc, y_pred, average='macro')\n",
    "recall = recall_score(y_val_enc, y_pred, average='macro')\n",
    "f1 = f1_score(y_val_enc, y_pred, average='macro')\n",
    "print(\"\\nMacro-average quality numbers\")\n",
    "print(\"Precision: {:.4f}, Recall: {:.4f}, F1-measure: {:.4f}\".format(precision, recall, f1))\n",
    "\n",
    "\n",
    "print(\"\\nClassification Report\")\n",
    "print (metrics.classification_report(y_val_enc, y_pred))\n",
    "print(\"Time taken to run this cell :\", datetime.now() - start)"
   ]
  },
  {
   "cell_type": "markdown",
   "metadata": {},
   "source": [
    "## Conclusion \n",
    "\n",
    "Having implemented the three above algorithms, we can see that the first model, the Logistic Regression one deosn't achieve very good results.\n",
    "\n",
    "The second and third model (Logistic Regression and XGBoost with hyperparameter tuning), although belong to the Machine Learning types achieve mediocre results. The Logistic Regression one with grid search seems to have the highest accuracy score surprisingly.\n",
    "\n",
    "***Logistic Regression (baseline) :***\n",
    "\n",
    "Accuracy : 0.289\n",
    "\n",
    "Hamming loss  0.276\n",
    "\n",
    "***Logistic Regression (hyperparameter tuning) :***\n",
    "\n",
    "Accuracy : 0.389\n",
    "\n",
    "Hamming loss  0.224\n",
    "\n",
    "***XGBoost Classifier (hyperparameter tuning) :***\n",
    "\n",
    "Accuracy : 0.368\n",
    "\n",
    "Hamming loss: 0.225"
   ]
  }
 ],
 "metadata": {
  "accelerator": "GPU",
  "colab": {
   "collapsed_sections": [],
   "name": "Traditional_ML_Algorithms.ipynb",
   "provenance": [],
   "toc_visible": true
  },
  "gpuClass": "standard",
  "kernelspec": {
   "display_name": "Python 3 (ipykernel)",
   "language": "python",
   "name": "python3"
  },
  "language_info": {
   "codemirror_mode": {
    "name": "ipython",
    "version": 3
   },
   "file_extension": ".py",
   "mimetype": "text/x-python",
   "name": "python",
   "nbconvert_exporter": "python",
   "pygments_lexer": "ipython3",
   "version": "3.9.7"
  }
 },
 "nbformat": 4,
 "nbformat_minor": 1
}
