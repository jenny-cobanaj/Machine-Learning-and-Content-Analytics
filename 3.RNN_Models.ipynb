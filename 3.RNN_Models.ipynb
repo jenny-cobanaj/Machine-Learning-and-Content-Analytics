{
 "cells": [
  {
   "cell_type": "markdown",
   "id": "b53f9a0d",
   "metadata": {},
   "source": [
    "### Athens University of Economics and Business\n",
    "### Department of Management Science & Technology\n",
    "### Msc in Business Analytics\n",
    "\n",
    "### Course : Machine Learning & Content Analytics\n",
    "* ### Instructors : H.Papageorgiou, G.Perakis\n",
    "* ### Students : Xheni Cobanaj (f2822117), Nikolaos Mantzakos (f2822107), Dimitris Papageorgiou (f2822109)"
   ]
  },
  {
   "cell_type": "markdown",
   "id": "364cee69",
   "metadata": {},
   "source": [
    "* Import of necessary libraries :"
   ]
  },
  {
   "cell_type": "code",
   "execution_count": 1,
   "id": "432351e9",
   "metadata": {
    "id": "432351e9"
   },
   "outputs": [],
   "source": [
    "import pandas as pd\n",
    "import numpy as np\n",
    "import matplotlib.pyplot as plt\n",
    "import seaborn as sns\n",
    "from collections import Counter\n",
    "from IPython.display import Image\n",
    "from IPython.core.display import HTML \n",
    "\n",
    "%matplotlib inline\n",
    "import re\n",
    "import itertools\n",
    "import string\n",
    "import collections\n",
    "from collections import Counter\n",
    "from sklearn.preprocessing import LabelEncoder\n",
    "import nltk\n",
    "from nltk.corpus import stopwords\n",
    "from nltk import word_tokenize\n",
    "from nltk.tokenize import word_tokenize\n",
    "from nltk.stem import PorterStemmer, WordNetLemmatizer\n",
    "\n",
    "import tensorflow as tf\n",
    "from tensorflow.python.keras.models import Sequential\n",
    "from tensorflow.python.keras.layers import Dense,Embedding,Flatten,Dropout,Activation\n",
    "from tensorflow.python.keras import metrics,regularizers\n",
    "from tensorflow.keras.preprocessing.sequence import pad_sequences\n",
    "from tensorflow.keras.preprocessing.text import Tokenizer\n",
    "from tensorflow.keras.utils import plot_model\n",
    "from tensorflow.python.keras.callbacks import EarlyStopping\n",
    "from tensorflow.keras.layers import BatchNormalization\n",
    "from sklearn.model_selection import train_test_split\n",
    "from tensorflow.python.keras.models import Model\n",
    "from tensorflow.keras.layers import LSTM, Input, Concatenate, Bidirectional, concatenate\n",
    "from tqdm import tqdm\n",
    "from tensorflow.python.keras.callbacks import ModelCheckpoint, ReduceLROnPlateau, EarlyStopping, TensorBoard\n"
   ]
  },
  {
   "cell_type": "code",
   "execution_count": 2,
   "id": "46196303",
   "metadata": {
    "colab": {
     "base_uri": "https://localhost:8080/"
    },
    "id": "46196303",
    "outputId": "63b4a7a4-01bc-4cc6-ba7c-a9fa068fe178"
   },
   "outputs": [
    {
     "name": "stderr",
     "output_type": "stream",
     "text": [
      "[nltk_data] Downloading package wordnet to /root/nltk_data...\n",
      "[nltk_data] Downloading package punkt to /root/nltk_data...\n",
      "[nltk_data]   Unzipping tokenizers/punkt.zip.\n",
      "[nltk_data] Downloading package omw-1.4 to /root/nltk_data...\n",
      "[nltk_data] Downloading package stopwords to /root/nltk_data...\n",
      "[nltk_data]   Unzipping corpora/stopwords.zip.\n"
     ]
    },
    {
     "data": {
      "text/plain": [
       "True"
      ]
     },
     "execution_count": 2,
     "metadata": {},
     "output_type": "execute_result"
    }
   ],
   "source": [
    "nltk.download('wordnet')\n",
    "nltk.download('punkt')\n",
    "nltk.download('omw-1.4')\n",
    "nltk.download('stopwords')"
   ]
  },
  {
   "cell_type": "code",
   "execution_count": 3,
   "id": "qo3TViNAUf-V",
   "metadata": {
    "colab": {
     "base_uri": "https://localhost:8080/"
    },
    "id": "qo3TViNAUf-V",
    "outputId": "3772f414-a9ca-445b-b9fd-de8b43a61678"
   },
   "outputs": [
    {
     "name": "stdout",
     "output_type": "stream",
     "text": [
      "Mounted at /content/drive\n"
     ]
    }
   ],
   "source": [
    "from google.colab import drive\n",
    "drive.mount('/content/drive')"
   ]
  },
  {
   "cell_type": "code",
   "execution_count": 4,
   "id": "TPjhBY3zVsib",
   "metadata": {
    "colab": {
     "base_uri": "https://localhost:8080/"
    },
    "id": "TPjhBY3zVsib",
    "outputId": "b95e7339-0782-4a02-fbaf-44b40109ac87"
   },
   "outputs": [
    {
     "name": "stdout",
     "output_type": "stream",
     "text": [
      "/content/drive/MyDrive/mbti_1.csv\n"
     ]
    }
   ],
   "source": [
    "# After executing the cell above, Drive\n",
    "# files will be present in \"/content/drive/My Drive\".\n",
    "!ls \"/content/drive/MyDrive/mbti_1.csv\""
   ]
  },
  {
   "cell_type": "code",
   "execution_count": 5,
   "id": "c5953bfb",
   "metadata": {
    "colab": {
     "base_uri": "https://localhost:8080/",
     "height": 206
    },
    "id": "c5953bfb",
    "outputId": "d47db190-5dd9-4e4c-b0ad-59680c7889ab"
   },
   "outputs": [
    {
     "data": {
      "text/html": [
       "\n",
       "  <div id=\"df-d7f9fe22-6d89-4166-9888-e5fcd204c149\">\n",
       "    <div class=\"colab-df-container\">\n",
       "      <div>\n",
       "<style scoped>\n",
       "    .dataframe tbody tr th:only-of-type {\n",
       "        vertical-align: middle;\n",
       "    }\n",
       "\n",
       "    .dataframe tbody tr th {\n",
       "        vertical-align: top;\n",
       "    }\n",
       "\n",
       "    .dataframe thead th {\n",
       "        text-align: right;\n",
       "    }\n",
       "</style>\n",
       "<table border=\"1\" class=\"dataframe\">\n",
       "  <thead>\n",
       "    <tr style=\"text-align: right;\">\n",
       "      <th></th>\n",
       "      <th>type</th>\n",
       "      <th>posts</th>\n",
       "    </tr>\n",
       "  </thead>\n",
       "  <tbody>\n",
       "    <tr>\n",
       "      <th>0</th>\n",
       "      <td>INFJ</td>\n",
       "      <td>'http://www.youtube.com/watch?v=qsXHcwe3krw|||...</td>\n",
       "    </tr>\n",
       "    <tr>\n",
       "      <th>1</th>\n",
       "      <td>ENTP</td>\n",
       "      <td>'I'm finding the lack of me in these posts ver...</td>\n",
       "    </tr>\n",
       "    <tr>\n",
       "      <th>2</th>\n",
       "      <td>INTP</td>\n",
       "      <td>'Good one  _____   https://www.youtube.com/wat...</td>\n",
       "    </tr>\n",
       "    <tr>\n",
       "      <th>3</th>\n",
       "      <td>INTJ</td>\n",
       "      <td>'Dear INTP,   I enjoyed our conversation the o...</td>\n",
       "    </tr>\n",
       "    <tr>\n",
       "      <th>4</th>\n",
       "      <td>ENTJ</td>\n",
       "      <td>'You're fired.|||That's another silly misconce...</td>\n",
       "    </tr>\n",
       "  </tbody>\n",
       "</table>\n",
       "</div>\n",
       "      <button class=\"colab-df-convert\" onclick=\"convertToInteractive('df-d7f9fe22-6d89-4166-9888-e5fcd204c149')\"\n",
       "              title=\"Convert this dataframe to an interactive table.\"\n",
       "              style=\"display:none;\">\n",
       "        \n",
       "  <svg xmlns=\"http://www.w3.org/2000/svg\" height=\"24px\"viewBox=\"0 0 24 24\"\n",
       "       width=\"24px\">\n",
       "    <path d=\"M0 0h24v24H0V0z\" fill=\"none\"/>\n",
       "    <path d=\"M18.56 5.44l.94 2.06.94-2.06 2.06-.94-2.06-.94-.94-2.06-.94 2.06-2.06.94zm-11 1L8.5 8.5l.94-2.06 2.06-.94-2.06-.94L8.5 2.5l-.94 2.06-2.06.94zm10 10l.94 2.06.94-2.06 2.06-.94-2.06-.94-.94-2.06-.94 2.06-2.06.94z\"/><path d=\"M17.41 7.96l-1.37-1.37c-.4-.4-.92-.59-1.43-.59-.52 0-1.04.2-1.43.59L10.3 9.45l-7.72 7.72c-.78.78-.78 2.05 0 2.83L4 21.41c.39.39.9.59 1.41.59.51 0 1.02-.2 1.41-.59l7.78-7.78 2.81-2.81c.8-.78.8-2.07 0-2.86zM5.41 20L4 18.59l7.72-7.72 1.47 1.35L5.41 20z\"/>\n",
       "  </svg>\n",
       "      </button>\n",
       "      \n",
       "  <style>\n",
       "    .colab-df-container {\n",
       "      display:flex;\n",
       "      flex-wrap:wrap;\n",
       "      gap: 12px;\n",
       "    }\n",
       "\n",
       "    .colab-df-convert {\n",
       "      background-color: #E8F0FE;\n",
       "      border: none;\n",
       "      border-radius: 50%;\n",
       "      cursor: pointer;\n",
       "      display: none;\n",
       "      fill: #1967D2;\n",
       "      height: 32px;\n",
       "      padding: 0 0 0 0;\n",
       "      width: 32px;\n",
       "    }\n",
       "\n",
       "    .colab-df-convert:hover {\n",
       "      background-color: #E2EBFA;\n",
       "      box-shadow: 0px 1px 2px rgba(60, 64, 67, 0.3), 0px 1px 3px 1px rgba(60, 64, 67, 0.15);\n",
       "      fill: #174EA6;\n",
       "    }\n",
       "\n",
       "    [theme=dark] .colab-df-convert {\n",
       "      background-color: #3B4455;\n",
       "      fill: #D2E3FC;\n",
       "    }\n",
       "\n",
       "    [theme=dark] .colab-df-convert:hover {\n",
       "      background-color: #434B5C;\n",
       "      box-shadow: 0px 1px 3px 1px rgba(0, 0, 0, 0.15);\n",
       "      filter: drop-shadow(0px 1px 2px rgba(0, 0, 0, 0.3));\n",
       "      fill: #FFFFFF;\n",
       "    }\n",
       "  </style>\n",
       "\n",
       "      <script>\n",
       "        const buttonEl =\n",
       "          document.querySelector('#df-d7f9fe22-6d89-4166-9888-e5fcd204c149 button.colab-df-convert');\n",
       "        buttonEl.style.display =\n",
       "          google.colab.kernel.accessAllowed ? 'block' : 'none';\n",
       "\n",
       "        async function convertToInteractive(key) {\n",
       "          const element = document.querySelector('#df-d7f9fe22-6d89-4166-9888-e5fcd204c149');\n",
       "          const dataTable =\n",
       "            await google.colab.kernel.invokeFunction('convertToInteractive',\n",
       "                                                     [key], {});\n",
       "          if (!dataTable) return;\n",
       "\n",
       "          const docLinkHtml = 'Like what you see? Visit the ' +\n",
       "            '<a target=\"_blank\" href=https://colab.research.google.com/notebooks/data_table.ipynb>data table notebook</a>'\n",
       "            + ' to learn more about interactive tables.';\n",
       "          element.innerHTML = '';\n",
       "          dataTable['output_type'] = 'display_data';\n",
       "          await google.colab.output.renderOutput(dataTable, element);\n",
       "          const docLink = document.createElement('div');\n",
       "          docLink.innerHTML = docLinkHtml;\n",
       "          element.appendChild(docLink);\n",
       "        }\n",
       "      </script>\n",
       "    </div>\n",
       "  </div>\n",
       "  "
      ],
      "text/plain": [
       "   type                                              posts\n",
       "0  INFJ  'http://www.youtube.com/watch?v=qsXHcwe3krw|||...\n",
       "1  ENTP  'I'm finding the lack of me in these posts ver...\n",
       "2  INTP  'Good one  _____   https://www.youtube.com/wat...\n",
       "3  INTJ  'Dear INTP,   I enjoyed our conversation the o...\n",
       "4  ENTJ  'You're fired.|||That's another silly misconce..."
      ]
     },
     "execution_count": 5,
     "metadata": {},
     "output_type": "execute_result"
    }
   ],
   "source": [
    "df = pd.read_csv(\"/content/drive/MyDrive/mbti_1.csv\",header=0)\n",
    "df.head()"
   ]
  },
  {
   "cell_type": "markdown",
   "id": "jzz0DguZ_hZQ",
   "metadata": {
    "id": "jzz0DguZ_hZQ"
   },
   "source": [
    "# Data Cleaning & Preprocessing"
   ]
  },
  {
   "cell_type": "code",
   "execution_count": 6,
   "id": "40f42460",
   "metadata": {
    "id": "40f42460"
   },
   "outputs": [],
   "source": [
    "def text_cleaning(text):\n",
    "  \n",
    "  # make all characters lowercase\n",
    "  text = text.lower()\n",
    "\n",
    "  # removing the posts delimiter  \n",
    "  text = text.replace(\"|\",\" \") \n",
    "\n",
    "  # removing the urls\n",
    "  text = re.sub(r'https?:\\/\\/.*?[\\s+]', '',text)\n",
    "\n",
    "  # removing Punctation\n",
    "  text = re.sub('[%s]*' % string.punctuation, '',text)\n",
    "\n",
    "  # removing numbers\n",
    "  text = re.sub('[0-9]+','', text)\n",
    "   \n",
    "  # removing non-words \n",
    "  text = re.sub(r'[^a-zA-Z\\s]','',text)\n",
    "\n",
    "  # removing the personallity type codes \n",
    "  pers_types = ['INFP' ,'INFJ', 'INTP', 'INTJ', 'ENTP', 'ENFP', 'ISTP' ,'ISFP' ,'ENTJ', 'ISTJ','ENFJ', 'ISFJ' ,'ESTP', 'ESFP' ,'ESFJ' ,'ESTJ']\n",
    "  pers_types = [p.lower() for p in pers_types]\n",
    "  \n",
    "  for t in pers_types:\n",
    "      text = text.replace(t,\"\")\n",
    "\n",
    "\n",
    "  # removing big spaces\n",
    "  text = re.sub(' +', ' ', text) \n",
    "\n",
    "  \n",
    "\n",
    "  return(text)  "
   ]
  },
  {
   "cell_type": "code",
   "execution_count": 7,
   "id": "6bf666e6",
   "metadata": {
    "id": "6bf666e6"
   },
   "outputs": [],
   "source": [
    "# function for producing the four binary target variables\n",
    "def categories(df):\n",
    "  df['Extraversion'] = ''\n",
    "  df['Sensing'] = ''\n",
    "  df['Thinking'] = ''\n",
    "  df['Judging'] = ''\n",
    "\n",
    "  for i in df.index:    \n",
    "    if \"E\" in df['type'][i]:\n",
    "      df['Extraversion'][i] = 1\n",
    "    else:\n",
    "      df['Extraversion'][i] = 0\n",
    "\n",
    "    if \"S\" in df['type'][i]:\n",
    "      df['Sensing'][i] = 1\n",
    "    else:\n",
    "      df['Sensing'][i] = 0\n",
    "    \n",
    "    if \"T\" in df['type'][i]:\n",
    "      df['Thinking'][i] = 1\n",
    "    else:\n",
    "      df['Thinking'][i] = 0\n",
    "    \n",
    "    if \"J\" in df['type'][i]:\n",
    "      df['Judging'][i] = 1\n",
    "    else:\n",
    "      df['Judging'][i] = 0\n",
    "  return(df)"
   ]
  },
  {
   "cell_type": "code",
   "execution_count": 8,
   "id": "bc5ae84b",
   "metadata": {
    "id": "bc5ae84b"
   },
   "outputs": [],
   "source": [
    "data = df.copy()"
   ]
  },
  {
   "cell_type": "code",
   "execution_count": 9,
   "id": "8a87664a",
   "metadata": {
    "colab": {
     "base_uri": "https://localhost:8080/",
     "height": 206
    },
    "id": "8a87664a",
    "outputId": "b3ab9c0b-7c0e-4793-eea1-8e259a598ba1"
   },
   "outputs": [
    {
     "data": {
      "text/html": [
       "\n",
       "  <div id=\"df-deceb123-c43f-4ee2-acc9-c89646c4057a\">\n",
       "    <div class=\"colab-df-container\">\n",
       "      <div>\n",
       "<style scoped>\n",
       "    .dataframe tbody tr th:only-of-type {\n",
       "        vertical-align: middle;\n",
       "    }\n",
       "\n",
       "    .dataframe tbody tr th {\n",
       "        vertical-align: top;\n",
       "    }\n",
       "\n",
       "    .dataframe thead th {\n",
       "        text-align: right;\n",
       "    }\n",
       "</style>\n",
       "<table border=\"1\" class=\"dataframe\">\n",
       "  <thead>\n",
       "    <tr style=\"text-align: right;\">\n",
       "      <th></th>\n",
       "      <th>index</th>\n",
       "      <th>type</th>\n",
       "      <th>posts</th>\n",
       "      <th>tokens</th>\n",
       "    </tr>\n",
       "  </thead>\n",
       "  <tbody>\n",
       "    <tr>\n",
       "      <th>0</th>\n",
       "      <td>0</td>\n",
       "      <td>INFJ</td>\n",
       "      <td>'http://www.youtube.com/watch?v=qsXHcwe3krw|||...</td>\n",
       "      <td>'http://www.youtube.com/watch?v=qsXHcwe3krw</td>\n",
       "    </tr>\n",
       "    <tr>\n",
       "      <th>1</th>\n",
       "      <td>0</td>\n",
       "      <td>INFJ</td>\n",
       "      <td>'http://www.youtube.com/watch?v=qsXHcwe3krw|||...</td>\n",
       "      <td>http://41.media.tumblr.com/tumblr_lfouy03PMA1q...</td>\n",
       "    </tr>\n",
       "    <tr>\n",
       "      <th>2</th>\n",
       "      <td>0</td>\n",
       "      <td>INFJ</td>\n",
       "      <td>'http://www.youtube.com/watch?v=qsXHcwe3krw|||...</td>\n",
       "      <td>enfp and intj moments  https://www.youtube.com...</td>\n",
       "    </tr>\n",
       "    <tr>\n",
       "      <th>3</th>\n",
       "      <td>0</td>\n",
       "      <td>INFJ</td>\n",
       "      <td>'http://www.youtube.com/watch?v=qsXHcwe3krw|||...</td>\n",
       "      <td>What has been the most life-changing experienc...</td>\n",
       "    </tr>\n",
       "    <tr>\n",
       "      <th>4</th>\n",
       "      <td>0</td>\n",
       "      <td>INFJ</td>\n",
       "      <td>'http://www.youtube.com/watch?v=qsXHcwe3krw|||...</td>\n",
       "      <td>http://www.youtube.com/watch?v=vXZeYwwRDw8   h...</td>\n",
       "    </tr>\n",
       "  </tbody>\n",
       "</table>\n",
       "</div>\n",
       "      <button class=\"colab-df-convert\" onclick=\"convertToInteractive('df-deceb123-c43f-4ee2-acc9-c89646c4057a')\"\n",
       "              title=\"Convert this dataframe to an interactive table.\"\n",
       "              style=\"display:none;\">\n",
       "        \n",
       "  <svg xmlns=\"http://www.w3.org/2000/svg\" height=\"24px\"viewBox=\"0 0 24 24\"\n",
       "       width=\"24px\">\n",
       "    <path d=\"M0 0h24v24H0V0z\" fill=\"none\"/>\n",
       "    <path d=\"M18.56 5.44l.94 2.06.94-2.06 2.06-.94-2.06-.94-.94-2.06-.94 2.06-2.06.94zm-11 1L8.5 8.5l.94-2.06 2.06-.94-2.06-.94L8.5 2.5l-.94 2.06-2.06.94zm10 10l.94 2.06.94-2.06 2.06-.94-2.06-.94-.94-2.06-.94 2.06-2.06.94z\"/><path d=\"M17.41 7.96l-1.37-1.37c-.4-.4-.92-.59-1.43-.59-.52 0-1.04.2-1.43.59L10.3 9.45l-7.72 7.72c-.78.78-.78 2.05 0 2.83L4 21.41c.39.39.9.59 1.41.59.51 0 1.02-.2 1.41-.59l7.78-7.78 2.81-2.81c.8-.78.8-2.07 0-2.86zM5.41 20L4 18.59l7.72-7.72 1.47 1.35L5.41 20z\"/>\n",
       "  </svg>\n",
       "      </button>\n",
       "      \n",
       "  <style>\n",
       "    .colab-df-container {\n",
       "      display:flex;\n",
       "      flex-wrap:wrap;\n",
       "      gap: 12px;\n",
       "    }\n",
       "\n",
       "    .colab-df-convert {\n",
       "      background-color: #E8F0FE;\n",
       "      border: none;\n",
       "      border-radius: 50%;\n",
       "      cursor: pointer;\n",
       "      display: none;\n",
       "      fill: #1967D2;\n",
       "      height: 32px;\n",
       "      padding: 0 0 0 0;\n",
       "      width: 32px;\n",
       "    }\n",
       "\n",
       "    .colab-df-convert:hover {\n",
       "      background-color: #E2EBFA;\n",
       "      box-shadow: 0px 1px 2px rgba(60, 64, 67, 0.3), 0px 1px 3px 1px rgba(60, 64, 67, 0.15);\n",
       "      fill: #174EA6;\n",
       "    }\n",
       "\n",
       "    [theme=dark] .colab-df-convert {\n",
       "      background-color: #3B4455;\n",
       "      fill: #D2E3FC;\n",
       "    }\n",
       "\n",
       "    [theme=dark] .colab-df-convert:hover {\n",
       "      background-color: #434B5C;\n",
       "      box-shadow: 0px 1px 3px 1px rgba(0, 0, 0, 0.15);\n",
       "      filter: drop-shadow(0px 1px 2px rgba(0, 0, 0, 0.3));\n",
       "      fill: #FFFFFF;\n",
       "    }\n",
       "  </style>\n",
       "\n",
       "      <script>\n",
       "        const buttonEl =\n",
       "          document.querySelector('#df-deceb123-c43f-4ee2-acc9-c89646c4057a button.colab-df-convert');\n",
       "        buttonEl.style.display =\n",
       "          google.colab.kernel.accessAllowed ? 'block' : 'none';\n",
       "\n",
       "        async function convertToInteractive(key) {\n",
       "          const element = document.querySelector('#df-deceb123-c43f-4ee2-acc9-c89646c4057a');\n",
       "          const dataTable =\n",
       "            await google.colab.kernel.invokeFunction('convertToInteractive',\n",
       "                                                     [key], {});\n",
       "          if (!dataTable) return;\n",
       "\n",
       "          const docLinkHtml = 'Like what you see? Visit the ' +\n",
       "            '<a target=\"_blank\" href=https://colab.research.google.com/notebooks/data_table.ipynb>data table notebook</a>'\n",
       "            + ' to learn more about interactive tables.';\n",
       "          element.innerHTML = '';\n",
       "          dataTable['output_type'] = 'display_data';\n",
       "          await google.colab.output.renderOutput(dataTable, element);\n",
       "          const docLink = document.createElement('div');\n",
       "          docLink.innerHTML = docLinkHtml;\n",
       "          element.appendChild(docLink);\n",
       "        }\n",
       "      </script>\n",
       "    </div>\n",
       "  </div>\n",
       "  "
      ],
      "text/plain": [
       "   index  type                                              posts  \\\n",
       "0      0  INFJ  'http://www.youtube.com/watch?v=qsXHcwe3krw|||...   \n",
       "1      0  INFJ  'http://www.youtube.com/watch?v=qsXHcwe3krw|||...   \n",
       "2      0  INFJ  'http://www.youtube.com/watch?v=qsXHcwe3krw|||...   \n",
       "3      0  INFJ  'http://www.youtube.com/watch?v=qsXHcwe3krw|||...   \n",
       "4      0  INFJ  'http://www.youtube.com/watch?v=qsXHcwe3krw|||...   \n",
       "\n",
       "                                              tokens  \n",
       "0        'http://www.youtube.com/watch?v=qsXHcwe3krw  \n",
       "1  http://41.media.tumblr.com/tumblr_lfouy03PMA1q...  \n",
       "2  enfp and intj moments  https://www.youtube.com...  \n",
       "3  What has been the most life-changing experienc...  \n",
       "4  http://www.youtube.com/watch?v=vXZeYwwRDw8   h...  "
      ]
     },
     "execution_count": 9,
     "metadata": {},
     "output_type": "execute_result"
    }
   ],
   "source": [
    "data['tokens'] = data['posts'].apply(lambda s : s.split('|||'))\n",
    "data = data.explode('tokens').reset_index()\n",
    "data.head()"
   ]
  },
  {
   "cell_type": "code",
   "execution_count": 10,
   "id": "cc986175",
   "metadata": {
    "id": "cc986175"
   },
   "outputs": [],
   "source": [
    "data['tokens'] = data.tokens.str.split()"
   ]
  },
  {
   "cell_type": "code",
   "execution_count": 11,
   "id": "85ce45f8",
   "metadata": {
    "id": "85ce45f8"
   },
   "outputs": [],
   "source": [
    "data['selected_tokens'] = data.tokens.apply(lambda arr : ' '.join(arr[:6]))"
   ]
  },
  {
   "cell_type": "code",
   "execution_count": 12,
   "id": "98862708",
   "metadata": {
    "colab": {
     "base_uri": "https://localhost:8080/",
     "height": 424
    },
    "id": "98862708",
    "outputId": "d34b3122-4fca-40ab-b0f2-dd2836f5b151"
   },
   "outputs": [
    {
     "data": {
      "text/html": [
       "\n",
       "  <div id=\"df-829c1ad5-bec4-4dbf-880d-644757168636\">\n",
       "    <div class=\"colab-df-container\">\n",
       "      <div>\n",
       "<style scoped>\n",
       "    .dataframe tbody tr th:only-of-type {\n",
       "        vertical-align: middle;\n",
       "    }\n",
       "\n",
       "    .dataframe tbody tr th {\n",
       "        vertical-align: top;\n",
       "    }\n",
       "\n",
       "    .dataframe thead th {\n",
       "        text-align: right;\n",
       "    }\n",
       "</style>\n",
       "<table border=\"1\" class=\"dataframe\">\n",
       "  <thead>\n",
       "    <tr style=\"text-align: right;\">\n",
       "      <th></th>\n",
       "      <th>selected_tokens</th>\n",
       "      <th>type</th>\n",
       "    </tr>\n",
       "  </thead>\n",
       "  <tbody>\n",
       "    <tr>\n",
       "      <th>0</th>\n",
       "      <td>'http://www.youtube.com/watch?v=qsXHcwe3krw ht...</td>\n",
       "      <td>INFJ</td>\n",
       "    </tr>\n",
       "    <tr>\n",
       "      <th>1</th>\n",
       "      <td>'I'm finding the lack of me Sex can be boring ...</td>\n",
       "      <td>ENTP</td>\n",
       "    </tr>\n",
       "    <tr>\n",
       "      <th>2</th>\n",
       "      <td>'Good one _____ https://www.youtube.com/watch?...</td>\n",
       "      <td>INTP</td>\n",
       "    </tr>\n",
       "    <tr>\n",
       "      <th>3</th>\n",
       "      <td>'Dear INTP, I enjoyed our conversation Dear EN...</td>\n",
       "      <td>INTJ</td>\n",
       "    </tr>\n",
       "    <tr>\n",
       "      <th>4</th>\n",
       "      <td>'You're fired. That's another silly misconcept...</td>\n",
       "      <td>ENTJ</td>\n",
       "    </tr>\n",
       "    <tr>\n",
       "      <th>...</th>\n",
       "      <td>...</td>\n",
       "      <td>...</td>\n",
       "    </tr>\n",
       "    <tr>\n",
       "      <th>8670</th>\n",
       "      <td>'https://www.youtube.com/watch?v=t8edHB_h908 I...</td>\n",
       "      <td>ISFP</td>\n",
       "    </tr>\n",
       "    <tr>\n",
       "      <th>8671</th>\n",
       "      <td>'So...if this thread already exists someplace ...</td>\n",
       "      <td>ENFP</td>\n",
       "    </tr>\n",
       "    <tr>\n",
       "      <th>8672</th>\n",
       "      <td>'So many questions when i do I worked in a bre...</td>\n",
       "      <td>INTP</td>\n",
       "    </tr>\n",
       "    <tr>\n",
       "      <th>8673</th>\n",
       "      <td>'I am very conflicted right now If I had to gu...</td>\n",
       "      <td>INFP</td>\n",
       "    </tr>\n",
       "    <tr>\n",
       "      <th>8674</th>\n",
       "      <td>'It has been too long since http://www.youtube...</td>\n",
       "      <td>INFP</td>\n",
       "    </tr>\n",
       "  </tbody>\n",
       "</table>\n",
       "<p>8675 rows × 2 columns</p>\n",
       "</div>\n",
       "      <button class=\"colab-df-convert\" onclick=\"convertToInteractive('df-829c1ad5-bec4-4dbf-880d-644757168636')\"\n",
       "              title=\"Convert this dataframe to an interactive table.\"\n",
       "              style=\"display:none;\">\n",
       "        \n",
       "  <svg xmlns=\"http://www.w3.org/2000/svg\" height=\"24px\"viewBox=\"0 0 24 24\"\n",
       "       width=\"24px\">\n",
       "    <path d=\"M0 0h24v24H0V0z\" fill=\"none\"/>\n",
       "    <path d=\"M18.56 5.44l.94 2.06.94-2.06 2.06-.94-2.06-.94-.94-2.06-.94 2.06-2.06.94zm-11 1L8.5 8.5l.94-2.06 2.06-.94-2.06-.94L8.5 2.5l-.94 2.06-2.06.94zm10 10l.94 2.06.94-2.06 2.06-.94-2.06-.94-.94-2.06-.94 2.06-2.06.94z\"/><path d=\"M17.41 7.96l-1.37-1.37c-.4-.4-.92-.59-1.43-.59-.52 0-1.04.2-1.43.59L10.3 9.45l-7.72 7.72c-.78.78-.78 2.05 0 2.83L4 21.41c.39.39.9.59 1.41.59.51 0 1.02-.2 1.41-.59l7.78-7.78 2.81-2.81c.8-.78.8-2.07 0-2.86zM5.41 20L4 18.59l7.72-7.72 1.47 1.35L5.41 20z\"/>\n",
       "  </svg>\n",
       "      </button>\n",
       "      \n",
       "  <style>\n",
       "    .colab-df-container {\n",
       "      display:flex;\n",
       "      flex-wrap:wrap;\n",
       "      gap: 12px;\n",
       "    }\n",
       "\n",
       "    .colab-df-convert {\n",
       "      background-color: #E8F0FE;\n",
       "      border: none;\n",
       "      border-radius: 50%;\n",
       "      cursor: pointer;\n",
       "      display: none;\n",
       "      fill: #1967D2;\n",
       "      height: 32px;\n",
       "      padding: 0 0 0 0;\n",
       "      width: 32px;\n",
       "    }\n",
       "\n",
       "    .colab-df-convert:hover {\n",
       "      background-color: #E2EBFA;\n",
       "      box-shadow: 0px 1px 2px rgba(60, 64, 67, 0.3), 0px 1px 3px 1px rgba(60, 64, 67, 0.15);\n",
       "      fill: #174EA6;\n",
       "    }\n",
       "\n",
       "    [theme=dark] .colab-df-convert {\n",
       "      background-color: #3B4455;\n",
       "      fill: #D2E3FC;\n",
       "    }\n",
       "\n",
       "    [theme=dark] .colab-df-convert:hover {\n",
       "      background-color: #434B5C;\n",
       "      box-shadow: 0px 1px 3px 1px rgba(0, 0, 0, 0.15);\n",
       "      filter: drop-shadow(0px 1px 2px rgba(0, 0, 0, 0.3));\n",
       "      fill: #FFFFFF;\n",
       "    }\n",
       "  </style>\n",
       "\n",
       "      <script>\n",
       "        const buttonEl =\n",
       "          document.querySelector('#df-829c1ad5-bec4-4dbf-880d-644757168636 button.colab-df-convert');\n",
       "        buttonEl.style.display =\n",
       "          google.colab.kernel.accessAllowed ? 'block' : 'none';\n",
       "\n",
       "        async function convertToInteractive(key) {\n",
       "          const element = document.querySelector('#df-829c1ad5-bec4-4dbf-880d-644757168636');\n",
       "          const dataTable =\n",
       "            await google.colab.kernel.invokeFunction('convertToInteractive',\n",
       "                                                     [key], {});\n",
       "          if (!dataTable) return;\n",
       "\n",
       "          const docLinkHtml = 'Like what you see? Visit the ' +\n",
       "            '<a target=\"_blank\" href=https://colab.research.google.com/notebooks/data_table.ipynb>data table notebook</a>'\n",
       "            + ' to learn more about interactive tables.';\n",
       "          element.innerHTML = '';\n",
       "          dataTable['output_type'] = 'display_data';\n",
       "          await google.colab.output.renderOutput(dataTable, element);\n",
       "          const docLink = document.createElement('div');\n",
       "          docLink.innerHTML = docLinkHtml;\n",
       "          element.appendChild(docLink);\n",
       "        }\n",
       "      </script>\n",
       "    </div>\n",
       "  </div>\n",
       "  "
      ],
      "text/plain": [
       "                                        selected_tokens  type\n",
       "0     'http://www.youtube.com/watch?v=qsXHcwe3krw ht...  INFJ\n",
       "1     'I'm finding the lack of me Sex can be boring ...  ENTP\n",
       "2     'Good one _____ https://www.youtube.com/watch?...  INTP\n",
       "3     'Dear INTP, I enjoyed our conversation Dear EN...  INTJ\n",
       "4     'You're fired. That's another silly misconcept...  ENTJ\n",
       "...                                                 ...   ...\n",
       "8670  'https://www.youtube.com/watch?v=t8edHB_h908 I...  ISFP\n",
       "8671  'So...if this thread already exists someplace ...  ENFP\n",
       "8672  'So many questions when i do I worked in a bre...  INTP\n",
       "8673  'I am very conflicted right now If I had to gu...  INFP\n",
       "8674  'It has been too long since http://www.youtube...  INFP\n",
       "\n",
       "[8675 rows x 2 columns]"
      ]
     },
     "execution_count": 12,
     "metadata": {},
     "output_type": "execute_result"
    }
   ],
   "source": [
    "data_tr= data.groupby('index').agg({'selected_tokens': lambda arr : ' '.join(arr)})\n",
    "data_tr = pd.concat([data_tr,df['type']], axis=1)\n",
    "data_tr"
   ]
  },
  {
   "cell_type": "code",
   "execution_count": 13,
   "id": "81101039",
   "metadata": {
    "colab": {
     "base_uri": "https://localhost:8080/",
     "height": 424
    },
    "id": "81101039",
    "outputId": "04f04991-e399-4c23-ce67-7aa1c4edccbf"
   },
   "outputs": [
    {
     "data": {
      "text/html": [
       "\n",
       "  <div id=\"df-6bb341f9-8b47-44d1-b44d-0e07bd4cef49\">\n",
       "    <div class=\"colab-df-container\">\n",
       "      <div>\n",
       "<style scoped>\n",
       "    .dataframe tbody tr th:only-of-type {\n",
       "        vertical-align: middle;\n",
       "    }\n",
       "\n",
       "    .dataframe tbody tr th {\n",
       "        vertical-align: top;\n",
       "    }\n",
       "\n",
       "    .dataframe thead th {\n",
       "        text-align: right;\n",
       "    }\n",
       "</style>\n",
       "<table border=\"1\" class=\"dataframe\">\n",
       "  <thead>\n",
       "    <tr style=\"text-align: right;\">\n",
       "      <th></th>\n",
       "      <th>selected_tokens</th>\n",
       "      <th>type</th>\n",
       "      <th>Extraversion</th>\n",
       "      <th>Sensing</th>\n",
       "      <th>Thinking</th>\n",
       "      <th>Judging</th>\n",
       "    </tr>\n",
       "  </thead>\n",
       "  <tbody>\n",
       "    <tr>\n",
       "      <th>0</th>\n",
       "      <td>'http://www.youtube.com/watch?v=qsXHcwe3krw ht...</td>\n",
       "      <td>INFJ</td>\n",
       "      <td>0</td>\n",
       "      <td>0</td>\n",
       "      <td>0</td>\n",
       "      <td>1</td>\n",
       "    </tr>\n",
       "    <tr>\n",
       "      <th>1</th>\n",
       "      <td>'I'm finding the lack of me Sex can be boring ...</td>\n",
       "      <td>ENTP</td>\n",
       "      <td>1</td>\n",
       "      <td>0</td>\n",
       "      <td>1</td>\n",
       "      <td>0</td>\n",
       "    </tr>\n",
       "    <tr>\n",
       "      <th>2</th>\n",
       "      <td>'Good one _____ https://www.youtube.com/watch?...</td>\n",
       "      <td>INTP</td>\n",
       "      <td>0</td>\n",
       "      <td>0</td>\n",
       "      <td>1</td>\n",
       "      <td>0</td>\n",
       "    </tr>\n",
       "    <tr>\n",
       "      <th>3</th>\n",
       "      <td>'Dear INTP, I enjoyed our conversation Dear EN...</td>\n",
       "      <td>INTJ</td>\n",
       "      <td>0</td>\n",
       "      <td>0</td>\n",
       "      <td>1</td>\n",
       "      <td>1</td>\n",
       "    </tr>\n",
       "    <tr>\n",
       "      <th>4</th>\n",
       "      <td>'You're fired. That's another silly misconcept...</td>\n",
       "      <td>ENTJ</td>\n",
       "      <td>1</td>\n",
       "      <td>0</td>\n",
       "      <td>1</td>\n",
       "      <td>1</td>\n",
       "    </tr>\n",
       "    <tr>\n",
       "      <th>...</th>\n",
       "      <td>...</td>\n",
       "      <td>...</td>\n",
       "      <td>...</td>\n",
       "      <td>...</td>\n",
       "      <td>...</td>\n",
       "      <td>...</td>\n",
       "    </tr>\n",
       "    <tr>\n",
       "      <th>8670</th>\n",
       "      <td>'https://www.youtube.com/watch?v=t8edHB_h908 I...</td>\n",
       "      <td>ISFP</td>\n",
       "      <td>0</td>\n",
       "      <td>1</td>\n",
       "      <td>0</td>\n",
       "      <td>0</td>\n",
       "    </tr>\n",
       "    <tr>\n",
       "      <th>8671</th>\n",
       "      <td>'So...if this thread already exists someplace ...</td>\n",
       "      <td>ENFP</td>\n",
       "      <td>1</td>\n",
       "      <td>0</td>\n",
       "      <td>0</td>\n",
       "      <td>0</td>\n",
       "    </tr>\n",
       "    <tr>\n",
       "      <th>8672</th>\n",
       "      <td>'So many questions when i do I worked in a bre...</td>\n",
       "      <td>INTP</td>\n",
       "      <td>0</td>\n",
       "      <td>0</td>\n",
       "      <td>1</td>\n",
       "      <td>0</td>\n",
       "    </tr>\n",
       "    <tr>\n",
       "      <th>8673</th>\n",
       "      <td>'I am very conflicted right now If I had to gu...</td>\n",
       "      <td>INFP</td>\n",
       "      <td>0</td>\n",
       "      <td>0</td>\n",
       "      <td>0</td>\n",
       "      <td>0</td>\n",
       "    </tr>\n",
       "    <tr>\n",
       "      <th>8674</th>\n",
       "      <td>'It has been too long since http://www.youtube...</td>\n",
       "      <td>INFP</td>\n",
       "      <td>0</td>\n",
       "      <td>0</td>\n",
       "      <td>0</td>\n",
       "      <td>0</td>\n",
       "    </tr>\n",
       "  </tbody>\n",
       "</table>\n",
       "<p>8675 rows × 6 columns</p>\n",
       "</div>\n",
       "      <button class=\"colab-df-convert\" onclick=\"convertToInteractive('df-6bb341f9-8b47-44d1-b44d-0e07bd4cef49')\"\n",
       "              title=\"Convert this dataframe to an interactive table.\"\n",
       "              style=\"display:none;\">\n",
       "        \n",
       "  <svg xmlns=\"http://www.w3.org/2000/svg\" height=\"24px\"viewBox=\"0 0 24 24\"\n",
       "       width=\"24px\">\n",
       "    <path d=\"M0 0h24v24H0V0z\" fill=\"none\"/>\n",
       "    <path d=\"M18.56 5.44l.94 2.06.94-2.06 2.06-.94-2.06-.94-.94-2.06-.94 2.06-2.06.94zm-11 1L8.5 8.5l.94-2.06 2.06-.94-2.06-.94L8.5 2.5l-.94 2.06-2.06.94zm10 10l.94 2.06.94-2.06 2.06-.94-2.06-.94-.94-2.06-.94 2.06-2.06.94z\"/><path d=\"M17.41 7.96l-1.37-1.37c-.4-.4-.92-.59-1.43-.59-.52 0-1.04.2-1.43.59L10.3 9.45l-7.72 7.72c-.78.78-.78 2.05 0 2.83L4 21.41c.39.39.9.59 1.41.59.51 0 1.02-.2 1.41-.59l7.78-7.78 2.81-2.81c.8-.78.8-2.07 0-2.86zM5.41 20L4 18.59l7.72-7.72 1.47 1.35L5.41 20z\"/>\n",
       "  </svg>\n",
       "      </button>\n",
       "      \n",
       "  <style>\n",
       "    .colab-df-container {\n",
       "      display:flex;\n",
       "      flex-wrap:wrap;\n",
       "      gap: 12px;\n",
       "    }\n",
       "\n",
       "    .colab-df-convert {\n",
       "      background-color: #E8F0FE;\n",
       "      border: none;\n",
       "      border-radius: 50%;\n",
       "      cursor: pointer;\n",
       "      display: none;\n",
       "      fill: #1967D2;\n",
       "      height: 32px;\n",
       "      padding: 0 0 0 0;\n",
       "      width: 32px;\n",
       "    }\n",
       "\n",
       "    .colab-df-convert:hover {\n",
       "      background-color: #E2EBFA;\n",
       "      box-shadow: 0px 1px 2px rgba(60, 64, 67, 0.3), 0px 1px 3px 1px rgba(60, 64, 67, 0.15);\n",
       "      fill: #174EA6;\n",
       "    }\n",
       "\n",
       "    [theme=dark] .colab-df-convert {\n",
       "      background-color: #3B4455;\n",
       "      fill: #D2E3FC;\n",
       "    }\n",
       "\n",
       "    [theme=dark] .colab-df-convert:hover {\n",
       "      background-color: #434B5C;\n",
       "      box-shadow: 0px 1px 3px 1px rgba(0, 0, 0, 0.15);\n",
       "      filter: drop-shadow(0px 1px 2px rgba(0, 0, 0, 0.3));\n",
       "      fill: #FFFFFF;\n",
       "    }\n",
       "  </style>\n",
       "\n",
       "      <script>\n",
       "        const buttonEl =\n",
       "          document.querySelector('#df-6bb341f9-8b47-44d1-b44d-0e07bd4cef49 button.colab-df-convert');\n",
       "        buttonEl.style.display =\n",
       "          google.colab.kernel.accessAllowed ? 'block' : 'none';\n",
       "\n",
       "        async function convertToInteractive(key) {\n",
       "          const element = document.querySelector('#df-6bb341f9-8b47-44d1-b44d-0e07bd4cef49');\n",
       "          const dataTable =\n",
       "            await google.colab.kernel.invokeFunction('convertToInteractive',\n",
       "                                                     [key], {});\n",
       "          if (!dataTable) return;\n",
       "\n",
       "          const docLinkHtml = 'Like what you see? Visit the ' +\n",
       "            '<a target=\"_blank\" href=https://colab.research.google.com/notebooks/data_table.ipynb>data table notebook</a>'\n",
       "            + ' to learn more about interactive tables.';\n",
       "          element.innerHTML = '';\n",
       "          dataTable['output_type'] = 'display_data';\n",
       "          await google.colab.output.renderOutput(dataTable, element);\n",
       "          const docLink = document.createElement('div');\n",
       "          docLink.innerHTML = docLinkHtml;\n",
       "          element.appendChild(docLink);\n",
       "        }\n",
       "      </script>\n",
       "    </div>\n",
       "  </div>\n",
       "  "
      ],
      "text/plain": [
       "                                        selected_tokens  type Extraversion  \\\n",
       "0     'http://www.youtube.com/watch?v=qsXHcwe3krw ht...  INFJ            0   \n",
       "1     'I'm finding the lack of me Sex can be boring ...  ENTP            1   \n",
       "2     'Good one _____ https://www.youtube.com/watch?...  INTP            0   \n",
       "3     'Dear INTP, I enjoyed our conversation Dear EN...  INTJ            0   \n",
       "4     'You're fired. That's another silly misconcept...  ENTJ            1   \n",
       "...                                                 ...   ...          ...   \n",
       "8670  'https://www.youtube.com/watch?v=t8edHB_h908 I...  ISFP            0   \n",
       "8671  'So...if this thread already exists someplace ...  ENFP            1   \n",
       "8672  'So many questions when i do I worked in a bre...  INTP            0   \n",
       "8673  'I am very conflicted right now If I had to gu...  INFP            0   \n",
       "8674  'It has been too long since http://www.youtube...  INFP            0   \n",
       "\n",
       "     Sensing Thinking Judging  \n",
       "0          0        0       1  \n",
       "1          0        1       0  \n",
       "2          0        1       0  \n",
       "3          0        1       1  \n",
       "4          0        1       1  \n",
       "...      ...      ...     ...  \n",
       "8670       1        0       0  \n",
       "8671       0        0       0  \n",
       "8672       0        1       0  \n",
       "8673       0        0       0  \n",
       "8674       0        0       0  \n",
       "\n",
       "[8675 rows x 6 columns]"
      ]
     },
     "execution_count": 13,
     "metadata": {},
     "output_type": "execute_result"
    }
   ],
   "source": [
    "categories(data_tr)"
   ]
  },
  {
   "cell_type": "code",
   "execution_count": 14,
   "id": "d71cdd01",
   "metadata": {
    "id": "d71cdd01"
   },
   "outputs": [],
   "source": [
    "data_tr['selected_tokens'] = data_tr.selected_tokens.apply(text_cleaning)"
   ]
  },
  {
   "cell_type": "code",
   "execution_count": 15,
   "id": "905eb5bd",
   "metadata": {
    "colab": {
     "base_uri": "https://localhost:8080/",
     "height": 206
    },
    "id": "905eb5bd",
    "outputId": "ae60e561-df61-496e-a1e5-54c6b20e9f32"
   },
   "outputs": [
    {
     "data": {
      "text/html": [
       "\n",
       "  <div id=\"df-d109c59d-d838-429f-b2d4-22a0d1151d58\">\n",
       "    <div class=\"colab-df-container\">\n",
       "      <div>\n",
       "<style scoped>\n",
       "    .dataframe tbody tr th:only-of-type {\n",
       "        vertical-align: middle;\n",
       "    }\n",
       "\n",
       "    .dataframe tbody tr th {\n",
       "        vertical-align: top;\n",
       "    }\n",
       "\n",
       "    .dataframe thead th {\n",
       "        text-align: right;\n",
       "    }\n",
       "</style>\n",
       "<table border=\"1\" class=\"dataframe\">\n",
       "  <thead>\n",
       "    <tr style=\"text-align: right;\">\n",
       "      <th></th>\n",
       "      <th>selected_tokens</th>\n",
       "      <th>type</th>\n",
       "      <th>Extraversion</th>\n",
       "      <th>Sensing</th>\n",
       "      <th>Thinking</th>\n",
       "      <th>Judging</th>\n",
       "    </tr>\n",
       "  </thead>\n",
       "  <tbody>\n",
       "    <tr>\n",
       "      <th>0</th>\n",
       "      <td>and moments sportscenter what has been the mo...</td>\n",
       "      <td>INFJ</td>\n",
       "      <td>0</td>\n",
       "      <td>0</td>\n",
       "      <td>0</td>\n",
       "      <td>1</td>\n",
       "    </tr>\n",
       "    <tr>\n",
       "      <th>1</th>\n",
       "      <td>im finding the lack of me sex can be boring if...</td>\n",
       "      <td>ENTP</td>\n",
       "      <td>1</td>\n",
       "      <td>0</td>\n",
       "      <td>1</td>\n",
       "      <td>0</td>\n",
       "    </tr>\n",
       "    <tr>\n",
       "      <th>2</th>\n",
       "      <td>good one of course to which i say does being a...</td>\n",
       "      <td>INTP</td>\n",
       "      <td>0</td>\n",
       "      <td>0</td>\n",
       "      <td>1</td>\n",
       "      <td>0</td>\n",
       "    </tr>\n",
       "    <tr>\n",
       "      <th>3</th>\n",
       "      <td>dear i enjoyed our conversation dear sub long ...</td>\n",
       "      <td>INTJ</td>\n",
       "      <td>0</td>\n",
       "      <td>0</td>\n",
       "      <td>1</td>\n",
       "      <td>1</td>\n",
       "    </tr>\n",
       "    <tr>\n",
       "      <th>4</th>\n",
       "      <td>youre fired thats another silly misconception ...</td>\n",
       "      <td>ENTJ</td>\n",
       "      <td>1</td>\n",
       "      <td>0</td>\n",
       "      <td>1</td>\n",
       "      <td>1</td>\n",
       "    </tr>\n",
       "  </tbody>\n",
       "</table>\n",
       "</div>\n",
       "      <button class=\"colab-df-convert\" onclick=\"convertToInteractive('df-d109c59d-d838-429f-b2d4-22a0d1151d58')\"\n",
       "              title=\"Convert this dataframe to an interactive table.\"\n",
       "              style=\"display:none;\">\n",
       "        \n",
       "  <svg xmlns=\"http://www.w3.org/2000/svg\" height=\"24px\"viewBox=\"0 0 24 24\"\n",
       "       width=\"24px\">\n",
       "    <path d=\"M0 0h24v24H0V0z\" fill=\"none\"/>\n",
       "    <path d=\"M18.56 5.44l.94 2.06.94-2.06 2.06-.94-2.06-.94-.94-2.06-.94 2.06-2.06.94zm-11 1L8.5 8.5l.94-2.06 2.06-.94-2.06-.94L8.5 2.5l-.94 2.06-2.06.94zm10 10l.94 2.06.94-2.06 2.06-.94-2.06-.94-.94-2.06-.94 2.06-2.06.94z\"/><path d=\"M17.41 7.96l-1.37-1.37c-.4-.4-.92-.59-1.43-.59-.52 0-1.04.2-1.43.59L10.3 9.45l-7.72 7.72c-.78.78-.78 2.05 0 2.83L4 21.41c.39.39.9.59 1.41.59.51 0 1.02-.2 1.41-.59l7.78-7.78 2.81-2.81c.8-.78.8-2.07 0-2.86zM5.41 20L4 18.59l7.72-7.72 1.47 1.35L5.41 20z\"/>\n",
       "  </svg>\n",
       "      </button>\n",
       "      \n",
       "  <style>\n",
       "    .colab-df-container {\n",
       "      display:flex;\n",
       "      flex-wrap:wrap;\n",
       "      gap: 12px;\n",
       "    }\n",
       "\n",
       "    .colab-df-convert {\n",
       "      background-color: #E8F0FE;\n",
       "      border: none;\n",
       "      border-radius: 50%;\n",
       "      cursor: pointer;\n",
       "      display: none;\n",
       "      fill: #1967D2;\n",
       "      height: 32px;\n",
       "      padding: 0 0 0 0;\n",
       "      width: 32px;\n",
       "    }\n",
       "\n",
       "    .colab-df-convert:hover {\n",
       "      background-color: #E2EBFA;\n",
       "      box-shadow: 0px 1px 2px rgba(60, 64, 67, 0.3), 0px 1px 3px 1px rgba(60, 64, 67, 0.15);\n",
       "      fill: #174EA6;\n",
       "    }\n",
       "\n",
       "    [theme=dark] .colab-df-convert {\n",
       "      background-color: #3B4455;\n",
       "      fill: #D2E3FC;\n",
       "    }\n",
       "\n",
       "    [theme=dark] .colab-df-convert:hover {\n",
       "      background-color: #434B5C;\n",
       "      box-shadow: 0px 1px 3px 1px rgba(0, 0, 0, 0.15);\n",
       "      filter: drop-shadow(0px 1px 2px rgba(0, 0, 0, 0.3));\n",
       "      fill: #FFFFFF;\n",
       "    }\n",
       "  </style>\n",
       "\n",
       "      <script>\n",
       "        const buttonEl =\n",
       "          document.querySelector('#df-d109c59d-d838-429f-b2d4-22a0d1151d58 button.colab-df-convert');\n",
       "        buttonEl.style.display =\n",
       "          google.colab.kernel.accessAllowed ? 'block' : 'none';\n",
       "\n",
       "        async function convertToInteractive(key) {\n",
       "          const element = document.querySelector('#df-d109c59d-d838-429f-b2d4-22a0d1151d58');\n",
       "          const dataTable =\n",
       "            await google.colab.kernel.invokeFunction('convertToInteractive',\n",
       "                                                     [key], {});\n",
       "          if (!dataTable) return;\n",
       "\n",
       "          const docLinkHtml = 'Like what you see? Visit the ' +\n",
       "            '<a target=\"_blank\" href=https://colab.research.google.com/notebooks/data_table.ipynb>data table notebook</a>'\n",
       "            + ' to learn more about interactive tables.';\n",
       "          element.innerHTML = '';\n",
       "          dataTable['output_type'] = 'display_data';\n",
       "          await google.colab.output.renderOutput(dataTable, element);\n",
       "          const docLink = document.createElement('div');\n",
       "          docLink.innerHTML = docLinkHtml;\n",
       "          element.appendChild(docLink);\n",
       "        }\n",
       "      </script>\n",
       "    </div>\n",
       "  </div>\n",
       "  "
      ],
      "text/plain": [
       "                                     selected_tokens  type Extraversion  \\\n",
       "0   and moments sportscenter what has been the mo...  INFJ            0   \n",
       "1  im finding the lack of me sex can be boring if...  ENTP            1   \n",
       "2  good one of course to which i say does being a...  INTP            0   \n",
       "3  dear i enjoyed our conversation dear sub long ...  INTJ            0   \n",
       "4  youre fired thats another silly misconception ...  ENTJ            1   \n",
       "\n",
       "  Sensing Thinking Judging  \n",
       "0       0        0       1  \n",
       "1       0        1       0  \n",
       "2       0        1       0  \n",
       "3       0        1       1  \n",
       "4       0        1       1  "
      ]
     },
     "execution_count": 15,
     "metadata": {},
     "output_type": "execute_result"
    }
   ],
   "source": [
    "data_tr.head()"
   ]
  },
  {
   "cell_type": "code",
   "execution_count": 16,
   "id": "qOrdSLsXcTLZ",
   "metadata": {
    "id": "qOrdSLsXcTLZ"
   },
   "outputs": [],
   "source": [
    "data_tr['posts_length'] = data_tr['selected_tokens'].apply(lambda x : len(x.split(' ')))"
   ]
  },
  {
   "cell_type": "code",
   "execution_count": 17,
   "id": "dd-kwD4xgf87",
   "metadata": {
    "colab": {
     "base_uri": "https://localhost:8080/",
     "height": 530
    },
    "id": "dd-kwD4xgf87",
    "outputId": "2d64e395-743f-4103-fe57-52edabe4e46e"
   },
   "outputs": [
    {
     "data": {
      "text/plain": [
       "<Figure size 1152x576 with 0 Axes>"
      ]
     },
     "metadata": {},
     "output_type": "display_data"
    },
    {
     "data": {
      "image/png": "[encoded data removed]",
      "text/plain": [
       "<Figure size 756x504 with 1 Axes>"
      ]
     },
     "metadata": {
      "needs_background": "light"
     },
     "output_type": "display_data"
    }
   ],
   "source": [
    "plt.figure(figsize=(16,8))\n",
    "sns.displot(data_tr.posts_length,kde=True,height=7,aspect=1.5)\n",
    "plt.show()"
   ]
  },
  {
   "cell_type": "code",
   "execution_count": 18,
   "id": "Y6_vcdt6gudD",
   "metadata": {
    "colab": {
     "base_uri": "https://localhost:8080/"
    },
    "id": "Y6_vcdt6gudD",
    "outputId": "f5144df4-a135-40ec-d0b8-5a59a242edd3"
   },
   "outputs": [
    {
     "name": "stdout",
     "output_type": "stream",
     "text": [
      "Max : 302\n",
      "Mean : 263.41821325648414\n",
      "Median : 277.0\n",
      "Mode : 0    289\n",
      "dtype: int64\n"
     ]
    }
   ],
   "source": [
    "print(\"Max :\",data_tr.posts_length.max())\n",
    "print(\"Mean :\",data_tr.posts_length.mean())\n",
    "print(\"Median :\",data_tr.posts_length.median())\n",
    "print(\"Mode :\",data_tr.posts_length.mode())"
   ]
  },
  {
   "cell_type": "markdown",
   "id": "JT9XSwFwAZBq",
   "metadata": {
    "id": "JT9XSwFwAZBq"
   },
   "source": [
    "# Data Split"
   ]
  },
  {
   "cell_type": "code",
   "execution_count": 19,
   "id": "94306be7",
   "metadata": {
    "id": "94306be7"
   },
   "outputs": [],
   "source": [
    "X = data_tr['selected_tokens']\n",
    "y = data_tr[['Extraversion','Sensing','Thinking','Judging']]\n",
    "X_train_val, X_test, y_train_val, y_test = train_test_split(X,\n",
    "                                                            y,\n",
    "                                                            test_size=0.1,\n",
    "                                                            random_state=20,\n",
    "                                                            stratify=y)\n",
    "X_train, X_val, y_train, y_val = train_test_split(X_train_val,\n",
    "                                                  y_train_val,\n",
    "                                                  test_size=0.10, \n",
    "                                                  random_state=20,\n",
    "                                                  stratify=y_train_val)"
   ]
  },
  {
   "cell_type": "markdown",
   "id": "488d6010",
   "metadata": {},
   "source": [
    "# Tokenization and Padding"
   ]
  },
  {
   "cell_type": "code",
   "execution_count": 20,
   "id": "b7LHtKYWEiau",
   "metadata": {
    "colab": {
     "base_uri": "https://localhost:8080/"
    },
    "id": "b7LHtKYWEiau",
    "outputId": "42f8efb6-a3a7-4833-89c1-964fea064021"
   },
   "outputs": [
    {
     "data": {
      "text/plain": [
       "56550"
      ]
     },
     "execution_count": 20,
     "metadata": {},
     "output_type": "execute_result"
    }
   ],
   "source": [
    "uniqueWords = list(set(\" \".join(X_train).lower().split(\" \")))\n",
    "count = len(uniqueWords)\n",
    "count"
   ]
  },
  {
   "cell_type": "code",
   "execution_count": 21,
   "id": "ffdb0d61",
   "metadata": {
    "colab": {
     "base_uri": "https://localhost:8080/"
    },
    "id": "ffdb0d61",
    "outputId": "1d2686f1-c05b-43a8-8816-b49a17a27da3"
   },
   "outputs": [
    {
     "data": {
      "text/plain": [
       "<keras_preprocessing.text.Tokenizer at 0x7f7ec3289810>"
      ]
     },
     "execution_count": 21,
     "metadata": {},
     "output_type": "execute_result"
    }
   ],
   "source": [
    "max_words = 30000\n",
    "\n",
    "tokenizer = Tokenizer(num_words=max_words, lower=True, oov_token='<OOV>')\n",
    "tokenizer"
   ]
  },
  {
   "cell_type": "code",
   "execution_count": 22,
   "id": "b771f522",
   "metadata": {
    "id": "b771f522"
   },
   "outputs": [],
   "source": [
    "tokenizer.fit_on_texts(X_train)"
   ]
  },
  {
   "cell_type": "code",
   "execution_count": 23,
   "id": "0f10bf7f",
   "metadata": {
    "id": "0f10bf7f"
   },
   "outputs": [],
   "source": [
    "X_train_enc  = tokenizer.texts_to_sequences(X_train)\n",
    "X_val_enc  = tokenizer.texts_to_sequences(X_val)\n",
    "X_test_enc  = tokenizer.texts_to_sequences(X_test)"
   ]
  },
  {
   "cell_type": "code",
   "execution_count": 24,
   "id": "8d7a3beb",
   "metadata": {
    "colab": {
     "base_uri": "https://localhost:8080/"
    },
    "id": "8d7a3beb",
    "outputId": "32986703-453d-4f79-a5ca-7fb351a91554"
   },
   "outputs": [
    {
     "name": "stdout",
     "output_type": "stream",
     "text": [
      "New data shape: (7026, 280)\n",
      "New data shape: (781, 280)\n",
      "New data shape: (868, 280)\n"
     ]
    }
   ],
   "source": [
    "maxlen = 280\n",
    "\n",
    "X_train_enc = pad_sequences(X_train_enc,padding='pre',maxlen=maxlen)\n",
    "X_val_enc = pad_sequences(X_val_enc,padding='pre', maxlen=maxlen)\n",
    "X_test_enc = pad_sequences(X_test_enc, padding='pre', maxlen=maxlen)\n",
    "\n",
    "print('New data shape: {}'.format(X_train_enc.shape))\n",
    "print('New data shape: {}'.format(X_val_enc.shape))\n",
    "print('New data shape: {}'.format(X_test_enc.shape))"
   ]
  },
  {
   "cell_type": "markdown",
   "id": "n3zL1GlxAplT",
   "metadata": {
    "id": "n3zL1GlxAplT"
   },
   "source": [
    "# Target Encoding"
   ]
  },
  {
   "cell_type": "code",
   "execution_count": 25,
   "id": "CWnPqZc3Svfk",
   "metadata": {
    "colab": {
     "base_uri": "https://localhost:8080/"
    },
    "id": "CWnPqZc3Svfk",
    "outputId": "3399dd17-c600-4241-a3ca-a6c43e1c0761"
   },
   "outputs": [
    {
     "data": {
      "text/plain": [
       "array([[0., 0., 1., 0.],\n",
       "       [0., 0., 1., 1.],\n",
       "       [0., 0., 1., 0.],\n",
       "       ...,\n",
       "       [0., 0., 0., 1.],\n",
       "       [0., 0., 0., 1.],\n",
       "       [1., 0., 1., 0.]], dtype=float32)"
      ]
     },
     "execution_count": 25,
     "metadata": {},
     "output_type": "execute_result"
    }
   ],
   "source": [
    "y_train_enc = np.array(y_train).astype('float32')\n",
    "y_train_enc"
   ]
  },
  {
   "cell_type": "code",
   "execution_count": 26,
   "id": "eTyCRj0dSvkS",
   "metadata": {
    "id": "eTyCRj0dSvkS"
   },
   "outputs": [],
   "source": [
    "y_val_enc = np.array(y_val).astype('float32')\n",
    "y_test_enc = np.array(y_test).astype('float32')"
   ]
  },
  {
   "cell_type": "markdown",
   "id": "30544e12",
   "metadata": {
    "id": "30544e12"
   },
   "source": [
    "# Glove pretrained embeddings"
   ]
  },
  {
   "cell_type": "code",
   "execution_count": 27,
   "id": "4ec295c8",
   "metadata": {
    "colab": {
     "base_uri": "https://localhost:8080/"
    },
    "id": "4ec295c8",
    "outputId": "cd4b719b-6f0e-44ba-9a1a-d9b2e8989f02"
   },
   "outputs": [
    {
     "name": "stdout",
     "output_type": "stream",
     "text": [
      "--2022-08-25 21:04:40--  http://nlp.stanford.edu/data/glove.6B.zip\n",
      "Resolving nlp.stanford.edu (nlp.stanford.edu)... 171.64.67.140\n",
      "Connecting to nlp.stanford.edu (nlp.stanford.edu)|171.64.67.140|:80... connected.\n",
      "HTTP request sent, awaiting response... 302 Found\n",
      "Location: https://nlp.stanford.edu/data/glove.6B.zip [following]\n",
      "--2022-08-25 21:04:40--  https://nlp.stanford.edu/data/glove.6B.zip\n",
      "Connecting to nlp.stanford.edu (nlp.stanford.edu)|171.64.67.140|:443... connected.\n",
      "HTTP request sent, awaiting response... 301 Moved Permanently\n",
      "Location: https://downloads.cs.stanford.edu/nlp/data/glove.6B.zip [following]\n",
      "--2022-08-25 21:04:40--  https://downloads.cs.stanford.edu/nlp/data/glove.6B.zip\n",
      "Resolving downloads.cs.stanford.edu (downloads.cs.stanford.edu)... 171.64.64.22\n",
      "Connecting to downloads.cs.stanford.edu (downloads.cs.stanford.edu)|171.64.64.22|:443... connected.\n",
      "HTTP request sent, awaiting response... 200 OK\n",
      "Length: 862182613 (822M) [application/zip]\n",
      "Saving to: ‘glove.6B.zip’\n",
      "\n",
      "glove.6B.zip        100%[===================>] 822.24M  5.01MB/s    in 2m 39s  \n",
      "\n",
      "2022-08-25 21:07:19 (5.19 MB/s) - ‘glove.6B.zip’ saved [862182613/862182613]\n",
      "\n",
      "Archive:  glove.6B.zip\n",
      "  inflating: glove.6B.50d.txt        \n",
      "  inflating: glove.6B.100d.txt       \n",
      "  inflating: glove.6B.200d.txt       \n",
      "  inflating: glove.6B.300d.txt       \n"
     ]
    }
   ],
   "source": [
    "!wget http://nlp.stanford.edu/data/glove.6B.zip\n",
    "!unzip glove.6B.zip"
   ]
  },
  {
   "cell_type": "code",
   "execution_count": 28,
   "id": "f69e4de3",
   "metadata": {
    "id": "f69e4de3"
   },
   "outputs": [],
   "source": [
    "def load_glove_embeddings(dim: int = 100) -> dict:\n",
    "    \"\"\"\n",
    "    Function that loads glove embeddings. \n",
    "\n",
    "    :param dim: The embeddings size (dimensions)\n",
    "    :return:\n",
    "    \"\"\"\n",
    "    print('Loading word vectors')\n",
    "\n",
    "    embed_index = dict()  # We create a dictionary of word -> embedding\n",
    "\n",
    "    fname = 'glove.6B.{}d.txt'.format(dim)\n",
    "\n",
    "    f = open(fname, encoding=\"utf8\")  # Open file\n",
    "\n",
    "    # In the dataset, each line represents a new word embedding\n",
    "    # The line starts with the word and the embedding values follow\n",
    "    for line in tqdm(f, desc='Loading Embeddings', unit='word'):\n",
    "        values = line.split()\n",
    "        # The first value is the word, the rest are the values of the embedding\n",
    "        word = values[0]\n",
    "        # Load embedding\n",
    "        embedding = np.asarray(values[1:], dtype='float32')\n",
    "\n",
    "        # Add embedding to our embedding dictionary\n",
    "        embed_index[word] = embedding\n",
    "    f.close()\n",
    "\n",
    "    print('Found %s word vectors.' % len(embed_index))\n",
    "\n",
    "    return embed_index"
   ]
  },
  {
   "cell_type": "code",
   "execution_count": 29,
   "id": "bacd0195",
   "metadata": {
    "colab": {
     "base_uri": "https://localhost:8080/"
    },
    "id": "bacd0195",
    "outputId": "29ac523d-c087-4ff0-bd2a-a8d43fcff3e4"
   },
   "outputs": [
    {
     "name": "stdout",
     "output_type": "stream",
     "text": [
      "Loading word vectors\n"
     ]
    },
    {
     "name": "stderr",
     "output_type": "stream",
     "text": [
      "Loading Embeddings: 400000word [00:25, 15458.83word/s]"
     ]
    },
    {
     "name": "stdout",
     "output_type": "stream",
     "text": [
      "Found 400000 word vectors.\n"
     ]
    },
    {
     "name": "stderr",
     "output_type": "stream",
     "text": [
      "\n"
     ]
    }
   ],
   "source": [
    "embedding_dim = 300\n",
    "\n",
    "embeddings_index = load_glove_embeddings(dim=embedding_dim)"
   ]
  },
  {
   "cell_type": "code",
   "execution_count": 30,
   "id": "a6850271",
   "metadata": {
    "id": "a6850271"
   },
   "outputs": [],
   "source": [
    "def create_embeddings_matrix(emb_index: dict,\n",
    "                             tokenizer: Tokenizer,\n",
    "                             emb_dim: int = 100) -> np.ndarray:\n",
    "    \"\"\"\n",
    "\n",
    "    :param emb_index: Embeddings Index\n",
    "    :param tokenizer: Keras fitted tokenizer.\n",
    "    :param emb_dim: Embeddings dimension.\n",
    "    :return: A matrix of shape (nb_words, emb_dim) containing the glove embeddings.\n",
    "    \"\"\"\n",
    "    assert emb_dim in [50, 100, 200, 300]\n",
    "\n",
    "    # Create a matrix of all embeddings\n",
    "    # (stacking=concatenating all the vectors)\n",
    "    all_embs = np.stack(emb_index.values())  # .values() gets the all the arrays from the keys\n",
    "\n",
    "    # Calculate mean\n",
    "    emb_mean = all_embs.mean()\n",
    "    # Calculate standard deviation\n",
    "    emb_std = all_embs.std()\n",
    "\n",
    "    print(\"Embeddings AVG: {} | STD: {}\".format(emb_mean, emb_std))\n",
    "\n",
    "    # We can now create an embedding matrix holding all word vectors.\n",
    "\n",
    "    word_index = tokenizer.word_index\n",
    "\n",
    "    # How many words are there actually. Because we may have requested X most common tokens\n",
    "    # and the total tokens are X/2\n",
    "    nb_words = min(max_words, len(word_index))\n",
    "\n",
    "    # Create a random matrix with the same mean and std as the embeddings\n",
    "\n",
    "    embedding_matrix = np.random.normal(emb_mean,  # mean\n",
    "                                        emb_std,  # std\n",
    "                                        (nb_words, emb_dim)) # shape of the matrix\n",
    "\n",
    "    # The vectors need to be in the same position as their index.\n",
    "    # Meaning a word with token 1 needs to be in the second row (rows start with zero) and so on\n",
    "    \n",
    "    counter = 0\n",
    "    \n",
    "    # Loop over all words in the word index\n",
    "    for word, i in word_index.items():  # .items() return a tuple with (word, word_index)\n",
    "\n",
    "        # If we are above the amount of words we want to use we do nothing\n",
    "        if i >= max_words:\n",
    "            continue\n",
    "\n",
    "        # Get the embedding vector for the word\n",
    "        embedding_vector = emb_index.get(word)\n",
    "\n",
    "        # If there is an embedding vector, put it in the embedding matrix\n",
    "        if embedding_vector is not None:\n",
    "            embedding_matrix[i] = embedding_vector\n",
    "            counter += 1\n",
    "    \n",
    "    print(f'Found {counter} pre-trained embeddings out of {nb_words}')\n",
    "    \n",
    "    return embedding_matrix"
   ]
  },
  {
   "cell_type": "code",
   "execution_count": 31,
   "id": "87ed67cd",
   "metadata": {
    "colab": {
     "base_uri": "https://localhost:8080/"
    },
    "id": "87ed67cd",
    "outputId": "45b03be3-4ba3-4a97-e2e6-bccd91336dd0"
   },
   "outputs": [
    {
     "name": "stderr",
     "output_type": "stream",
     "text": [
      "/usr/local/lib/python3.7/dist-packages/IPython/core/interactiveshell.py:3326: FutureWarning: arrays to stack must be passed as a \"sequence\" type such as list or tuple. Support for non-sequence iterables such as generators is deprecated as of NumPy 1.16 and will raise an error in the future.\n",
      "  exec(code_obj, self.user_global_ns, self.user_ns)\n"
     ]
    },
    {
     "name": "stdout",
     "output_type": "stream",
     "text": [
      "Embeddings AVG: -0.003905011573806405 | STD: 0.3817702829837799\n",
      "Found 23092 pre-trained embeddings out of 30000\n"
     ]
    }
   ],
   "source": [
    "embedding_matrix = create_embeddings_matrix(emb_index=embeddings_index,\n",
    "                                            tokenizer=tokenizer,\n",
    "                                            emb_dim=embedding_dim)"
   ]
  },
  {
   "cell_type": "markdown",
   "id": "WMUvMhM_fFe1",
   "metadata": {
    "id": "WMUvMhM_fFe1"
   },
   "source": [
    "# GRU MODEL"
   ]
  },
  {
   "cell_type": "markdown",
   "id": "WPkF4KU3BLTY",
   "metadata": {
    "id": "WPkF4KU3BLTY"
   },
   "source": [
    "## Model Callbacks"
   ]
  },
  {
   "cell_type": "code",
   "execution_count": 32,
   "id": "c1nP-ZM4BN73",
   "metadata": {
    "id": "c1nP-ZM4BN73"
   },
   "outputs": [],
   "source": [
    "monitor = 'val_loss'\n",
    "\n",
    "model_gru = 'model_gru.h5'\n",
    "\n",
    "callbacks_gru = [\n",
    "    # Stop training when a monitored quantity has stopped improving.\n",
    "    EarlyStopping(monitor=monitor,\n",
    "                  patience=5,\n",
    "                  verbose=1,\n",
    "                  restore_best_weights=True),\n",
    "    \n",
    "    # Save the model after every epoch of the monitor quantity improves\n",
    "    ModelCheckpoint(filepath=model_gru,\n",
    "                    monitor=monitor,\n",
    "                    save_best_only=True,\n",
    "                    save_weights_only=False,\n",
    "                    verbose=1),\n",
    "    \n",
    "    # Reduce learning rate when a metric has stopped improving\n",
    "    ReduceLROnPlateau(monitor=monitor,\n",
    "                      factor=0.1,\n",
    "                      patience=3,\n",
    "                      verbose=1,\n",
    "                      restore_best_weights=True)\n",
    "\n",
    "]"
   ]
  },
  {
   "cell_type": "markdown",
   "id": "UxLIO2HvQqdz",
   "metadata": {
    "id": "UxLIO2HvQqdz"
   },
   "source": [
    "## Model Architecture"
   ]
  },
  {
   "cell_type": "code",
   "execution_count": 33,
   "id": "y_G-dTdr2eJu",
   "metadata": {
    "id": "y_G-dTdr2eJu"
   },
   "outputs": [],
   "source": [
    "def mish(inputs):\n",
    "    x = tf.nn.softplus(inputs)\n",
    "    x = tf.nn.tanh(x)\n",
    "    x = tf.multiply(x, inputs)\n",
    "    return x"
   ]
  },
  {
   "cell_type": "code",
   "execution_count": 35,
   "id": "gRRtz0ESD6kG",
   "metadata": {
    "colab": {
     "base_uri": "https://localhost:8080/"
    },
    "id": "gRRtz0ESD6kG",
    "outputId": "e159a823-67bc-429d-c72e-cdc4464c3440"
   },
   "outputs": [
    {
     "name": "stdout",
     "output_type": "stream",
     "text": [
      "Number of Classes (Personality Components): 4\n"
     ]
    }
   ],
   "source": [
    "#network hyperparameters\n",
    "nb_classes = len(y_train_enc[0])\n",
    "\n",
    "print('Number of Classes (Personality Components): {}'.format(nb_classes))\n",
    "\n",
    "\n",
    "#Setting model hyperparameters\n",
    "batch_size=64 # batch=64 =>  in each iteration, we consider 64 training examples at once\n",
    "num_epochs=50"
   ]
  },
  {
   "cell_type": "code",
   "execution_count": 42,
   "id": "f6hkRKCyub3_",
   "metadata": {
    "colab": {
     "base_uri": "https://localhost:8080/"
    },
    "id": "f6hkRKCyub3_",
    "outputId": "fa7f062f-818e-457c-fbf3-d05faead9318"
   },
   "outputs": [
    {
     "name": "stdout",
     "output_type": "stream",
     "text": [
      "Model: \"sequential_1\"\n",
      "_________________________________________________________________\n",
      " Layer (type)                Output Shape              Param #   \n",
      "=================================================================\n",
      " embedding_1 (Embedding)     (None, 280, 300)          9000000   \n",
      "                                                                 \n",
      " bidirectional_1 (Bidirectio  (None, 256)              330240    \n",
      " nal)                                                            \n",
      "                                                                 \n",
      " dense_2 (Dense)             (None, 300)               77100     \n",
      "                                                                 \n",
      " dense_3 (Dense)             (None, 4)                 1204      \n",
      "                                                                 \n",
      "=================================================================\n",
      "Total params: 9,408,544\n",
      "Trainable params: 408,544\n",
      "Non-trainable params: 9,000,000\n",
      "_________________________________________________________________\n"
     ]
    }
   ],
   "source": [
    "model_gru = tf.keras.Sequential([\n",
    "    tf.keras.layers.Embedding(max_words, embedding_dim,input_length=maxlen, weights=[embedding_matrix],trainable=False),\n",
    "    tf.keras.layers.Bidirectional(tf.keras.layers.GRU(128)),\n",
    "    tf.keras.layers.Dense(300, activation='relu'),\n",
    "    tf.keras.layers.Dense(nb_classes, activation='sigmoid')\n",
    "])\n",
    "model_gru.summary()"
   ]
  },
  {
   "cell_type": "code",
   "execution_count": 62,
   "id": "Sl4oORkgsf2_",
   "metadata": {
    "colab": {
     "base_uri": "https://localhost:8080/",
     "height": 533
    },
    "id": "Sl4oORkgsf2_",
    "outputId": "747b89bd-2ad1-4f4e-9ae8-5fdabd431cab"
   },
   "outputs": [
    {
     "data": {
      "image/png": "[encoded data removed]",
      "text/plain": [
       "<IPython.core.display.Image object>"
      ]
     },
     "execution_count": 62,
     "metadata": {},
     "output_type": "execute_result"
    }
   ],
   "source": [
    "plot_model(model_gru,show_shapes=True)"
   ]
  },
  {
   "cell_type": "code",
   "execution_count": 43,
   "id": "Df3r81gYHte1",
   "metadata": {
    "id": "Df3r81gYHte1"
   },
   "outputs": [],
   "source": [
    "model_gru.compile(loss='binary_crossentropy',optimizer=tf.keras.optimizers.Adam(learning_rate=0.0001),metrics=['binary_accuracy','accuracy'])"
   ]
  },
  {
   "cell_type": "code",
   "execution_count": 44,
   "id": "Q03D6TRSuj4b",
   "metadata": {
    "colab": {
     "base_uri": "https://localhost:8080/"
    },
    "id": "Q03D6TRSuj4b",
    "outputId": "56387bec-f4d1-492e-c58c-63182ccdcec7"
   },
   "outputs": [
    {
     "name": "stdout",
     "output_type": "stream",
     "text": [
      "Epoch 1/50\n",
      "\n",
      "Epoch 00001: val_loss did not improve from 0.55548\n",
      "110/110 - 7s - loss: 0.5918 - binary_accuracy: 0.6816 - accuracy: 0.2653 - val_loss: 0.5785 - val_binary_accuracy: 0.6924 - val_accuracy: 0.2804 - lr: 1.0000e-04 - 7s/epoch - 62ms/step\n",
      "Epoch 2/50\n",
      "\n",
      "Epoch 00002: val_loss did not improve from 0.55548\n",
      "110/110 - 3s - loss: 0.5746 - binary_accuracy: 0.6967 - accuracy: 0.2727 - val_loss: 0.5758 - val_binary_accuracy: 0.6962 - val_accuracy: 0.2727 - lr: 1.0000e-04 - 3s/epoch - 28ms/step\n",
      "Epoch 3/50\n",
      "\n",
      "Epoch 00003: val_loss did not improve from 0.55548\n",
      "110/110 - 3s - loss: 0.5717 - binary_accuracy: 0.7000 - accuracy: 0.2738 - val_loss: 0.5753 - val_binary_accuracy: 0.6988 - val_accuracy: 0.2638 - lr: 1.0000e-04 - 3s/epoch - 28ms/step\n",
      "Epoch 4/50\n",
      "\n",
      "Epoch 00004: val_loss did not improve from 0.55548\n",
      "110/110 - 3s - loss: 0.5689 - binary_accuracy: 0.7035 - accuracy: 0.2775 - val_loss: 0.5738 - val_binary_accuracy: 0.7007 - val_accuracy: 0.2650 - lr: 1.0000e-04 - 3s/epoch - 28ms/step\n",
      "Epoch 5/50\n",
      "\n",
      "Epoch 00005: val_loss did not improve from 0.55548\n",
      "110/110 - 3s - loss: 0.5664 - binary_accuracy: 0.7064 - accuracy: 0.2818 - val_loss: 0.5734 - val_binary_accuracy: 0.7045 - val_accuracy: 0.2740 - lr: 1.0000e-04 - 3s/epoch - 28ms/step\n",
      "Epoch 6/50\n",
      "\n",
      "Epoch 00006: val_loss did not improve from 0.55548\n",
      "110/110 - 3s - loss: 0.5638 - binary_accuracy: 0.7076 - accuracy: 0.2835 - val_loss: 0.5728 - val_binary_accuracy: 0.7004 - val_accuracy: 0.2791 - lr: 1.0000e-04 - 3s/epoch - 28ms/step\n",
      "Epoch 7/50\n",
      "\n",
      "Epoch 00007: val_loss did not improve from 0.55548\n",
      "110/110 - 3s - loss: 0.5608 - binary_accuracy: 0.7121 - accuracy: 0.2888 - val_loss: 0.5710 - val_binary_accuracy: 0.7052 - val_accuracy: 0.2702 - lr: 1.0000e-04 - 3s/epoch - 28ms/step\n",
      "Epoch 8/50\n",
      "\n",
      "Epoch 00008: val_loss did not improve from 0.55548\n",
      "110/110 - 3s - loss: 0.5573 - binary_accuracy: 0.7138 - accuracy: 0.2906 - val_loss: 0.5704 - val_binary_accuracy: 0.7093 - val_accuracy: 0.2727 - lr: 1.0000e-04 - 3s/epoch - 28ms/step\n",
      "Epoch 9/50\n",
      "\n",
      "Epoch 00009: val_loss did not improve from 0.55548\n",
      "110/110 - 3s - loss: 0.5533 - binary_accuracy: 0.7173 - accuracy: 0.3023 - val_loss: 0.5688 - val_binary_accuracy: 0.7116 - val_accuracy: 0.3150 - lr: 1.0000e-04 - 3s/epoch - 28ms/step\n",
      "Epoch 10/50\n",
      "\n",
      "Epoch 00010: val_loss did not improve from 0.55548\n",
      "110/110 - 3s - loss: 0.5500 - binary_accuracy: 0.7215 - accuracy: 0.3016 - val_loss: 0.5663 - val_binary_accuracy: 0.7164 - val_accuracy: 0.2907 - lr: 1.0000e-04 - 3s/epoch - 28ms/step\n",
      "Epoch 11/50\n",
      "\n",
      "Epoch 00011: val_loss did not improve from 0.55548\n",
      "110/110 - 3s - loss: 0.5434 - binary_accuracy: 0.7293 - accuracy: 0.3133 - val_loss: 0.5612 - val_binary_accuracy: 0.7193 - val_accuracy: 0.3009 - lr: 1.0000e-04 - 3s/epoch - 28ms/step\n",
      "Epoch 12/50\n",
      "\n",
      "Epoch 00012: val_loss did not improve from 0.55548\n",
      "110/110 - 3s - loss: 0.5365 - binary_accuracy: 0.7343 - accuracy: 0.3252 - val_loss: 0.5570 - val_binary_accuracy: 0.7279 - val_accuracy: 0.3163 - lr: 1.0000e-04 - 3s/epoch - 28ms/step\n",
      "Epoch 13/50\n",
      "\n",
      "Epoch 00013: val_loss improved from 0.55548 to 0.55243, saving model to model_gru.h5\n",
      "110/110 - 3s - loss: 0.5324 - binary_accuracy: 0.7384 - accuracy: 0.3365 - val_loss: 0.5524 - val_binary_accuracy: 0.7298 - val_accuracy: 0.3278 - lr: 1.0000e-04 - 3s/epoch - 29ms/step\n",
      "Epoch 14/50\n",
      "\n",
      "Epoch 00014: val_loss did not improve from 0.55243\n",
      "110/110 - 3s - loss: 0.5284 - binary_accuracy: 0.7404 - accuracy: 0.3315 - val_loss: 0.5554 - val_binary_accuracy: 0.7298 - val_accuracy: 0.3175 - lr: 1.0000e-04 - 3s/epoch - 28ms/step\n",
      "Epoch 15/50\n",
      "\n",
      "Epoch 00015: val_loss improved from 0.55243 to 0.55030, saving model to model_gru.h5\n",
      "110/110 - 3s - loss: 0.5226 - binary_accuracy: 0.7454 - accuracy: 0.3403 - val_loss: 0.5503 - val_binary_accuracy: 0.7302 - val_accuracy: 0.3252 - lr: 1.0000e-04 - 3s/epoch - 29ms/step\n",
      "Epoch 16/50\n",
      "\n",
      "Epoch 00016: val_loss did not improve from 0.55030\n",
      "110/110 - 3s - loss: 0.5168 - binary_accuracy: 0.7483 - accuracy: 0.3497 - val_loss: 0.5624 - val_binary_accuracy: 0.7151 - val_accuracy: 0.3124 - lr: 1.0000e-04 - 3s/epoch - 28ms/step\n",
      "Epoch 17/50\n",
      "\n",
      "Epoch 00017: val_loss improved from 0.55030 to 0.55019, saving model to model_gru.h5\n",
      "110/110 - 3s - loss: 0.5166 - binary_accuracy: 0.7486 - accuracy: 0.3514 - val_loss: 0.5502 - val_binary_accuracy: 0.7346 - val_accuracy: 0.3342 - lr: 1.0000e-04 - 3s/epoch - 30ms/step\n",
      "Epoch 18/50\n",
      "\n",
      "Epoch 00018: val_loss improved from 0.55019 to 0.54876, saving model to model_gru.h5\n",
      "110/110 - 3s - loss: 0.5096 - binary_accuracy: 0.7532 - accuracy: 0.3597 - val_loss: 0.5488 - val_binary_accuracy: 0.7308 - val_accuracy: 0.3227 - lr: 1.0000e-04 - 3s/epoch - 30ms/step\n",
      "Epoch 19/50\n",
      "\n",
      "Epoch 00019: val_loss improved from 0.54876 to 0.54859, saving model to model_gru.h5\n",
      "110/110 - 3s - loss: 0.5059 - binary_accuracy: 0.7562 - accuracy: 0.3624 - val_loss: 0.5486 - val_binary_accuracy: 0.7327 - val_accuracy: 0.3547 - lr: 1.0000e-04 - 3s/epoch - 30ms/step\n",
      "Epoch 20/50\n",
      "\n",
      "Epoch 00020: val_loss improved from 0.54859 to 0.54851, saving model to model_gru.h5\n",
      "110/110 - 3s - loss: 0.5013 - binary_accuracy: 0.7608 - accuracy: 0.3760 - val_loss: 0.5485 - val_binary_accuracy: 0.7353 - val_accuracy: 0.3355 - lr: 1.0000e-04 - 3s/epoch - 29ms/step\n",
      "Epoch 21/50\n",
      "\n",
      "Epoch 00021: val_loss improved from 0.54851 to 0.54812, saving model to model_gru.h5\n",
      "110/110 - 3s - loss: 0.4991 - binary_accuracy: 0.7615 - accuracy: 0.3739 - val_loss: 0.5481 - val_binary_accuracy: 0.7327 - val_accuracy: 0.3316 - lr: 1.0000e-04 - 3s/epoch - 30ms/step\n",
      "Epoch 22/50\n",
      "\n",
      "Epoch 00022: val_loss improved from 0.54812 to 0.54759, saving model to model_gru.h5\n",
      "110/110 - 3s - loss: 0.4919 - binary_accuracy: 0.7648 - accuracy: 0.3779 - val_loss: 0.5476 - val_binary_accuracy: 0.7362 - val_accuracy: 0.3521 - lr: 1.0000e-04 - 3s/epoch - 30ms/step\n",
      "Epoch 23/50\n",
      "\n",
      "Epoch 00023: val_loss did not improve from 0.54759\n",
      "110/110 - 3s - loss: 0.4896 - binary_accuracy: 0.7684 - accuracy: 0.3780 - val_loss: 0.5512 - val_binary_accuracy: 0.7244 - val_accuracy: 0.3355 - lr: 1.0000e-04 - 3s/epoch - 29ms/step\n",
      "Epoch 24/50\n",
      "\n",
      "Epoch 00024: val_loss did not improve from 0.54759\n",
      "110/110 - 3s - loss: 0.4835 - binary_accuracy: 0.7734 - accuracy: 0.3898 - val_loss: 0.5554 - val_binary_accuracy: 0.7273 - val_accuracy: 0.3470 - lr: 1.0000e-04 - 3s/epoch - 29ms/step\n",
      "Epoch 25/50\n",
      "\n",
      "Epoch 00025: val_loss did not improve from 0.54759\n",
      "\n",
      "Epoch 00025: ReduceLROnPlateau reducing learning rate to 9.999999747378752e-06.\n",
      "110/110 - 3s - loss: 0.4798 - binary_accuracy: 0.7735 - accuracy: 0.3931 - val_loss: 0.5508 - val_binary_accuracy: 0.7359 - val_accuracy: 0.3508 - lr: 1.0000e-04 - 3s/epoch - 29ms/step\n",
      "Epoch 26/50\n",
      "\n",
      "Epoch 00026: val_loss did not improve from 0.54759\n",
      "110/110 - 3s - loss: 0.4708 - binary_accuracy: 0.7798 - accuracy: 0.4041 - val_loss: 0.5489 - val_binary_accuracy: 0.7391 - val_accuracy: 0.3560 - lr: 1.0000e-05 - 3s/epoch - 29ms/step\n",
      "Epoch 27/50\n",
      "Restoring model weights from the end of the best epoch.\n",
      "\n",
      "Epoch 00027: val_loss did not improve from 0.54759\n",
      "110/110 - 3s - loss: 0.4700 - binary_accuracy: 0.7806 - accuracy: 0.4045 - val_loss: 0.5495 - val_binary_accuracy: 0.7359 - val_accuracy: 0.3508 - lr: 1.0000e-05 - 3s/epoch - 29ms/step\n",
      "Epoch 00027: early stopping\n"
     ]
    }
   ],
   "source": [
    "history_gru = model_gru.fit(\n",
    "    x=X_train_enc,           # features (as dense inputs)\n",
    "    y=y_train_enc,           # labels\n",
    "    batch_size=batch_size,   # define batch size\n",
    "    epochs=num_epochs,         # number of epochs\n",
    "    verbose=2,               # the most extended verbosity level\n",
    "    validation_data=(       \n",
    "    X_val_enc,               # the validation split that we did before\n",
    "    y_val_enc),\n",
    "    callbacks=callbacks_gru\n",
    ")"
   ]
  },
  {
   "cell_type": "markdown",
   "id": "iM_VEjkGQcDI",
   "metadata": {
    "id": "iM_VEjkGQcDI"
   },
   "source": [
    "## Model Evaluation"
   ]
  },
  {
   "cell_type": "code",
   "execution_count": 60,
   "id": "ZjN8ffS5QbGd",
   "metadata": {
    "colab": {
     "base_uri": "https://localhost:8080/"
    },
    "id": "ZjN8ffS5QbGd",
    "outputId": "8913d2a4-cfe6-4666-a16f-8aced716397b"
   },
   "outputs": [
    {
     "name": "stdout",
     "output_type": "stream",
     "text": [
      "7/7 [==============================] - 0s 30ms/step - loss: 0.5476 - binary_accuracy: 0.7362 - accuracy: 0.3521\n"
     ]
    }
   ],
   "source": [
    "score_gru = model_gru.evaluate(\n",
    "    X_val_enc,                 \n",
    "    y_val_enc,                 \n",
    "    batch_size=batch_size,   \n",
    "    verbose=1                \n",
    ")"
   ]
  },
  {
   "cell_type": "code",
   "execution_count": 61,
   "id": "3tik8lR_Ibdg",
   "metadata": {
    "colab": {
     "base_uri": "https://localhost:8080/"
    },
    "id": "3tik8lR_Ibdg",
    "outputId": "1a76d507-b266-4611-bece-7dfe5b2c361f"
   },
   "outputs": [
    {
     "name": "stdout",
     "output_type": "stream",
     "text": [
      "\n",
      "Validation binary_crossentropy: 0.5475870370864868\n",
      "\n",
      "Validation binary accuracy: 73.624 %\n",
      "\n",
      "Validation accuracy: 35.211 %\n"
     ]
    }
   ],
   "source": [
    "print('\\nValidation binary_crossentropy: {}'.format(score_gru[0]))\n",
    "print('\\nValidation binary accuracy: {:.3f} %'.format(score_gru[1]*100))\n",
    "print('\\nValidation accuracy: {:.3f} %'.format(score_gru[2]*100))"
   ]
  },
  {
   "cell_type": "code",
   "execution_count": 59,
   "id": "ElF3EgT1PtRA",
   "metadata": {
    "id": "ElF3EgT1PtRA"
   },
   "outputs": [],
   "source": [
    "def plot_keras_history(history):\n",
    "    \"\"\"\n",
    "    \n",
    "    :param history: \n",
    "    :return: \n",
    "    \"\"\"\n",
    "    # the history object gives the metrics keys. \n",
    "    # we will store the metrics keys that are from the training sesion.\n",
    "    metrics_names = [key for key in history.history.keys() if not key.startswith('val_')]\n",
    "\n",
    "    for i, metric in enumerate(metrics_names):\n",
    "        \n",
    "        # getting the training values\n",
    "        metric_train_values = history.history.get(metric, [])\n",
    "        \n",
    "        # getting the validation values\n",
    "        metric_val_values = history.history.get(\"val_{}\".format(metric), [])\n",
    "\n",
    "        # As loss always exists as a metric we use it to find the \n",
    "        epochs = range(1, len(metric_train_values) + 1)\n",
    "        \n",
    "        # leaving extra spaces to allign with the validation text\n",
    "        training_text = \"   Training {}: {:.5f}\".format(metric,\n",
    "                                                        metric_train_values[-1])\n",
    "\n",
    "        # metric\n",
    "        plt.figure(i, figsize=(12, 6))\n",
    "\n",
    "        plt.plot(epochs,\n",
    "                 metric_train_values,\n",
    "                 'b',\n",
    "                 label=training_text)\n",
    "        \n",
    "        # if we validation metric exists, then plot that as well\n",
    "        if metric_val_values:\n",
    "            validation_text = \"Validation {}: {:.5f}\".format(metric,\n",
    "                                                             metric_val_values[-1])\n",
    "\n",
    "            plt.plot(epochs,\n",
    "                     metric_val_values,\n",
    "                     'g',\n",
    "                     label=validation_text)\n",
    "        \n",
    "        # add title, xlabel, ylabe, and legend\n",
    "        plt.title('Model Metric: {}'.format(metric))\n",
    "        plt.xlabel('Epochs')\n",
    "        plt.ylabel(metric.title())\n",
    "        plt.legend()\n",
    "\n",
    "    plt.show()"
   ]
  },
  {
   "cell_type": "code",
   "execution_count": null,
   "id": "KkZF56DAP_TC",
   "metadata": {
    "colab": {
     "base_uri": "https://localhost:8080/",
     "height": 1000
    },
    "id": "KkZF56DAP_TC",
    "outputId": "43b2b7bd-67d5-4114-bbf3-32df92f7fb55"
   },
   "outputs": [
    {
     "data": {
      "image/png": "[encoded data removed]",
      "text/plain": [
       "<Figure size 864x432 with 1 Axes>"
      ]
     },
     "metadata": {
      "needs_background": "light"
     },
     "output_type": "display_data"
    },
    {
     "data": {
      "image/png": "[encoded data removed]",
      "text/plain": [
       "<Figure size 864x432 with 1 Axes>"
      ]
     },
     "metadata": {
      "needs_background": "light"
     },
     "output_type": "display_data"
    },
    {
     "data": {
      "image/png": "[encoded data removed]",
      "text/plain": [
       "<Figure size 864x432 with 1 Axes>"
      ]
     },
     "metadata": {
      "needs_background": "light"
     },
     "output_type": "display_data"
    },
    {
     "data": {
      "image/png": "[encoded data removed]",
      "text/plain": [
       "<Figure size 864x432 with 1 Axes>"
      ]
     },
     "metadata": {
      "needs_background": "light"
     },
     "output_type": "display_data"
    }
   ],
   "source": [
    "plot_keras_history(history_gru)"
   ]
  },
  {
   "cell_type": "code",
   "execution_count": null,
   "id": "6mWxs-9NQitI",
   "metadata": {
    "id": "6mWxs-9NQitI"
   },
   "outputs": [],
   "source": [
    "# from tensorflow.python.keras.models import load_model\n",
    "\n",
    "# model2.save('model_cnn.h5')  # creates a HDF5 file 'my_model.h5'\n",
    "\n",
    "# # returns a compiled model\n",
    "# # identical to the previous one\n",
    "# model = load_model('my_model.h5')"
   ]
  },
  {
   "cell_type": "code",
   "execution_count": null,
   "id": "TH8nF_fnQlHE",
   "metadata": {
    "id": "TH8nF_fnQlHE"
   },
   "outputs": [],
   "source": [
    "# model_gru.save_weights('model_gru_weights.h5')"
   ]
  },
  {
   "cell_type": "markdown",
   "id": "iSndXqRLySdy",
   "metadata": {
    "id": "iSndXqRLySdy"
   },
   "source": [
    "# LSTM-Model"
   ]
  },
  {
   "cell_type": "code",
   "execution_count": 47,
   "id": "f8a2337d",
   "metadata": {
    "colab": {
     "base_uri": "https://localhost:8080/"
    },
    "id": "f8a2337d",
    "outputId": "ccd658ac-3d33-429c-c4ab-9e31fdaa21eb"
   },
   "outputs": [
    {
     "name": "stdout",
     "output_type": "stream",
     "text": [
      "Number of Classes (Personality Components): 4\n"
     ]
    }
   ],
   "source": [
    "#model hyperparams\n",
    "\n",
    "nb_classes = len(y_train_enc[0])\n",
    "print('Number of Classes (Personality Components): {}'.format(nb_classes))\n",
    "nb_epoch = 50\n",
    "batch_size = 128\n",
    "dropout_rate = 0.5"
   ]
  },
  {
   "cell_type": "markdown",
   "id": "pnYpI6FebdfO",
   "metadata": {
    "id": "pnYpI6FebdfO"
   },
   "source": [
    "## Model Callbacks"
   ]
  },
  {
   "cell_type": "code",
   "execution_count": 46,
   "id": "3ob-Zvo0bcoB",
   "metadata": {
    "id": "3ob-Zvo0bcoB"
   },
   "outputs": [],
   "source": [
    "monitor = 'val_loss'\n",
    "\n",
    "model_lstm = 'model_lstm.h5'\n",
    "\n",
    "callbacks_lstm = [\n",
    "    # Stop training when a monitored quantity has stopped improving.\n",
    "    EarlyStopping(monitor=monitor,\n",
    "                  patience=5,\n",
    "                  verbose=1,\n",
    "                  restore_best_weights=True),\n",
    "    \n",
    "    # Save the model after every epoch of the monitor quantity improves\n",
    "    ModelCheckpoint(filepath=model_lstm,\n",
    "                    monitor=monitor,\n",
    "                    save_best_only=True,\n",
    "                    save_weights_only=False,\n",
    "                    verbose=1),\n",
    "    \n",
    "    # Reduce learning rate when a metric has stopped improving\n",
    "    ReduceLROnPlateau(monitor=monitor,\n",
    "                      factor=0.1,\n",
    "                      patience=3,\n",
    "                      verbose=1,\n",
    "                      restore_best_weights=True)\n",
    "\n",
    "]"
   ]
  },
  {
   "cell_type": "markdown",
   "id": "MTr4tRCErYCV",
   "metadata": {
    "id": "MTr4tRCErYCV"
   },
   "source": [
    "## Model Architecture"
   ]
  },
  {
   "cell_type": "code",
   "execution_count": 54,
   "id": "fHylKeZ7y8zK",
   "metadata": {
    "colab": {
     "base_uri": "https://localhost:8080/"
    },
    "id": "fHylKeZ7y8zK",
    "outputId": "f56fd40e-a680-454e-d666-c3dfd23f60c7"
   },
   "outputs": [
    {
     "name": "stdout",
     "output_type": "stream",
     "text": [
      "Building model...\n",
      "Model: \"sequential_5\"\n",
      "_________________________________________________________________\n",
      " Layer (type)                Output Shape              Param #   \n",
      "=================================================================\n",
      " embedding_5 (Embedding)     (None, 280, 300)          9000000   \n",
      "                                                                 \n",
      " bidirectional_5 (Bidirectio  (None, 128)              186880    \n",
      " nal)                                                            \n",
      "                                                                 \n",
      " dropout_6 (Dropout)         (None, 128)               0         \n",
      "                                                                 \n",
      " dense_10 (Dense)            (None, 8)                 1032      \n",
      "                                                                 \n",
      " dropout_7 (Dropout)         (None, 8)                 0         \n",
      "                                                                 \n",
      " dense_11 (Dense)            (None, 4)                 36        \n",
      "                                                                 \n",
      "=================================================================\n",
      "Total params: 9,187,948\n",
      "Trainable params: 187,948\n",
      "Non-trainable params: 9,000,000\n",
      "_________________________________________________________________\n"
     ]
    }
   ],
   "source": [
    "# model_lstm = Sequential()\n",
    "# model_lstm.add(Embedding(max_words, embedding_dim, input_length=maxlen, weights=[embedding_matrix],trainable=False))\n",
    "# model_lstm.add(Bidirectional(LSTM(64)))\n",
    "# model_lstm.add(Dropout(0.5))\n",
    "# model_lstm.add(Dense(16, activation='tanh'))\n",
    "# model_lstm.add(Dropout(0.5))\n",
    "#  Adding a dense output laye\n",
    "# model_lstm.add(Dense(nb_classes, activation='sigmoid'))\n",
    "# model_lstm.build(X_train_enc.shape) \n",
    "# model_lstm.compile(loss='binary_crossentropy', optimizer='adam', metrics=['accuracy'])\n",
    "# model_lstm.summary()\n",
    "\n",
    "\n",
    "print('Building model...')\n",
    "model_lstm = tf.keras.Sequential([\n",
    "    tf.keras.layers.Embedding(max_words, embedding_dim, input_length=maxlen, weights=[embedding_matrix],trainable=False),\n",
    "    tf.keras.layers.Bidirectional(tf.keras.layers.LSTM(64)),\n",
    "    tf.keras.layers.Dropout(dropout_rate),\n",
    "    tf.keras.layers.Dense(8, activation=mish),\n",
    "    tf.keras.layers.Dropout(dropout_rate),\n",
    "    tf.keras.layers.Dense(nb_classes, activation='sigmoid')\n",
    "])\n",
    "model_lstm.compile(loss='binary_crossentropy',optimizer='adam',metrics=['binary_accuracy','accuracy'])\n",
    "model_lstm.summary()"
   ]
  },
  {
   "cell_type": "code",
   "execution_count": 63,
   "id": "PrMbBomBfnRh",
   "metadata": {
    "colab": {
     "base_uri": "https://localhost:8080/",
     "height": 754
    },
    "id": "PrMbBomBfnRh",
    "outputId": "3b3fecc5-0f88-4d41-ae49-b99b4e612f04"
   },
   "outputs": [
    {
     "data": {
      "image/png": "[encoded data removed]",
      "text/plain": [
       "<IPython.core.display.Image object>"
      ]
     },
     "execution_count": 63,
     "metadata": {},
     "output_type": "execute_result"
    }
   ],
   "source": [
    "plot_model(model_lstm, show_shapes=True)"
   ]
  },
  {
   "cell_type": "code",
   "execution_count": 55,
   "id": "9_RSK5TD7yXX",
   "metadata": {
    "colab": {
     "base_uri": "https://localhost:8080/"
    },
    "id": "9_RSK5TD7yXX",
    "outputId": "52453777-adff-4027-b73d-407980bea933"
   },
   "outputs": [
    {
     "name": "stdout",
     "output_type": "stream",
     "text": [
      "Epoch 1/100\n",
      "\n",
      "Epoch 00001: val_loss did not improve from 0.54345\n",
      "55/55 - 5s - loss: 0.6515 - binary_accuracy: 0.6524 - accuracy: 0.2879 - val_loss: 0.6072 - val_binary_accuracy: 0.6917 - val_accuracy: 0.2753 - lr: 0.0010 - 5s/epoch - 98ms/step\n",
      "Epoch 2/100\n",
      "\n",
      "Epoch 00002: val_loss did not improve from 0.54345\n",
      "55/55 - 2s - loss: 0.6265 - binary_accuracy: 0.6712 - accuracy: 0.2919 - val_loss: 0.5933 - val_binary_accuracy: 0.7023 - val_accuracy: 0.2804 - lr: 0.0010 - 2s/epoch - 30ms/step\n",
      "Epoch 3/100\n",
      "\n",
      "Epoch 00003: val_loss did not improve from 0.54345\n",
      "55/55 - 2s - loss: 0.6138 - binary_accuracy: 0.6739 - accuracy: 0.2817 - val_loss: 0.5859 - val_binary_accuracy: 0.7017 - val_accuracy: 0.2753 - lr: 0.0010 - 2s/epoch - 30ms/step\n",
      "Epoch 4/100\n",
      "\n",
      "Epoch 00004: val_loss did not improve from 0.54345\n",
      "55/55 - 2s - loss: 0.6028 - binary_accuracy: 0.6796 - accuracy: 0.2868 - val_loss: 0.5781 - val_binary_accuracy: 0.7039 - val_accuracy: 0.2766 - lr: 0.0010 - 2s/epoch - 30ms/step\n",
      "Epoch 5/100\n",
      "\n",
      "Epoch 00005: val_loss did not improve from 0.54345\n",
      "55/55 - 2s - loss: 0.5970 - binary_accuracy: 0.6850 - accuracy: 0.2747 - val_loss: 0.5735 - val_binary_accuracy: 0.7116 - val_accuracy: 0.2817 - lr: 0.0010 - 2s/epoch - 31ms/step\n",
      "Epoch 6/100\n",
      "\n",
      "Epoch 00006: val_loss did not improve from 0.54345\n",
      "55/55 - 2s - loss: 0.5893 - binary_accuracy: 0.6912 - accuracy: 0.2886 - val_loss: 0.5741 - val_binary_accuracy: 0.7138 - val_accuracy: 0.2778 - lr: 0.0010 - 2s/epoch - 41ms/step\n",
      "Epoch 7/100\n",
      "\n",
      "Epoch 00007: val_loss did not improve from 0.54345\n",
      "55/55 - 2s - loss: 0.5891 - binary_accuracy: 0.6910 - accuracy: 0.2755 - val_loss: 0.5736 - val_binary_accuracy: 0.7010 - val_accuracy: 0.2766 - lr: 0.0010 - 2s/epoch - 40ms/step\n",
      "Epoch 8/100\n",
      "\n",
      "Epoch 00008: val_loss did not improve from 0.54345\n",
      "55/55 - 2s - loss: 0.5853 - binary_accuracy: 0.6912 - accuracy: 0.2753 - val_loss: 0.5724 - val_binary_accuracy: 0.7068 - val_accuracy: 0.2766 - lr: 0.0010 - 2s/epoch - 31ms/step\n",
      "Epoch 9/100\n",
      "\n",
      "Epoch 00009: val_loss did not improve from 0.54345\n",
      "55/55 - 2s - loss: 0.5805 - binary_accuracy: 0.6977 - accuracy: 0.2814 - val_loss: 0.5690 - val_binary_accuracy: 0.7209 - val_accuracy: 0.2881 - lr: 0.0010 - 2s/epoch - 31ms/step\n",
      "Epoch 10/100\n",
      "\n",
      "Epoch 00010: val_loss did not improve from 0.54345\n",
      "55/55 - 2s - loss: 0.5772 - binary_accuracy: 0.7024 - accuracy: 0.2929 - val_loss: 0.5666 - val_binary_accuracy: 0.7164 - val_accuracy: 0.3073 - lr: 0.0010 - 2s/epoch - 31ms/step\n",
      "Epoch 11/100\n",
      "\n",
      "Epoch 00011: val_loss did not improve from 0.54345\n",
      "55/55 - 2s - loss: 0.5704 - binary_accuracy: 0.7131 - accuracy: 0.3076 - val_loss: 0.5630 - val_binary_accuracy: 0.7286 - val_accuracy: 0.3214 - lr: 0.0010 - 2s/epoch - 31ms/step\n",
      "Epoch 12/100\n",
      "\n",
      "Epoch 00012: val_loss did not improve from 0.54345\n",
      "55/55 - 2s - loss: 0.5668 - binary_accuracy: 0.7147 - accuracy: 0.3188 - val_loss: 0.5669 - val_binary_accuracy: 0.7113 - val_accuracy: 0.3047 - lr: 0.0010 - 2s/epoch - 30ms/step\n",
      "Epoch 13/100\n",
      "\n",
      "Epoch 00013: val_loss did not improve from 0.54345\n",
      "55/55 - 2s - loss: 0.5648 - binary_accuracy: 0.7151 - accuracy: 0.3143 - val_loss: 0.5623 - val_binary_accuracy: 0.7209 - val_accuracy: 0.2855 - lr: 0.0010 - 2s/epoch - 31ms/step\n",
      "Epoch 14/100\n",
      "\n",
      "Epoch 00014: val_loss did not improve from 0.54345\n",
      "55/55 - 2s - loss: 0.5615 - binary_accuracy: 0.7199 - accuracy: 0.3281 - val_loss: 0.5637 - val_binary_accuracy: 0.7157 - val_accuracy: 0.3521 - lr: 0.0010 - 2s/epoch - 30ms/step\n",
      "Epoch 15/100\n",
      "\n",
      "Epoch 00015: val_loss did not improve from 0.54345\n",
      "55/55 - 2s - loss: 0.5552 - binary_accuracy: 0.7241 - accuracy: 0.3470 - val_loss: 0.5602 - val_binary_accuracy: 0.7199 - val_accuracy: 0.3316 - lr: 0.0010 - 2s/epoch - 31ms/step\n",
      "Epoch 16/100\n",
      "\n",
      "Epoch 00016: val_loss did not improve from 0.54345\n",
      "55/55 - 2s - loss: 0.5522 - binary_accuracy: 0.7261 - accuracy: 0.3480 - val_loss: 0.5521 - val_binary_accuracy: 0.7378 - val_accuracy: 0.3380 - lr: 0.0010 - 2s/epoch - 31ms/step\n",
      "Epoch 17/100\n",
      "\n",
      "Epoch 00017: val_loss did not improve from 0.54345\n",
      "55/55 - 2s - loss: 0.5457 - binary_accuracy: 0.7296 - accuracy: 0.3598 - val_loss: 0.5587 - val_binary_accuracy: 0.7321 - val_accuracy: 0.3380 - lr: 0.0010 - 2s/epoch - 31ms/step\n",
      "Epoch 18/100\n",
      "\n",
      "Epoch 00018: val_loss did not improve from 0.54345\n",
      "55/55 - 2s - loss: 0.5409 - binary_accuracy: 0.7331 - accuracy: 0.3629 - val_loss: 0.5499 - val_binary_accuracy: 0.7302 - val_accuracy: 0.3303 - lr: 0.0010 - 2s/epoch - 31ms/step\n",
      "Epoch 19/100\n",
      "\n",
      "Epoch 00019: val_loss did not improve from 0.54345\n",
      "55/55 - 2s - loss: 0.5336 - binary_accuracy: 0.7366 - accuracy: 0.3698 - val_loss: 0.5497 - val_binary_accuracy: 0.7346 - val_accuracy: 0.3662 - lr: 0.0010 - 2s/epoch - 31ms/step\n",
      "Epoch 20/100\n",
      "\n",
      "Epoch 00020: val_loss did not improve from 0.54345\n",
      "55/55 - 2s - loss: 0.5306 - binary_accuracy: 0.7386 - accuracy: 0.3639 - val_loss: 0.5521 - val_binary_accuracy: 0.7318 - val_accuracy: 0.3406 - lr: 0.0010 - 2s/epoch - 31ms/step\n",
      "Epoch 21/100\n",
      "\n",
      "Epoch 00021: val_loss did not improve from 0.54345\n",
      "55/55 - 2s - loss: 0.5246 - binary_accuracy: 0.7419 - accuracy: 0.3833 - val_loss: 0.5481 - val_binary_accuracy: 0.7353 - val_accuracy: 0.3367 - lr: 0.0010 - 2s/epoch - 31ms/step\n",
      "Epoch 22/100\n",
      "\n",
      "Epoch 00022: val_loss did not improve from 0.54345\n",
      "55/55 - 2s - loss: 0.5205 - binary_accuracy: 0.7459 - accuracy: 0.3766 - val_loss: 0.5495 - val_binary_accuracy: 0.7324 - val_accuracy: 0.3457 - lr: 0.0010 - 2s/epoch - 35ms/step\n",
      "Epoch 23/100\n",
      "\n",
      "Epoch 00023: val_loss did not improve from 0.54345\n",
      "55/55 - 2s - loss: 0.5147 - binary_accuracy: 0.7461 - accuracy: 0.3840 - val_loss: 0.5441 - val_binary_accuracy: 0.7426 - val_accuracy: 0.3457 - lr: 0.0010 - 2s/epoch - 40ms/step\n",
      "Epoch 24/100\n",
      "\n",
      "Epoch 00024: val_loss did not improve from 0.54345\n",
      "55/55 - 2s - loss: 0.5071 - binary_accuracy: 0.7508 - accuracy: 0.3942 - val_loss: 0.5546 - val_binary_accuracy: 0.7324 - val_accuracy: 0.3252 - lr: 0.0010 - 2s/epoch - 32ms/step\n",
      "Epoch 25/100\n",
      "\n",
      "Epoch 00025: val_loss did not improve from 0.54345\n",
      "55/55 - 2s - loss: 0.4990 - binary_accuracy: 0.7570 - accuracy: 0.3965 - val_loss: 0.5542 - val_binary_accuracy: 0.7366 - val_accuracy: 0.3355 - lr: 0.0010 - 2s/epoch - 31ms/step\n",
      "Epoch 26/100\n",
      "\n",
      "Epoch 00026: val_loss did not improve from 0.54345\n",
      "\n",
      "Epoch 00026: ReduceLROnPlateau reducing learning rate to 0.00010000000474974513.\n",
      "55/55 - 2s - loss: 0.4944 - binary_accuracy: 0.7571 - accuracy: 0.4022 - val_loss: 0.5545 - val_binary_accuracy: 0.7324 - val_accuracy: 0.3291 - lr: 0.0010 - 2s/epoch - 31ms/step\n",
      "Epoch 27/100\n",
      "\n",
      "Epoch 00027: val_loss did not improve from 0.54345\n",
      "55/55 - 2s - loss: 0.4822 - binary_accuracy: 0.7645 - accuracy: 0.4049 - val_loss: 0.5491 - val_binary_accuracy: 0.7353 - val_accuracy: 0.3470 - lr: 1.0000e-04 - 2s/epoch - 31ms/step\n",
      "Epoch 28/100\n",
      "Restoring model weights from the end of the best epoch.\n",
      "\n",
      "Epoch 00028: val_loss did not improve from 0.54345\n",
      "55/55 - 2s - loss: 0.4781 - binary_accuracy: 0.7664 - accuracy: 0.4226 - val_loss: 0.5507 - val_binary_accuracy: 0.7350 - val_accuracy: 0.3470 - lr: 1.0000e-04 - 2s/epoch - 31ms/step\n",
      "Epoch 00028: early stopping\n"
     ]
    }
   ],
   "source": [
    "# Fit data to model\n",
    "history_lstm=model_lstm.fit(X_train_enc, y_train_enc,\n",
    "          batch_size=batch_size,\n",
    "          epochs=nb_epoch,\n",
    "          verbose=2,\n",
    "    validation_data=(X_val_enc,y_val_enc),\n",
    "    callbacks=callbacks_lstm\n",
    ")\n"
   ]
  },
  {
   "cell_type": "markdown",
   "id": "-rxp4vHbCbAc",
   "metadata": {
    "id": "-rxp4vHbCbAc"
   },
   "source": [
    "## Model Evaluation"
   ]
  },
  {
   "cell_type": "code",
   "execution_count": 56,
   "id": "aca6a446",
   "metadata": {
    "colab": {
     "base_uri": "https://localhost:8080/"
    },
    "id": "aca6a446",
    "outputId": "29c04686-b4d1-4de1-de90-217f2849be75"
   },
   "outputs": [
    {
     "name": "stdout",
     "output_type": "stream",
     "text": [
      "7/7 - 0s - loss: 0.5441 - binary_accuracy: 0.7426 - accuracy: 0.3457 - 163ms/epoch - 23ms/step\n"
     ]
    }
   ],
   "source": [
    "# #evaluate and store on score variable the test dataset\n",
    "score_lstm = model_lstm.evaluate(\n",
    "    X_val_enc,    \n",
    "    y_val_enc,             \n",
    "    batch_size=batch_size,   \n",
    "    verbose=2)\n"
   ]
  },
  {
   "cell_type": "code",
   "execution_count": 57,
   "id": "9sOTKuh4O6el",
   "metadata": {
    "colab": {
     "base_uri": "https://localhost:8080/"
    },
    "id": "9sOTKuh4O6el",
    "outputId": "cd564166-c1f9-464a-b4bb-1332c9523659"
   },
   "outputs": [
    {
     "name": "stdout",
     "output_type": "stream",
     "text": [
      "\n",
      "Validation binary_crossentropy: 0.544115424156189\n",
      "\n",
      "Validation binary accuracy: 74.264 %\n",
      "\n",
      "Validation accuracy: 34.571 %\n"
     ]
    }
   ],
   "source": [
    "print('\\nValidation binary_crossentropy: {}'.format(score_lstm[0]))\n",
    "print('\\nValidation binary accuracy: {:.3f} %'.format(score_lstm[1]*100))\n",
    "print('\\nValidation accuracy: {:.3f} %'.format(score_lstm[2]*100))"
   ]
  },
  {
   "cell_type": "code",
   "execution_count": 64,
   "id": "IUfX5aDmjZU7",
   "metadata": {
    "colab": {
     "base_uri": "https://localhost:8080/",
     "height": 1000
    },
    "id": "IUfX5aDmjZU7",
    "outputId": "7c4ad9cf-6e65-428c-c06c-a4d067e9b8b0"
   },
   "outputs": [
    {
     "data": {
      "image/png": "[encoded data removed]",
      "text/plain": [
       "<Figure size 864x432 with 1 Axes>"
      ]
     },
     "metadata": {
      "needs_background": "light"
     },
     "output_type": "display_data"
    },
    {
     "data": {
      "image/png": "[encoded data removed]",
      "text/plain": [
       "<Figure size 864x432 with 1 Axes>"
      ]
     },
     "metadata": {
      "needs_background": "light"
     },
     "output_type": "display_data"
    },
    {
     "data": {
      "image/png": "[encoded data removed]",
      "text/plain": [
       "<Figure size 864x432 with 1 Axes>"
      ]
     },
     "metadata": {
      "needs_background": "light"
     },
     "output_type": "display_data"
    },
    {
     "data": {
      "image/png": "[encoded data removed]",
      "text/plain": [
       "<Figure size 864x432 with 1 Axes>"
      ]
     },
     "metadata": {
      "needs_background": "light"
     },
     "output_type": "display_data"
    }
   ],
   "source": [
    "plot_keras_history(history_lstm)"
   ]
  },
  {
   "cell_type": "code",
   "execution_count": null,
   "id": "Y3NIUYi5s2S5",
   "metadata": {
    "id": "Y3NIUYi5s2S5"
   },
   "outputs": [],
   "source": [
    "# model_lstm.save_weights('model_lstm_weights.h5')"
   ]
  },
  {
   "cell_type": "markdown",
   "id": "6cada808",
   "metadata": {},
   "source": [
    "## Conclusion \n",
    "\n",
    "As we can observe, we implemented two RNN models in the current notebook, one Bidirectional GRU and one Bidirectional LSTM. These models did not perform as well as expected although they are highly recommended in text classification problems.\n",
    "\n",
    "***GRU:***\n",
    "\n",
    "Validation binary crossentropy: 0.547\n",
    "\n",
    "Validation binary accuracy: 73.62 %\n",
    "\n",
    "Validation accuracy: 35.21 %\n",
    "\n",
    "***LSTM:***\n",
    "\n",
    "Validation binary crossentropy: 0.544\n",
    "\n",
    "Validation binary accuracy: 74.26 %\n",
    "\n",
    "Validation accuracy: 34.57 %"
   ]
  }
 ],
 "metadata": {
  "accelerator": "GPU",
  "colab": {
   "collapsed_sections": [],
   "name": "RNN_Models.ipynb",
   "provenance": [],
   "toc_visible": true
  },
  "gpuClass": "standard",
  "kernelspec": {
   "display_name": "Python 3 (ipykernel)",
   "language": "python",
   "name": "python3"
  },
  "language_info": {
   "codemirror_mode": {
    "name": "ipython",
    "version": 3
   },
   "file_extension": ".py",
   "mimetype": "text/x-python",
   "name": "python",
   "nbconvert_exporter": "python",
   "pygments_lexer": "ipython3",
   "version": "3.9.7"
  }
 },
 "nbformat": 4,
 "nbformat_minor": 5
}
